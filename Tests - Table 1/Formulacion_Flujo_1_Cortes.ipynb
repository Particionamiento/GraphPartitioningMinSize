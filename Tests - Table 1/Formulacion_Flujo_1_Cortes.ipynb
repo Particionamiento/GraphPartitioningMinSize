{
 "cells": [
  {
   "cell_type": "markdown",
   "metadata": {},
   "source": [
    "# Problema de Particionamiento de un grafo en Componentes Conexas"
   ]
  },
  {
   "cell_type": "markdown",
   "metadata": {},
   "source": [
    "## Problema"
   ]
  },
  {
   "cell_type": "markdown",
   "metadata": {},
   "source": [
    "Dado un grafo general $G=(V, E)$ de $n$ nodos con peso determinado en sus arcos $d_{ij}$ para todo $\\{i,j\\}\\in E$, particionar el grafo en $k$ componentes conexas, donde $V=V_1, V_2,..., V_j$ con $V_i \\cap V_j=\\emptyset \\quad\\forall j \\in [k]$, con el objetivo de minimizar la distancia total. Todas estas componentes conexas deben tener incorporados a lo menos 2 nodos.\n"
   ]
  },
  {
   "cell_type": "markdown",
   "metadata": {},
   "source": [
    "### Variables"
   ]
  },
  {
   "cell_type": "markdown",
   "metadata": {},
   "source": [
    "$y_i^{c}=\\left \\{ \\begin{matrix} 1, &\\mbox{si }i\\in V_c\n",
    "\\\\ 0, &\\mbox{otro }\\end{matrix}\\right.$"
   ]
  },
  {
   "cell_type": "markdown",
   "metadata": {},
   "source": [
    "$x_{ij}^{c}=\\left \\{ \\begin{matrix} 1, &\\mbox{si los nodos } i, j \\in V_c \\mbox{ y además la arista } \\{i,j\\}\\in E\n",
    "\\\\ 0, &\\mbox{otro }\\end{matrix}\\right.$"
   ]
  },
  {
   "cell_type": "markdown",
   "metadata": {},
   "source": [
    "$f_{ij}^{c}=\\left \\{ \\begin{matrix} 1, &\\mbox{si los nodos } i, j \\in V_c \\mbox{ con la arista } \\{i,j\\}\\notin E\n",
    "\\\\ 0, &\\mbox{otro }\\end{matrix}\\right.$"
   ]
  },
  {
   "cell_type": "markdown",
   "metadata": {},
   "source": [
    "$z_{il}^{jc} \\in \\mathbb {Z}^{+}$ es la cantidad de flujo en el arco $\\{i,l\\}\\in E$, en la componente $c$, que tiene como fuente el nodo $j$"
   ]
  },
  {
   "cell_type": "markdown",
   "metadata": {},
   "source": [
    "### Modelo"
   ]
  },
  {
   "cell_type": "markdown",
   "metadata": {},
   "source": [
    "\\begin{align}\n",
    "\\min &\\sum_{\\{i,j\\} \\in E} d_{ij}\\, x_{ij}^{c}\\\\\n",
    "\\text{s.a.} & \\\\\n",
    "&\\sum_{c\\in [K]} y_i^{c} = 1, \\qquad\\qquad \\forall i \\in V,\\\\\n",
    "&y_i^{c}+y_j^{c}-x_{ij}^{c} \\,\\,\\leq 1, \\quad \\,\\forall \\{i,j\\}\\in E, \\quad \\forall c \\in [k],\\\\\n",
    "&y_i^{c}+y_j^{c}-2x_{ij}^{c} \\geq 0, \\quad \\forall \\{i,j\\}\\in E, \\quad \\forall c \\in [k],\\\\\n",
    "&y_i^{c}+y_j^{c}-f_{ij}^{c} \\,\\,\\leq 1, \\quad \\,\\forall \\{i,j\\}\\notin E, \\quad \\forall c \\in [k],\\\\\n",
    "&y_i^{c}+y_j^{c}-2f_{ij}^{c} \\geq 0, \\quad \\,\\forall \\{i,j\\}\\notin E, \\quad \\forall c \\in [k],\\\\\n",
    "&z_{il}^{jc}+z_{li}^{jc} \\,\\,\\leq M\\,x_{il}^{c}, \\,\\quad \\,\\forall \\{i,j\\}\\in E, \\quad \\forall j \\in V, \\quad \\forall c \\in [k], \\quad M>2(n-1)\\\\\n",
    "&\\sum_{\\{i,j\\} \\in E} z_{il}^{jc} - \\sum_{\\{l,r\\} \\in E} z_{lr}^{jc}=\\left \\{ \\begin{matrix} -\\sum_{p \\in V} f_{lp}^{c}, &\\mbox{si } l=j\\\\ f_{jl}^{c}, &l \\ne j\\end{matrix}\\right., \\quad \\forall j,l \\in V,c\\in[k] \\\\\n",
    "&\\sum_{i\\in V} y_i^{c} \\geq 2, \\qquad\\qquad \\forall c \\in [k],\\\\\n",
    "&y_i^{c} \\in \\{0, 1\\}, \\qquad\\, \\forall i \\in V, \\qquad\\,\\,\\,\\, \\forall c \\in [k],\\\\\n",
    "&x_{ij}^{c}\\in \\{0, 1\\}, \\qquad \\forall \\{i,j\\}\\in E, \\quad \\forall c \\in [k],\\\\\n",
    "&f_{ij}^{c}\\in \\{0, 1\\}, \\qquad \\forall \\{i,j\\}\\notin E, \\quad \\forall c \\in [k],\\\\\n",
    "&z_{il}^{jc} \\in \\mathbb {Z}^{+}, \\qquad\\quad \\forall \\{i,l\\}\\in E, \\quad \\forall j \\in V, \\quad \\forall c \\in [k].\\\\\n",
    "\\end{align}"
   ]
  },
  {
   "cell_type": "markdown",
   "metadata": {},
   "source": [
    "## Grafo"
   ]
  },
  {
   "cell_type": "code",
   "execution_count": 1,
   "metadata": {
    "code_folding": []
   },
   "outputs": [],
   "source": [
    "# PAQUETES\n",
    "# Gurobi Python Interface\n",
    "# https://www.gurobi.com/documentation/8.1/quickstart_windows/py_python_interface\n",
    "from   gurobipy   import *\n",
    "import pandas as pd    # https://pandas.pydata.org/\n",
    "import numpy  as np    # Numpy\n",
    "import igraph as ig\n",
    "import random as r\n",
    "import time\n",
    "import networkx as nx\n",
    "import matplotlib.pyplot as plt\n",
    "import matplotlib.ticker as mticker\n",
    "from igraph import *"
   ]
  },
  {
   "cell_type": "code",
   "execution_count": 2,
   "metadata": {},
   "outputs": [],
   "source": [
    "# Aliases\n",
    "seeds = np.random.seed"
   ]
  },
  {
   "cell_type": "markdown",
   "metadata": {},
   "source": [
    "## Ingresando Manualmente el grafo"
   ]
  },
  {
   "cell_type": "code",
   "execution_count": 3,
   "metadata": {},
   "outputs": [
    {
     "name": "stdout",
     "output_type": "stream",
     "text": [
      "Graph with 30 nodes and 29 edges\n",
      "El costo del grafo es: 148\n"
     ]
    }
   ],
   "source": [
    "#INSTANCIA (70, 9) TERCERA ITERACION\n",
    "n = 70;\n",
    "m = 800;\n",
    "seed = 63\n",
    "# Generar un grafo de forma aleatoria con n nodos y m aristas\n",
    "G = nx.dense_gnm_random_graph(n, m, seed)\n",
    "V = G.nodes                                 # Conjunto de nodos\n",
    "A = G.edges                                 # Conjunto de aristas\n",
    "seeds(63)                                  # Fijamos la semilla de números aleatorios\n",
    "W = np.random.randint(1,10, len(A))   # Creamos un vector de pesos aleatorios\n",
    "\n",
    "for i, e in enumerate(A()):\n",
    "    G[e[0]][e[1]]['w'] = W[i]               # Para corroborar: G[e[0]][e[1]]['w']\n",
    "print(nx.info(G))\n",
    "#print(nx.get_edge_attributes(G, 'w'))\n",
    "costo = sum([ G[a[0]][a[1]]['w'] for a in G.edges])\n",
    "print(\"El costo del grafo es:\", costo)"
   ]
  },
  {
   "cell_type": "code",
   "execution_count": 4,
   "metadata": {},
   "outputs": [
    {
     "data": {
      "image/png": "[encoded data removed]",
      "text/plain": [
       "<Figure size 1080x720 with 1 Axes>"
      ]
     },
     "metadata": {},
     "output_type": "display_data"
    }
   ],
   "source": [
    "plt.figure(figsize=(15,10))\n",
    "nx.draw(G, nx.spring_layout(G), with_labels=True)\n",
    "plt.draw()"
   ]
  },
  {
   "cell_type": "code",
   "execution_count": 5,
   "metadata": {},
   "outputs": [
    {
     "name": "stdout",
     "output_type": "stream",
     "text": [
      "True\n"
     ]
    }
   ],
   "source": [
    "print(nx.is_connected(G))"
   ]
  },
  {
   "cell_type": "code",
   "execution_count": 6,
   "metadata": {},
   "outputs": [],
   "source": [
    "#print(nx.get_edge_attributes(G, 'w'))"
   ]
  },
  {
   "cell_type": "code",
   "execution_count": 7,
   "metadata": {},
   "outputs": [],
   "source": [
    "d = nx.get_edge_attributes(G, 'w')\n",
    "B = [(j,i) for (i,j) in d.keys()]\n",
    "NA = list(nx.non_edges(G))\n",
    "A=list(G.edges())"
   ]
  },
  {
   "cell_type": "markdown",
   "metadata": {},
   "source": [
    "### Información del grafo"
   ]
  },
  {
   "cell_type": "code",
   "execution_count": 8,
   "metadata": {
    "code_folding": [
     0
    ]
   },
   "outputs": [],
   "source": [
    "# Compilar esta linea después de la linea anterior cuando ingresamos manualmente el grafo\n",
    "V    = G.nodes\n",
    "n = len(V)\n",
    "M = 2*n;\n"
   ]
  },
  {
   "cell_type": "code",
   "execution_count": 9,
   "metadata": {},
   "outputs": [
    {
     "name": "stdout",
     "output_type": "stream",
     "text": [
      "[0, 1, 2, 3, 4, 5, 6, 7, 8, 9, 10, 11, 12, 13, 14, 15, 16, 17, 18, 19, 20, 21, 22, 23, 24, 25, 26, 27, 28, 29]\n"
     ]
    }
   ],
   "source": [
    "print(V)"
   ]
  },
  {
   "cell_type": "markdown",
   "metadata": {},
   "source": [
    "### Información de la instancia"
   ]
  },
  {
   "cell_type": "code",
   "execution_count": 10,
   "metadata": {},
   "outputs": [],
   "source": [
    "c = 9;     C = tuplelist(range(c));\n",
    "γ = 2              # numero de nodos minimo"
   ]
  },
  {
   "cell_type": "code",
   "execution_count": 11,
   "metadata": {},
   "outputs": [
    {
     "name": "stdout",
     "output_type": "stream",
     "text": [
      "{0: 29, 1: 28, 2: 27, 3: 26, 4: 25, 5: 24, 6: 23, 7: 22, 8: 21, 9: 20, 10: 19, 11: 18, 12: 17, 13: 16, 14: 15, 15: 15, 16: 16, 17: 17, 18: 18, 19: 19, 20: 20, 21: 21, 22: 22, 23: 23, 24: 24, 25: 25, 26: 26, 27: 27, 28: 28, 29: 29}\n",
      "El número máximo de nodos es:  29\n",
      "La máxima distancia entre un par de nodos es:  29\n",
      "Existe el conjunto L\n"
     ]
    }
   ],
   "source": [
    "d_s = nx.shortest_path_length(G)\n",
    "dis   = {a: {e:f for e,f in b.items() if f > 0} for a,b in d_s }\n",
    "d_m = {a: max(b.values()) for a,b in dis.items()}\n",
    "d_m_copy = {a: max(b.values()) for a,b in dis.items()}\n",
    "print(d_m)\n",
    "n_γ = n-(c-1)*γ\n",
    "print(\"El número máximo de nodos es: \", n_γ)\n",
    "max_dis = max(d_m_copy.items(), key = lambda x: x[1])\n",
    "print(\"La máxima distancia entre un par de nodos es: \",max_dis[1])\n",
    "distanciasGrandes=[b for b in d_m.values() if b>= n_γ]\n",
    "minmax=0\n",
    "if distanciasGrandes != []:\n",
    "    minmax=min(distanciasGrandes)\n",
    "Nodos_max_dis=[a for a,b in d_m.items() if b>= n_γ]\n",
    "\n",
    "if minmax >= n_γ:\n",
    " #   Nodos_max_dis = []\n",
    "    print(\"Existe el conjunto L\")\n",
    "    # guardamos en un conjunto todos los nodos que cumplen la condición de arriba\n",
    "   # while max_dis[1] >= n_γ:\n",
    "        #lo agregamos\n",
    "    #    Nodos_max_dis.append(max_dis[0])\n",
    "        # lo borramos\n",
    "     #   del d_m_copy[max_dis[0]]\n",
    "        # lo volvemos a calcular\n",
    "      #  max_dis = max(d_m_copy.items(), key = lambda x: x[1])\n",
    "    #print(\"los nodos que están muy lejos son: \", Nodos_max_dis)\n",
    "    \n",
    "    # ahora vamos a almacenar los pares de nodos con distancia >= n_γ\n",
    "else:\n",
    "    print(\"Por lo tanto, no existe el conjunto L\")\n",
    "    print(\"NO HAY RESTRICCIÓN DE CORTE 5\")\n",
    "    "
   ]
  },
  {
   "cell_type": "code",
   "execution_count": 12,
   "metadata": {
    "code_folding": []
   },
   "outputs": [],
   "source": [
    "#Nodos_max_dis"
   ]
  },
  {
   "cell_type": "markdown",
   "metadata": {},
   "source": [
    "### Arcos entrantes y salientes del grafo\n",
    "#### Compilar la siguiente linea ya sea si el grafo ingresa de forma aleatoria o manualmente"
   ]
  },
  {
   "cell_type": "code",
   "execution_count": 13,
   "metadata": {
    "code_folding": [
     0
    ]
   },
   "outputs": [],
   "source": [
    "# crear diccionarios de arcos salientes / entrantes\n",
    "salientes = {i : [(j,k) for (k,j) in A if j==i]+[(k,j) for (k,j) in A if k==i] for i in V}\n",
    "entrantes = {i : [(j,k) for (j,k) in A if k==i]+[(j,k) for (k,j) in A if k==i] for i in V}\n"
   ]
  },
  {
   "cell_type": "markdown",
   "metadata": {},
   "source": [
    "<div class=\"alert alert-block alert-info\">\n",
    "<b>Modelo</b>\n",
    "\n",
    "1. $x:$ es un diccionario para almacenar la variable binaria $x_{ij}^{c}$,\n",
    "2. $y:$ es un diccionario para almacenar la variable binaria $y_j^c$,\n",
    "3. $f:$ es un diccionario para almacenar la variable binaria $f_{ij}^{c}$,\n",
    "4. $z:$ es un diccionario para almacenar la variable tipo entero positivo $z_{il}^{jc}$\n",
    "</div>"
   ]
  },
  {
   "cell_type": "code",
   "execution_count": 26,
   "metadata": {
    "scrolled": true
   },
   "outputs": [
    {
     "name": "stdout",
     "output_type": "stream",
     "text": [
      "Freeing default Gurobi environment\n"
     ]
    }
   ],
   "source": [
    "if 'mo' in globals():        mo.dispose();    disposeDefaultEnv();    del mo"
   ]
  },
  {
   "cell_type": "code",
   "execution_count": 27,
   "metadata": {
    "code_folding": [
     0
    ]
   },
   "outputs": [
    {
     "name": "stdout",
     "output_type": "stream",
     "text": [
      "Set parameter Username\n",
      "Academic license - for non-commercial use only - expires 2022-10-17\n"
     ]
    }
   ],
   "source": [
    "# Modelo:\n",
    "mo = Model()\n",
    "x = {} # diccionario para la variable x\n",
    "y = {} # diccionario para la variable y\n",
    "f = {} # diccionario para la variable f\n",
    "z = {} # diccionario para la variable z\n",
    "\n",
    "mo.update()"
   ]
  },
  {
   "cell_type": "code",
   "execution_count": 28,
   "metadata": {},
   "outputs": [],
   "source": [
    "# esta variable es para el modelo relajado\n",
    "#m = {} # diccionario para la variable x"
   ]
  },
  {
   "cell_type": "markdown",
   "metadata": {},
   "source": [
    "### Creación de Variables"
   ]
  },
  {
   "cell_type": "code",
   "execution_count": 29,
   "metadata": {},
   "outputs": [
    {
     "name": "stdout",
     "output_type": "stream",
     "text": [
      "El tiempo que toma crear las variables es: 0.03841209411621094\n"
     ]
    }
   ],
   "source": [
    "# Variables\n",
    "start = time.time()\n",
    "# x_i_j_k\n",
    "x = mo.addVars(A, C, vtype = GRB.BINARY, name=\"x\", lb = 0)\n",
    "\n",
    "# y_i_k\n",
    "y = mo.addVars(V, C, vtype = GRB.BINARY, name=\"y\", lb = 0)\n",
    "       \n",
    "# f_i_j_k\n",
    "f = mo.addVars(NA, C, vtype = GRB.BINARY, name=\"f\", lb = 0)\n",
    "       \n",
    "# z_i_l_j_k\n",
    "z = mo.addVars(A+B, V, C, vtype = GRB.INTEGER, name=\"z\", lb = 0)\n",
    "end = time.time()\n",
    "print ('El tiempo que toma crear las variables es:', end-start)\n",
    "mo.update()"
   ]
  },
  {
   "cell_type": "markdown",
   "metadata": {},
   "source": [
    "### Función objetivo"
   ]
  },
  {
   "cell_type": "code",
   "execution_count": 30,
   "metadata": {
    "code_folding": [
     0
    ]
   },
   "outputs": [
    {
     "name": "stdout",
     "output_type": "stream",
     "text": [
      "El tiempo que toma crear la función objetivo es: 0.001789093017578125\n"
     ]
    }
   ],
   "source": [
    "# Función objetivo\n",
    "start = time.time()\n",
    "obj=quicksum(x[i,j,k]*d[i,j] for (i,j) in A for k in range(c))\n",
    "mo.setObjective(obj, GRB.MINIMIZE)\n",
    "end = time.time()\n",
    "print ('El tiempo que toma crear la función objetivo es:', end-start)\n",
    "mo.update()"
   ]
  },
  {
   "cell_type": "markdown",
   "metadata": {},
   "source": [
    "### Restricciones"
   ]
  },
  {
   "cell_type": "markdown",
   "metadata": {},
   "source": [
    "<div class=\"alert alert-block alert-info\">\n",
    "<b>Restricción de pertenencia</b>\n",
    "    \n",
    "    \n",
    "Esta restricción garantiza que cada nodo pertenezca exactamente a una sola componente conexa.\n",
    "</div>"
   ]
  },
  {
   "cell_type": "code",
   "execution_count": 31,
   "metadata": {
    "code_folding": [
     0
    ]
   },
   "outputs": [
    {
     "name": "stdout",
     "output_type": "stream",
     "text": [
      "El tiempo que toma crear estas restricciones son: 0.0010380744934082031\n"
     ]
    }
   ],
   "source": [
    "# Restricción de pertenencia\n",
    "start = time.time() \n",
    "for i in V:\n",
    "    r_name = \"Res_pertenencia_\" + str(i)\n",
    "    mo.addConstr(quicksum(y[i,k] for k in range(c)) == 1, name = r_name)\n",
    "end = time.time()\n",
    "print ('El tiempo que toma crear estas restricciones son:', end-start)"
   ]
  },
  {
   "cell_type": "markdown",
   "metadata": {},
   "source": [
    "<div class=\"alert alert-block alert-info\">\n",
    "<b>Restricción de pertenencia de aristas</b> \n",
    "    \n",
    "Esta restricción garantiza que si los nodos $i, j \\in V_c \\mbox{ y además la arista } \\{i,j\\}\\in E$ entonces la \n",
    "arista $(i,j)$ también estará en la misma componente conexa que los nodos $i$ y $j$.\n",
    "\n",
    "</div>"
   ]
  },
  {
   "cell_type": "code",
   "execution_count": 32,
   "metadata": {
    "code_folding": [
     0
    ]
   },
   "outputs": [
    {
     "name": "stdout",
     "output_type": "stream",
     "text": [
      "El tiempo que toma crear estas restricciones son: 0.004194974899291992\n"
     ]
    }
   ],
   "source": [
    "# Restricción de arristas que pertenecen a V_c\n",
    "start = time.time()\n",
    "cont1=0\n",
    "for k in range(c):\n",
    "    for (i,j) in A:\n",
    "        cont1+=1\n",
    "        w_name = \"Res_arista_per\" + str(cont1)\n",
    "        mo.addConstr(y[i,k]+y[j,k]-x[i,j,k] <= 1, name = w_name)\n",
    "cont2=0\n",
    "for k in range(c):\n",
    "    for (i,j) in A:\n",
    "        cont2+=1\n",
    "        t_name = \"Res_arista2_per\" + str(cont2)\n",
    "        mo.addConstr(y[i,k]+y[j,k]-2*x[i,j,k] >= 0, name = t_name)\n",
    "\n",
    "end = time.time()\n",
    "print ('El tiempo que toma crear estas restricciones son:', end-start)"
   ]
  },
  {
   "cell_type": "markdown",
   "metadata": {},
   "source": [
    "<div class=\"alert alert-block alert-info\">\n",
    "<b>Restricción de pertenencia de aristas que no están en el grafo</b> \n",
    "    \n",
    "Esta restricción garantiza que si los nodos $i, j \\in V_c \\mbox{ y además la arista } \\{i,j\\}\\notin E$ entonces se crea una arista articial $(i,j)$, la cual también estará en la misma componente conexa que los nodos $i$ y $j$.\n",
    "\n",
    "</div>"
   ]
  },
  {
   "cell_type": "code",
   "execution_count": 33,
   "metadata": {
    "code_folding": [
     0
    ]
   },
   "outputs": [
    {
     "name": "stdout",
     "output_type": "stream",
     "text": [
      "El tiempo que toma crear estas restricciones es: 0.030957937240600586\n"
     ]
    }
   ],
   "source": [
    "# Restricción de aristas que no pertenecen a E\n",
    "start = time.time()\n",
    "cont3=0\n",
    "for k in range(c):\n",
    "    for (i,j) in NA:\n",
    "        cont3+=1\n",
    "        p_name = \"Res_f_arista_per\" + str(cont3)\n",
    "        mo.addConstr(y[i,k]+y[j,k]-f[i,j,k] <= 1, name = p_name)\n",
    "\n",
    "cont4=0\n",
    "for k in range(c):\n",
    "    for (i,j) in NA:\n",
    "        cont4+=1\n",
    "        p2_name = \"Res_f_arista2_per\" + str(cont4)\n",
    "        mo.addConstr(y[i,k]+y[j,k]-2*f[i,j,k] >= 0, name = p2_name)\n",
    "end = time.time()\n",
    "print ('El tiempo que toma crear estas restricciones es:', end-start)\n",
    "mo.update()"
   ]
  },
  {
   "cell_type": "markdown",
   "metadata": {},
   "source": [
    "<div class=\"alert alert-block alert-info\">\n",
    "<b>Restricciones de flujo y cardinalidad</b> \n",
    " \n",
    "Estas restricciones garantizan que cada subgrafo será una componente conexa y además cada componente tenga al menos 2 nodos.\n",
    "</div>"
   ]
  },
  {
   "cell_type": "code",
   "execution_count": 34,
   "metadata": {
    "code_folding": [
     0
    ]
   },
   "outputs": [
    {
     "name": "stdout",
     "output_type": "stream",
     "text": [
      "El tiempo que toma crear estas restricciones es: 0.034626007080078125\n"
     ]
    }
   ],
   "source": [
    "# Restricciones de Flujo:\n",
    "# Restricción de flujo 1\n",
    "start = time.time()\n",
    "cont5=0\n",
    "for k in range(c):\n",
    "    for (i,l) in A:\n",
    "        cont5+=1\n",
    "        v_name = \"Res_1_flujo\" + str(cont5)\n",
    "        sumaz = quicksum(z[i,l,j,k]+z[l,i,j,k] for j in V)\n",
    "        mo.addConstr(sumaz <= M*x[i,l,k], name = v_name)\n",
    "    #así estaba antes la restricción\n",
    "    #for j in V:\n",
    "     #   for (i,l) in A:\n",
    "      #      cont5+=1\n",
    "       #     v_name = \"Res_1_flujo\" + str(cont5)\n",
    "        #    mo.addConstr(z[i,l,j,k]+z[l,i,j,k]<=M*x[i,l,k], name = v_name)\n",
    "            \n",
    "# Restricción de flujo 2\n",
    "cont6=0\n",
    "cont7=0\n",
    "for k in range(c):\n",
    "    for j in V:\n",
    "        for l in V:\n",
    "            if l==j:\n",
    "                cont6+=1\n",
    "                s_name = \"Res_2_flujo\" + str(cont6)\n",
    "                sum1 = quicksum(z[i,l,j,k] for (i,l) in entrantes[j]) #arcos entrantes\n",
    "                sum2 = quicksum(z[l,r,j,k] for (l,r) in salientes[j]) #arcos salientes\n",
    "                suma = sum1-sum2\n",
    "                tot1 = quicksum(f[l,p,k] for (m,p) in NA if m==l)\n",
    "                #tot2 = quicksum(f[p,l,k] for p in range(n) if l>p and np.array(D)[p,l]==0)\n",
    "                tot3 = tot1\n",
    "                mo.addConstr(suma==-tot3, name = s_name)\n",
    "            if j>l:\n",
    "                continue;\n",
    "            if j<l and (j,l) in NA:\n",
    "                cont7+=1\n",
    "                d_name = \"Res_3_flujo\" + str(cont7)\n",
    "                term1 = quicksum(z[i,l,j,k] for (i,l) in entrantes[l])\n",
    "                term2 = quicksum(z[l,r,j,k] for (l,r) in salientes[l])\n",
    "                term  = term1 - term2\n",
    "                tot   = f[j,l,k]\n",
    "                mo.addConstr(term==tot, name = d_name)\n",
    "            if j<l and (j,l) in A:\n",
    "                cont7+=1\n",
    "                d_name = \"Res_3_flujo\" + str(cont7)\n",
    "                term1 = quicksum(z[i,l,j,k] for (i,l) in entrantes[l])\n",
    "                term2 = quicksum(z[l,r,j,k] for (l,r) in salientes[l])\n",
    "                term  = term1 - term2\n",
    "                tot   = 0\n",
    "                mo.addConstr(term==tot, name = d_name)\n",
    "\n",
    "# Restricción de cardinalidad\n",
    "for k in range(c):\n",
    "    c_name = \"Res_cardinalidad_\" + str(k+1)\n",
    "    mo.addConstr(quicksum(y[i,k] for i in V) >= γ, name = c_name)\n",
    "    \n",
    "# Restricción de corte para flujos en ciclos\n",
    "#cont8=0\n",
    "#for k in range(c):\n",
    " #   for j in V:\n",
    "  #      cont8+=1\n",
    "   #     v_name = \"Res_corte_flujo_\" + str(cont8)\n",
    "    #    co = LinExpr()\n",
    "     #   for (i,l) in A:\n",
    "      #      co += (z[i,l,j,k]+z[l,i,j,k])\n",
    "       # mo.addConstr(co<=M*n*y[j,k], name = v_name)\n",
    "end = time.time()\n",
    "print ('El tiempo que toma crear estas restricciones es:', end-start)"
   ]
  },
  {
   "cell_type": "markdown",
   "metadata": {
    "heading_collapsed": true
   },
   "source": [
    "### Restricciones de Corte"
   ]
  },
  {
   "cell_type": "markdown",
   "metadata": {
    "hidden": true
   },
   "source": [
    "<div class=\"alert alert-block alert-info\">\n",
    "<b>Restricción de corte de límite inferior: LBC 1</b>\n",
    "    \n",
    "    \n",
    "Esta restricción signifia que si hay $F_l$ nodos en una componente, deberían existir al menos $F_l$-1 arcos para que sea conexa..\n",
    "</div>"
   ]
  },
  {
   "cell_type": "markdown",
   "metadata": {
    "hidden": true
   },
   "source": [
    "$$\n",
    "\\sum_{(i,j)\\in E}x_{ij}^c \\geq \\sum_{i\\in V} y_i^c-1, \\forall c\\in [k]. \n",
    "$$"
   ]
  },
  {
   "cell_type": "code",
   "execution_count": 26,
   "metadata": {
    "hidden": true
   },
   "outputs": [
    {
     "name": "stdout",
     "output_type": "stream",
     "text": [
      "El tiempo que toma crear estas restricciones son: 0.0\n"
     ]
    }
   ],
   "source": [
    "# Restricción de corte LC\n",
    "start = time.time() \n",
    "JOTA=0\n",
    "for k in C:\n",
    "    rc1_name = \"Res_corte_1_\" + str(k)\n",
    "    mo.addConstr(quicksum(x[i,j,k] for (i,j) in A)-quicksum(y[i,k] for i in V) >= -1, name = rc1_name)\n",
    "end = time.time()\n",
    "print ('El tiempo que toma crear estas restricciones son:', end-start)"
   ]
  },
  {
   "cell_type": "markdown",
   "metadata": {
    "hidden": true
   },
   "source": [
    "<div class=\"alert alert-block alert-info\">\n",
    "<b>Restricción de corte de límite inferior: LBC 2</b>\n",
    "    \n",
    "Número mínimo de aristas en una $k$-partición conexa\n",
    "</div>"
   ]
  },
  {
   "cell_type": "markdown",
   "metadata": {
    "hidden": true
   },
   "source": [
    "$$\n",
    "\\sum_{c\\in [k]}\\sum_{\\{i,j\\}\\in A} x_{ij}^c \\geq n-k \n",
    "$$"
   ]
  },
  {
   "cell_type": "code",
   "execution_count": 25,
   "metadata": {
    "hidden": true
   },
   "outputs": [
    {
     "name": "stdout",
     "output_type": "stream",
     "text": [
      "El tiempo que toma crear estas restricciones son: 0.0\n"
     ]
    }
   ],
   "source": [
    "# Restricción de corte 2\n",
    "start = time.time() \n",
    "rc2_name = \"Res_corte_2\"\n",
    "mo.addConstr(quicksum(quicksum(x[i,j,k] for (i,j) in A) for k in C) >= n-c, name = rc2_name)\n",
    "end = time.time()\n",
    "print ('El tiempo que toma crear estas restricciones son:', end-start)"
   ]
  },
  {
   "cell_type": "markdown",
   "metadata": {
    "hidden": true
   },
   "source": [
    "<div class=\"alert alert-block alert-info\">\n",
    "<b>Restricción de Camino más corto: SPC</b> \n",
    "\\begin{equation}\n",
    "    \\text{Sean } u,v\\in V.\\\\ \\text{Si } d(u,v)\\geq n-(k-1)\\gamma\\\\\n",
    "\\end{equation}  \n",
    "</div>"
   ]
  },
  {
   "cell_type": "markdown",
   "metadata": {
    "hidden": true
   },
   "source": [
    "$$\n",
    "\\Rightarrow y_u^c+y_v^c \\leq 1, \\qquad\\qquad \\forall c\\in [k]\n",
    "$$"
   ]
  },
  {
   "cell_type": "code",
   "execution_count": null,
   "metadata": {
    "hidden": true
   },
   "outputs": [],
   "source": [
    "d_s = nx.shortest_path_length(G)\n",
    "dis   = {a: {e:f for e,f in b.items() if f > 0} for a,b in d_s }\n",
    "d_m = {a: max(b.values()) for a,b in dis.items()}\n",
    "d_m_copy = {a: max(b.values()) for a,b in dis.items()}\n",
    "print(d_m)\n",
    "n_γ = n-(c-1)*γ\n",
    "print(\"El número máximo de nodos es: \", n_γ)\n",
    "max_dis = max(d_m_copy.items(), key = lambda x: x[1])\n",
    "print(\"La máxima distancia entre un par de nodos es: \",max_dis[1])\n",
    "distanciasGrandes=[b for b in d_m.values() if b>= n_γ]\n",
    "minmax=0\n",
    "if distanciasGrandes != []:\n",
    "    minmax=min(distanciasGrandes)\n",
    "Nodos_max_dis=[a for a,b in d_m.items() if b>= n_γ]\n",
    "\n",
    "#if minmax >= n_γ:\n",
    " #   Nodos_max_dis = []\n",
    "    # guardamos en un conjunto todos los nodos que cumplen la condición de arriba\n",
    "   # while max_dis[1] >= n_γ:\n",
    "        #lo agregamos\n",
    "    #    Nodos_max_dis.append(max_dis[0])\n",
    "        # lo borramos\n",
    "     #   del d_m_copy[max_dis[0]]\n",
    "        # lo volvemos a calcular\n",
    "      #  max_dis = max(d_m_copy.items(), key = lambda x: x[1])\n",
    "    #print(\"los nodos que están muy lejos son: \", Nodos_max_dis)\n",
    "    \n",
    "    # ahora vamos a almacenar los pares de nodos con distancia >= n_γ\n",
    "if minmax >= n_γ:\n",
    "    print(\"Existe el conjunto L\")\n",
    "    d_i = {a: {e: [] for e in range(n_γ,b+1) } for a,b in d_m.items() if b >= n_γ} #a in Nodos_max_dis\n",
    "    pares = [] # almacenamos el conjunto (u,v) que están separados mayor o igual a F_U\n",
    "    for a in Nodos_max_dis:\n",
    "        for b,e in dis[a].items():\n",
    "            if e >= n_γ and b > a: # no repetimos las comparaciones entre cada par de nodos\n",
    "                d_i[a][e].append(b)\n",
    "                pares.append((a,b))\n",
    "    # Creamos la retricción de corte 5 solo si se puede\n",
    "    start = time.time()\n",
    "    cont8=0\n",
    "    for k in C:\n",
    "        for (u,v) in pares:\n",
    "            cont8+=1\n",
    "            rc5_name = \"Res_corte_5_\" + str(cont8)\n",
    "            mo.addConstr(y[u,k]+y[v,k] <= 1, name = rc5_name)\n",
    "\n",
    "    end = time.time()\n",
    "    print ('El tiempo que toma crear estas restricciones son:', end-start)\n",
    "else:\n",
    "    print(\"Por lo tanto, no existe el conjunto L\")\n",
    "    print(\"NO HAY RESTRICCIÓN DE CORTE 5\")\n",
    "    "
   ]
  },
  {
   "cell_type": "markdown",
   "metadata": {
    "hidden": true
   },
   "source": [
    "<div class=\"alert alert-block alert-info\">\n",
    "<b>Si L diferente de vacío</b> \n",
    "\\begin{equation}\n",
    "    y_{l_i}^i=1, \\qquad\\qquad \\forall l_i\\in L\\\\\n",
    "    y_{l_i}^j=0, \\qquad\\qquad \\forall i \\neq j\\\\\n",
    "    y_{u}^i=1, y_{u}^j=0 \\qquad\\qquad \\forall u\\in N(l_i), v\\in L\\text{ sin }{l_i} \\text{ tal que } d(u,v)\\geq F_U, i\\neq j\\\\\n",
    "    x_{u,v}^j = 0, \\qquad\\qquad \\forall u\\in N(l_i), v\\in L\\text{ sin }{l_i} \\text{ tal que } d(u,v)\\geq F_U, i\\neq j\n",
    "\\end{equation}  \n",
    "</div>"
   ]
  },
  {
   "cell_type": "code",
   "execution_count": null,
   "metadata": {
    "hidden": true
   },
   "outputs": [],
   "source": [
    "# Creamos el conjunto L\n",
    "#L=[a for a,b in d_m.items() if b>= n_γ]\n"
   ]
  },
  {
   "cell_type": "markdown",
   "metadata": {
    "hidden": true
   },
   "source": [
    "<div class=\"alert alert-block alert-info\">\n",
    "<b>Corte 1: Leaf Cuts</b> \n",
    "\\begin{equation}\n",
    "    \\sum_{c\\in [k]} y_i^c+y_j^c = 2, \\qquad\\qquad \\forall \\{i,j\\}\\in A, \\delta(i)=1 ,\\\\\n",
    "    \\sum_{c\\in [k]} x_{ij}^c = 1, \\qquad\\qquad \\forall \\{i,j\\}\\in A, \\delta(i)=1 ,\\\\\n",
    "\\end{equation}  \n",
    "Un nodo de grado 1 debe pertener a la misma componente de su vecino\n",
    "</div>"
   ]
  },
  {
   "cell_type": "code",
   "execution_count": null,
   "metadata": {
    "hidden": true
   },
   "outputs": [],
   "source": [
    "grados = dict(nx.degree(G))\n",
    "#print(grados)\n",
    "hojas = []\n",
    "grados=dict(nx.degree(G))\n",
    "grados[2]\n",
    "for a,b in grados.items():\n",
    "    if b == 1:\n",
    "        hojas.append(a)\n",
    "print(hojas)"
   ]
  },
  {
   "cell_type": "code",
   "execution_count": null,
   "metadata": {
    "hidden": true
   },
   "outputs": [],
   "source": [
    "A_hojas = nx.edges(G, hojas)\n",
    "print(A_hojas)\n",
    "# notar que las aristas son incidentes a los nodos en el conjunto \"hojas\"\n",
    "if hojas != []:\n",
    "    # Creamos las restricciones de corte de hoja\n",
    "    start = time.time()\n",
    "    cont9=0\n",
    "    for (i,j) in A_hojas:\n",
    "        cont9+=1\n",
    "        rc1_name = \"leaf_cut_1_\" + str(cont9)\n",
    "        mo.addConstr(quicksum(y[i,k]+y[j,k] for k in C) == 2, name = rc1_name)\n",
    "        # fijamos las variables xij en 1\n",
    "        if i < j:\n",
    "            rc1_1_name = \"leaf_cut_2_\" + str(cont9)\n",
    "            mo.addConstr(quicksum(x[i,j,k] for k in C) == 1, name = rc1_1_name)\n",
    "        else:\n",
    "            rc1_1_name = \"leaf_cut_2_\" + str(cont9)\n",
    "            mo.addConstr(quicksum(x[j,i,k] for k in C) == 1, name = rc1_1_name)\n",
    "    mo.update();\n",
    "    end = time.time()\n",
    "    print ('El tiempo que toma crear estas restricciones son:', end-start)\n"
   ]
  },
  {
   "cell_type": "markdown",
   "metadata": {
    "hidden": true
   },
   "source": [
    "<div class=\"alert alert-block alert-info\">\n",
    "<b>Corte 1: S-Cuts</b> \n",
    "Let $S\\subset V$ such that $|S| < F_L$. Then \n",
    "$$\n",
    "\\sum_{c\\in [k]} \\sum_{ \\{i,j\\}\\in \\delta (S)} x_{ij}^c\\geq 1\n",
    "$$  \n",
    "\n",
    "</div>"
   ]
  },
  {
   "cell_type": "code",
   "execution_count": null,
   "metadata": {
    "code_folding": [
     0
    ],
    "hidden": true
   },
   "outputs": [],
   "source": [
    "# Create an undirected graph\n",
    "g = Graph()\n",
    "# Add n vertices\n",
    "g.add_vertices(V)\n",
    "# Add ids and labels to vertices\n",
    "for i in range(len(g.vs)):\n",
    "    g.vs[i][\"id\"]= i\n",
    "    g.vs[i][\"label\"]= str(i)\n",
    "# Add edges\n",
    "A = G.edges()\n",
    "g.add_edges(A)\n",
    "# Add weights and edge labels\n",
    "g.es['weight'] = W\n",
    "g.es['label'] = W\n",
    "#g.get_edgelist()\n",
    "\n",
    "# función que retorna las aristas internas de un subgrafo\n",
    "def aristas_internas(G,C):\n",
    "    aristas = {g.es.select(_within=C)[ind].tuple for ind,c in enumerate(g.es.select(_within=C))}\n",
    "    return aristas\n",
    "\n",
    "#función que retorna las aristas incidentes a un conjunto de nodos\n",
    "def incidentes(G,s):\n",
    "    aristas = set([g.es[ind].tuple for i in s for ind in g.incident(i)])\n",
    "    return aristas\n",
    "    \n",
    "\n",
    "def Corte_S(G,s):\n",
    "    A_incidentes = incidentes(G,s)\n",
    "    A_internas   = aristas_internas(G,s)\n",
    "    Aristas_Corte= A_incidentes - A_internas\n",
    "    return Aristas_Corte\n",
    "\n",
    "\n",
    "# Restricción de corte usando callbacks\n",
    "\n",
    "# Creamos el conjunto S tal que |s|=2,3 para todo s en S, sin importar si s es conexo\n",
    "S = []\n",
    "for r in range(2,4):\n",
    "    S+=list(itertools.combinations(V, r))\n",
    "\n",
    "# esta función retorna el conjunto de aristas del corte de s\n",
    "#def Corte(G,s):\n",
    "  #  AA = {(i,j) if i<j else (j,i) for i,j in nx.edges(G, s)}\n",
    "   # BB = {(i,j) if i<j else (j,i) for i,j in set(G.subgraph(s).edges)}\n",
    "    #CC = AA-BB\n",
    "    #return CC\n",
    "\n",
    "global corte_S\n",
    "corte_S = 0\n",
    "x_frac = {(i,j,k):0.0 for i,j in A for k in C}\n",
    "\n",
    "def mycallbacks(model, where):\n",
    "    global corte_S\n",
    "    if where == GRB.Callback.MIPNODE:\n",
    "        status = model.cbGet(GRB.Callback.MIPNODE_STATUS)\n",
    "        if  status == GRB.OPTIMAL:\n",
    "            for k in C:\n",
    "                for i,j in A:\n",
    "                    x_frac[i,j,k] = model.cbGetNodeRel(x[i,j,k]) \n",
    "            for s in S:\n",
    "                if sum(x_frac[i,j,k] for i,j in Corte_S(G,s) for k in C) < 1:\n",
    "                    corte_S+=1\n",
    "                    model.cbCut(quicksum(x[i,j,k] for i,j in Corte_S(G,s) for k in C) >= 1) "
   ]
  },
  {
   "cell_type": "code",
   "execution_count": null,
   "metadata": {
    "hidden": true
   },
   "outputs": [],
   "source": [
    "len(S)"
   ]
  },
  {
   "cell_type": "markdown",
   "metadata": {
    "hidden": true
   },
   "source": [
    "<div class=\"alert alert-block alert-info\">\n",
    "<b>Corte 1: (u,v)-Separator Cuts</b> \n",
    "\\begin{equation}\n",
    "    y_u^c + y_v^c - \\sum_{\\ell\\in S} y_\\ell^c \\leq 1, \\qquad\\qquad \\forall c\\in [k].\n",
    "\\end{equation}  \n",
    "\n",
    "</div>"
   ]
  },
  {
   "cell_type": "code",
   "execution_count": null,
   "metadata": {
    "code_folding": [
     0
    ],
    "hidden": true
   },
   "outputs": [],
   "source": [
    "# usaremos la función g.all_minimal_st_separators() de la librería de igraph\n",
    "# para eso, convertiremos de grafo de networkxs en uno de igraph\n",
    "# Create an undirected graph\n",
    "g = Graph()\n",
    "# Add n vertices\n",
    "g.add_vertices(V)\n",
    "# Add ids and labels to vertices\n",
    "for i in range(len(g.vs)):\n",
    "    g.vs[i][\"id\"]= i\n",
    "    g.vs[i][\"label\"]= str(i)\n",
    "# Add edges\n",
    "A = G.edges()\n",
    "g.add_edges(A)\n",
    "# Add weights and edge labels\n",
    "g.es['weight'] = W\n",
    "g.es['label'] = W    \n",
    "\n",
    "# obtenemos todos los separadores minimales\n",
    "sm = g.all_minimal_st_separators()\n",
    "\n",
    "# creamos un diccionario para S con listas vacías para cada par de nodos no adyacentes\n",
    "S={(u,v):[] for (u,v) in NA}\n",
    "for (u,v) in NA:\n",
    "    #print(u,v)\n",
    "    for s in sm:\n",
    "        #print(s)\n",
    "        if u not in s and v not in s:\n",
    "            #g.subgraph(set(V)-{2,3}).subcomponent(5)\n",
    "            if v not in nx.node_connected_component(G.subgraph(V-s),u): # u,v in different componentes\n",
    "                #print(True)\n",
    "                S[u,v].append(s)\n",
    "\n",
    "global corte_S\n",
    "corte_S = 0\n",
    "y_frac = {(i,k):0.0 for i in V for k in C}\n",
    "\n",
    "def mycallbacks(model, where):\n",
    "    global corte_S\n",
    "    if where == GRB.Callback.MIPNODE:\n",
    "        status = model.cbGet(GRB.Callback.MIPNODE_STATUS)\n",
    "        if  status == GRB.OPTIMAL:\n",
    "            for k in C:\n",
    "                #rel = mo.cbGetNodeRel([x[i,j,k] for (i,j) in A])\n",
    "                #print(rel)\n",
    "                for i in V:\n",
    "                    y_frac[i,k] = model.cbGetNodeRel(y[i,k]) \n",
    "            for k in C:\n",
    "                for (u,v) in NA:\n",
    "                    for s in S[u,v]:\n",
    "                        if y_frac[u,k] + y_frac[v,k] - sum(y_frac[l,k] for l in s)  > 1:\n",
    "                            corte_S+=1\n",
    "                            model.cbCut(y[u,k] + y[v,k] - quicksum(y[l,k] for l in s) <= 1) "
   ]
  },
  {
   "cell_type": "code",
   "execution_count": null,
   "metadata": {
    "hidden": true
   },
   "outputs": [],
   "source": [
    "#nodos = nx.all_node_cuts(G)\n",
    "#for i in nodos:\n",
    " #   print(i)"
   ]
  },
  {
   "cell_type": "markdown",
   "metadata": {
    "hidden": true
   },
   "source": [
    "<div class=\"alert alert-block alert-info\">\n",
    "<b>Corte 1: Clique Cuts</b> \n",
    "\\begin{equation}\n",
    "    y_u^c + y_v^c - \\sum_{\\ell\\in S} y_\\ell^c \\leq 1, \\qquad\\qquad \\forall c\\in [k].\n",
    "\\end{equation}  \n",
    "\n",
    "</div>"
   ]
  },
  {
   "cell_type": "code",
   "execution_count": null,
   "metadata": {
    "code_folding": [
     0
    ],
    "hidden": true
   },
   "outputs": [],
   "source": [
    "# usaremos la función g.all_minimal_st_separators() de la librería de igraph\n",
    "# para eso, convertiremos de grafo de networkxs en uno de igraph\n",
    "# Create an undirected graph\n",
    "g = Graph()\n",
    "# Add n vertices\n",
    "g.add_vertices(V)\n",
    "# Add ids and labels to vertices\n",
    "for i in range(len(g.vs)):\n",
    "    g.vs[i][\"id\"]= i\n",
    "    g.vs[i][\"label\"]= str(i)\n",
    "# Add edges\n",
    "A = G.edges()\n",
    "g.add_edges(A)\n",
    "# Add weights and edge labels\n",
    "g.es['weight'] = W\n",
    "g.es['label'] = W\n",
    "#g.get_edge_list()\n",
    "\n",
    "Q = [1,2]\n",
    "\n",
    "global corte_S\n",
    "corte_S = 0\n",
    "x_frac = {(i,j,k):0.0 for (i,j) in A for k in C}\n",
    "\n",
    "def mycallbacks(model, where):\n",
    "    global corte_S\n",
    "    if where == GRB.Callback.MIPNODE:\n",
    "        status = model.cbGet(GRB.Callback.MIPNODE_STATUS)\n",
    "        if  status == GRB.OPTIMAL:\n",
    "            # obtenemos los valores fraccionarios de las variables xijc\n",
    "            for k in C:\n",
    "                #rel = mo.cbGetNodeRel([x[i,j,k] for (i,j) in A])\n",
    "                #print(rel)\n",
    "                for i,j in A:\n",
    "                    x_frac[i,j,k] = model.cbGetNodeRel(x[i,j,k]) \n",
    "            \n",
    "            for q in Q:\n",
    "                # si k = 2\n",
    "                maxi = max(int((c+q)/2)*(int((c+q)/2)-1),q) \n",
    "\n",
    "                # Almacenamos todas las cliques de tamaño k+q\n",
    "                Cliques = g.cliques(c+q,c+q)\n",
    "                if Cliques != []:\n",
    "                    if c == 2:\n",
    "                        for cl in Cliques:\n",
    "                            if sum(x_frac[i,j,k] if (i<j) else x_frac[j,i,k] for (i,j) in G.subgraph(cl).edges for k in C) < maxi:\n",
    "                                model.cbCut(quicksum(x[i,j,k] if (i<j) else x[j,i,k] for (i,j) in G.subgraph(cl).edges for k in C) >= maxi)\n",
    "                    else:\n",
    "                        for cl in Cliques:\n",
    "                            if sum(x_frac[i,j,k] if (i<j) else x_frac[j,i,k] for (i,j) in G.subgraph(cl).edges for k in C) < q:\n",
    "                                model.cbCut(quicksum(x[i,j,k] if (i<j) else x[j,i,k] for (i,j) in G.subgraph(cl).edges for k in C) >= q)"
   ]
  },
  {
   "cell_type": "markdown",
   "metadata": {},
   "source": [
    "### juntando teorema 3.8 y teorema 3.9 (u,v)-separador y clique cuts"
   ]
  },
  {
   "cell_type": "code",
   "execution_count": null,
   "metadata": {
    "code_folding": [
     0
    ]
   },
   "outputs": [],
   "source": [
    "# usaremos la función g.all_minimal_st_separators() de la librería de igraph\n",
    "# para eso, convertiremos de grafo de networkxs en uno de igraph\n",
    "# Create an undirected graph\n",
    "g = Graph()\n",
    "# Add n vertices\n",
    "g.add_vertices(V)\n",
    "# Add ids and labels to vertices\n",
    "for i in range(len(g.vs)):\n",
    "    g.vs[i][\"id\"]= i\n",
    "    g.vs[i][\"label\"]= str(i)\n",
    "# Add edges\n",
    "A = G.edges()\n",
    "g.add_edges(A)\n",
    "# Add weights and edge labels\n",
    "g.es['weight'] = W\n",
    "g.es['label'] = W    \n",
    "\n",
    "# obtenemos todos los separadores minimales\n",
    "sm = g.all_minimal_st_separators()\n",
    "\n",
    "# creamos un diccionario para S con listas vacías para cada par de nodos no adyacentes\n",
    "S={(u,v):[] for (u,v) in NA}\n",
    "for (u,v) in NA:\n",
    "    #print(u,v)\n",
    "    for s in sm:\n",
    "        #print(s)\n",
    "        if u not in s and v not in s:\n",
    "            #g.subgraph(set(V)-{2,3}).subcomponent(5)\n",
    "            if v not in nx.node_connected_component(G.subgraph(V-s),u): # u,v in different componentes\n",
    "                #print(True)\n",
    "                S[u,v].append(s)\n",
    "                \n",
    "# usaremos la función g.all_minimal_st_separators() de la librería de igraph\n",
    "# para eso, convertiremos de grafo de networkxs en uno de igraph\n",
    "# Create an undirected graph\n",
    "g = Graph()\n",
    "# Add n vertices\n",
    "g.add_vertices(V)\n",
    "# Add ids and labels to vertices\n",
    "for i in range(len(g.vs)):\n",
    "    g.vs[i][\"id\"]= i\n",
    "    g.vs[i][\"label\"]= str(i)\n",
    "# Add edges\n",
    "A = G.edges()\n",
    "g.add_edges(A)\n",
    "# Add weights and edge labels\n",
    "g.es['weight'] = W\n",
    "g.es['label'] = W\n",
    "#g.get_edge_list()\n",
    "\n",
    "Q = [1,2]\n",
    "\n",
    "global corte_S\n",
    "corte_S = 0\n",
    "y_frac = {(i,k):0.0 for i in V for k in C}\n",
    "x_frac = {(i,j,k):0.0 for (i,j) in A for k in C}\n",
    "\n",
    "def mycallbacks(model, where):\n",
    "    global corte_S\n",
    "    if where == GRB.Callback.MIPNODE:\n",
    "        status = model.cbGet(GRB.Callback.MIPNODE_STATUS)\n",
    "        if  status == GRB.OPTIMAL:\n",
    "            for k in C:\n",
    "                #rel = mo.cbGetNodeRel([x[i,j,k] for (i,j) in A])\n",
    "                #print(rel)\n",
    "                for i in V:\n",
    "                    y_frac[i,k] = model.cbGetNodeRel(y[i,k]) \n",
    "            for k in C:\n",
    "                for (u,v) in NA:\n",
    "                    for s in S[u,v]:\n",
    "                        if y_frac[u,k] + y_frac[v,k] - sum(y_frac[l,k] for l in s)  > 1:\n",
    "                            corte_S+=1\n",
    "                            model.cbCut(y[u,k] + y[v,k] - quicksum(y[l,k] for l in s) <= 1) \n",
    "            # obtenemos los valores fraccionarios de las variables xijc\n",
    "            for k in C:\n",
    "                #rel = mo.cbGetNodeRel([x[i,j,k] for (i,j) in A])\n",
    "                #print(rel)\n",
    "                for i,j in A:\n",
    "                    x_frac[i,j,k] = model.cbGetNodeRel(x[i,j,k]) \n",
    "            \n",
    "            for q in Q:\n",
    "                # si k = 2\n",
    "                maxi = max(int((c+q)/2)*(int((c+q)/2)-1),q) \n",
    "\n",
    "                # Almacenamos todas las cliques de tamaño k+q\n",
    "                Cliques = g.cliques(c+q,c+q)\n",
    "                if Cliques != []:\n",
    "                    if c == 2:\n",
    "                        for cl in Cliques:\n",
    "                            if sum(x_frac[i,j,k] if (i<j) else x_frac[j,i,k] for (i,j) in G.subgraph(cl).edges for k in C) < maxi:\n",
    "                                model.cbCut(quicksum(x[i,j,k] if (i<j) else x[j,i,k] for (i,j) in G.subgraph(cl).edges for k in C) >= maxi)\n",
    "                    else:\n",
    "                        for cl in Cliques:\n",
    "                            if sum(x_frac[i,j,k] if (i<j) else x_frac[j,i,k] for (i,j) in G.subgraph(cl).edges for k in C) < q:\n",
    "                                model.cbCut(quicksum(x[i,j,k] if (i<j) else x[j,i,k] for (i,j) in G.subgraph(cl).edges for k in C) >= q)"
   ]
  },
  {
   "cell_type": "markdown",
   "metadata": {},
   "source": [
    "#### Creamos el archivo lp"
   ]
  },
  {
   "cell_type": "code",
   "execution_count": 51,
   "metadata": {},
   "outputs": [],
   "source": [
    "mo.update();\n",
    "#mo.write(\"Problema_PGCC_F1_CORTES.lp\")"
   ]
  },
  {
   "cell_type": "markdown",
   "metadata": {},
   "source": [
    "#### Tiempo límite para resolver el modelo de 3600 segundos"
   ]
  },
  {
   "cell_type": "code",
   "execution_count": 35,
   "metadata": {
    "scrolled": true
   },
   "outputs": [
    {
     "name": "stdout",
     "output_type": "stream",
     "text": [
      "Set parameter TimeLimit to value 3600\n",
      "Gurobi Optimizer version 9.5.0 build v9.5.0rc5 (mac64[rosetta2])\n",
      "Thread count: 8 physical cores, 8 logical processors, using up to 8 threads\n",
      "Optimize a model with 2760 rows, 4410 columns and 14098 nonzeros\n",
      "Model fingerprint: 0x1c425671\n",
      "Variable types: 0 continuous, 4410 integer (930 binary)\n",
      "Coefficient statistics:\n",
      "  Matrix range     [1e+00, 3e+01]\n",
      "  Objective range  [1e+00, 9e+00]\n",
      "  Bounds range     [1e+00, 1e+00]\n",
      "  RHS range        [1e+00, 1e+00]\n",
      "Presolve removed 652 rows and 3144 columns\n",
      "Presolve time: 0.07s\n",
      "\n",
      "Explored 0 nodes (0 simplex iterations) in 0.08 seconds (0.07 work units)\n",
      "Thread count was 1 (of 8 available processors)\n",
      "\n",
      "Solution count 0\n",
      "\n",
      "Model is infeasible\n",
      "Best objective -, best bound -, gap -\n"
     ]
    }
   ],
   "source": [
    "#mo.Params.PreCrush = 1\n",
    "#mo.Params.Cuts = 0\n",
    "#mo.Params.LogFile=\"Flujo1_CORTES_Grafo10\"\n",
    "mo.Params.TimeLimit = 60*60\n",
    "#mo.reset()\n",
    "mo.optimize()"
   ]
  },
  {
   "cell_type": "code",
   "execution_count": 65,
   "metadata": {},
   "outputs": [
    {
     "data": {
      "text/plain": [
       "(4410, 1890)"
      ]
     },
     "execution_count": 65,
     "metadata": {},
     "output_type": "execute_result"
    }
   ],
   "source": [
    "mo.NumVars, mo.NumConstrs"
   ]
  },
  {
   "cell_type": "code",
   "execution_count": 53,
   "metadata": {},
   "outputs": [],
   "source": [
    "#corte_S"
   ]
  },
  {
   "cell_type": "code",
   "execution_count": null,
   "metadata": {},
   "outputs": [],
   "source": [
    "len(S)"
   ]
  },
  {
   "cell_type": "code",
   "execution_count": null,
   "metadata": {},
   "outputs": [],
   "source": [
    "obj_opt = mo.getObjective()\n",
    "print(obj_opt.getValue())"
   ]
  },
  {
   "cell_type": "markdown",
   "metadata": {},
   "source": [
    "Guardamos las variables del modelo en $s$"
   ]
  },
  {
   "cell_type": "code",
   "execution_count": null,
   "metadata": {},
   "outputs": [],
   "source": [
    "s=mo.getVars()"
   ]
  },
  {
   "cell_type": "markdown",
   "metadata": {},
   "source": [
    "#### Impresión de las variables"
   ]
  },
  {
   "cell_type": "code",
   "execution_count": null,
   "metadata": {
    "code_folding": [
     0
    ],
    "scrolled": true
   },
   "outputs": [],
   "source": [
    "for v in mo.getVars():\n",
    "    if v.x > 1e-5:\n",
    "        print ('%s %g' % (v.varName, v.x))"
   ]
  },
  {
   "cell_type": "markdown",
   "metadata": {
    "heading_collapsed": true
   },
   "source": [
    "## Funciones"
   ]
  },
  {
   "cell_type": "code",
   "execution_count": null,
   "metadata": {
    "code_folding": [
     0,
     4,
     8,
     21,
     25,
     37,
     41
    ],
    "hidden": true
   },
   "outputs": [],
   "source": [
    "def Arcos_Salientes(A, V, i):\n",
    "    salientes = {i : [(j,k) for (k,j) in A if j==i]+[(k,j) for (k,j) in A if k==i] for i in V}\n",
    "    return salientes[i];\n",
    "\n",
    "def Arcos_Entrantes(A, V, i):\n",
    "    entrantes = {i : [(j,k) for (j,k) in A if k==i]+[(j,k) for (k,j) in A if k==i] for i in V}\n",
    "    return entrantes[i]\n",
    "\n",
    "def Arcos_Corte_W(A, V, W):\n",
    "    y1=[];\n",
    "    y=[];\n",
    "    for i in W:\n",
    "        y1=Arcos_Entrantes(A,V,i)\n",
    "        for j in W:\n",
    "            for (a,b) in y1:\n",
    "                if (a,b)==(j,i):\n",
    "                    y1.pop(y1.index((j,i)));   \n",
    "        y=y+y1\n",
    "    y=sorted(y);\n",
    "    return y;\n",
    "    \n",
    "def Arcos_Internos_Corte(A, V, W):\n",
    "    y=[];\n",
    "    y2=[];\n",
    "    y3=[];\n",
    "    for i in W:\n",
    "        y=y+Arcos_Entrantes(A,V,i)\n",
    "    y2=Arcos_Corte_W(A, V, W)\n",
    "    for a in y2:\n",
    "        y.remove(a)\n",
    "    for (m,v) in y:\n",
    "        if m<v:\n",
    "            y3.append((m,v))\n",
    "    \n",
    "    return y3;\n",
    "\n",
    "#necesito los arcos internos del subgrafo con sus pesos respectivos\n",
    "def Costo_Subgrafo(d,y):\n",
    "    costo=sum(d[a] for a in y)\n",
    "    return costo;\n",
    "\n",
    "def Componentes(V,C,y):\n",
    "    W=[[] for a in C]\n",
    "    for k in C:\n",
    "        for i in V:\n",
    "            if y[i,k].x==1:\n",
    "                W[k].append(i)\n",
    "    return W"
   ]
  },
  {
   "cell_type": "markdown",
   "metadata": {
    "heading_collapsed": true
   },
   "source": [
    "## Verificamos el resultado"
   ]
  },
  {
   "cell_type": "markdown",
   "metadata": {
    "hidden": true
   },
   "source": [
    "<div class=\"alert alert-block alert-info\">\n",
    "<b>Modelo</b>\n",
    "\n",
    "1. $W:$ es una lista de listas, cada sublista contiene los nodos de la componente conexa,\n",
    "2. $ARCOMP:$ es una lista de listas, cada sublista contiene las aristas de la componente conexa, desde 0 a c-1,\n",
    "3. $CosComp:$ es una lista que contiene los pesos de cada arco en cada componente conexa, desde 0 a c-1,\n",
    "4. $C_{Total}:$ es la suma total de las distancias de las componentes conexas\n",
    "</div>"
   ]
  },
  {
   "cell_type": "code",
   "execution_count": null,
   "metadata": {
    "hidden": true
   },
   "outputs": [],
   "source": [
    "W=Componentes(V,C,y)\n",
    "ARCOMP=[Arcos_Internos_Corte(A, V, W[k]) for k in C]\n",
    "CosComp=[Costo_Subgrafo(d,ARCOMP[k]) for k in C]\n",
    "C_Total=sum(CosComp)\n",
    "print( \"La suma total de las distancias es:\", C_Total)"
   ]
  },
  {
   "cell_type": "markdown",
   "metadata": {
    "hidden": true
   },
   "source": [
    "### Aristas de cada componente y sus nodos"
   ]
  },
  {
   "cell_type": "code",
   "execution_count": null,
   "metadata": {
    "code_folding": [],
    "hidden": true
   },
   "outputs": [],
   "source": [
    "for k in C:\n",
    "    print('Los nodos que se encuentran en la componente conexa {} son:'.format(k), W[k])\n",
    "    print('Las aristas que se encuentran en la componente conexa {} son:'.format(k), ARCOMP[k])"
   ]
  },
  {
   "cell_type": "markdown",
   "metadata": {
    "hidden": true
   },
   "source": [
    "### Verificamos si cada componente es conexa"
   ]
  },
  {
   "cell_type": "code",
   "execution_count": null,
   "metadata": {
    "hidden": true
   },
   "outputs": [],
   "source": []
  },
  {
   "cell_type": "code",
   "execution_count": null,
   "metadata": {
    "hidden": true
   },
   "outputs": [],
   "source": [
    "# Extraemos las componentes en F\n",
    "import re\n",
    "#verificamos si la k-particion tiene k componentes conexas\n",
    "num_comp=0\n",
    "for i in C:\n",
    "    if nx.is_connected(G.subgraph(W[i]))==True:\n",
    "        print(\"Subgrafo %g: \" %num_comp ,W[i])\n",
    "        num_comp+=1\n",
    "if num_comp == c:\n",
    "    print(\"Existen %g compoenetes conexas\" %c)\n",
    "    print(\"El valor Objetivo es:\", mo.ObjVal)\n",
    "else:\n",
    "    print(\"Existen mas de %g componentes conexas\" %c)"
   ]
  },
  {
   "cell_type": "code",
   "execution_count": null,
   "metadata": {
    "hidden": true
   },
   "outputs": [],
   "source": [
    "γ"
   ]
  },
  {
   "cell_type": "code",
   "execution_count": null,
   "metadata": {
    "hidden": true
   },
   "outputs": [],
   "source": []
  },
  {
   "cell_type": "markdown",
   "metadata": {
    "heading_collapsed": true
   },
   "source": [
    "# OTROS"
   ]
  },
  {
   "cell_type": "markdown",
   "metadata": {
    "hidden": true
   },
   "source": [
    "$$\n",
    "\\text{Restricción no Lineal, la cual convertiremos en lineal para insertarla al modelo}\n",
    "$$"
   ]
  },
  {
   "cell_type": "markdown",
   "metadata": {
    "hidden": true
   },
   "source": [
    "$$\n",
    "\\sum_{(i,j) \\in E} x_{i,j}^c + \\sum_{(i,j) \\in E} f_{i,j}^c = \\frac{1}{2} \\left( \\sum_{i\\in V} y_i^c \\right)  \\left( -1 \\,+ \\sum_{i\\in V} y_i^c  \\right), \\qquad \\forall c\\in [k]\n",
    "$$"
   ]
  },
  {
   "cell_type": "markdown",
   "metadata": {
    "hidden": true
   },
   "source": [
    "$$\n",
    "\\text{Restricción Lineal}\n",
    "$$"
   ]
  },
  {
   "cell_type": "markdown",
   "metadata": {
    "hidden": true
   },
   "source": [
    "$$\n",
    "\\sum_{(i,j)\\in E}x_{ij}^c + \\sum_{(i,j)\\in E}f_{ij}^c =  \\sum_{(i,j)\\in E\\,\\uplus E^c} m_{ij}^c , \\quad\\forall c\\in [k]. \n",
    "$$"
   ]
  },
  {
   "cell_type": "markdown",
   "metadata": {
    "hidden": true
   },
   "source": [
    "$$\n",
    "y_i^{c}+y_j^{c} \\leq m_{ij}^{c} + 1 , \\quad \\,\\forall \\{i,j\\}\\in E \\uplus E^c, \\quad \\forall c \\in [k],\n",
    "$$"
   ]
  },
  {
   "cell_type": "markdown",
   "metadata": {
    "hidden": true
   },
   "source": [
    "$$\n",
    "y_i^{c}+y_j^{c} \\geq 2*m_{ij}^{c} , \\quad \\,\\forall \\{i,j\\}\\in E \\uplus E^c, \\quad \\forall c \\in [k],\n",
    "$$"
   ]
  },
  {
   "cell_type": "markdown",
   "metadata": {
    "hidden": true
   },
   "source": [
    "<div class=\"alert alert-block alert-info\">\n",
    "<b>Restricción 2 para el problema relajado</b>\n",
    "    \n",
    "    \n",
    "Esta restricción signifia que, si hay $x_{i,j}^c$ aristas en una componente, deberían existir una cantidad exacta de $f_{i,j}^c$ en cada componente conexa\n",
    "</div>"
   ]
  },
  {
   "cell_type": "code",
   "execution_count": null,
   "metadata": {
    "hidden": true
   },
   "outputs": [],
   "source": [
    "#start = time.time()\n",
    "#cont9=0\n",
    "#for k in range(c):\n",
    " #   for (i,j) in A+NA:\n",
    "  #      cont9+=1\n",
    "   #     re2_name = \"Res2_delRelajado\" + str(cont9)\n",
    "    #    mo.addConstr(y[i,k]+y[j,k]-m[i,j,k] <= 1, name = re2_name)\n",
    "     #   re3_name = \"Res3_delRelajado\" + str(cont9)\n",
    "      #  mo.addConstr(y[i,k]+y[j,k]-2*m[i,j,k]>= 0 , name = re3_name)\n",
    "#end = time.time()\n",
    "#print ('El tiempo que toma crear estas restricciones son:', end-start)"
   ]
  },
  {
   "cell_type": "markdown",
   "metadata": {
    "hidden": true
   },
   "source": [
    "<div class=\"alert alert-block alert-info\">\n",
    "<b>Restricción para el problema relajado</b>\n",
    "    \n",
    "    \n",
    "Esta restricción signifia que, si hay $x_{i,j}^c$ aristas en una componente, deberían existir una cantidad exacta de $f_{i,j}^c$ en cada componente conexa\n",
    "</div>"
   ]
  },
  {
   "cell_type": "code",
   "execution_count": null,
   "metadata": {
    "hidden": true
   },
   "outputs": [],
   "source": [
    "#Restricción 2 del modelo relajado\n",
    "#start = time.time() \n",
    "#for k in C:\n",
    " #   rel_name = \"Res2_delRelajado_\" + str(k)\n",
    "  #  mo.addConstr(quicksum(x[i,j,k] for (i,j) in A) + quicksum(f[i,j,k] for (i,j) in NA) == \n",
    "   #              quicksum(m[i,j,k] for (i,j) in A+NA), name = rel_name)\n",
    "#end = time.time()\n",
    "#print ('El tiempo que toma crear estas restricciones son:', end-start)"
   ]
  },
  {
   "cell_type": "code",
   "execution_count": null,
   "metadata": {
    "code_folding": [
     0
    ],
    "hidden": true
   },
   "outputs": [],
   "source": [
    "# VERIFICAMOS SI EL GRAFO ES CONEXO:\n",
    "# Python program to print connected  \n",
    "# components in an undirected graph \n",
    "# https://www.geeksforgeeks.org/connected-components-in-an-undirected-graph/\n",
    "\n",
    "class Graph: \n",
    "      \n",
    "    # init function to declare class variables \n",
    "    def __init__(self,V): \n",
    "        self.V = V \n",
    "        self.adj = [[] for i in range(V)] \n",
    "  \n",
    "    def DFSUtil(self, temp, v, visited): \n",
    "  \n",
    "        # Mark the current vertex as visited \n",
    "        visited[v] = True\n",
    "  \n",
    "        # Store the vertex to list \n",
    "        temp.append(v) \n",
    "  \n",
    "        # Repeat for all vertices adjacent \n",
    "        # to this vertex v \n",
    "        for i in self.adj[v]: \n",
    "            if visited[i] == False: \n",
    "                  \n",
    "                # Update the list \n",
    "                temp = self.DFSUtil(temp, i, visited) \n",
    "        return temp \n",
    "  \n",
    "    # method to add an undirected edge \n",
    "    def addEdge(self, v, w): \n",
    "        self.adj[v].append(w) \n",
    "        self.adj[w].append(v) \n",
    "  \n",
    "    # Method to retrieve connected components \n",
    "    # in an undirected graph \n",
    "    def connectedComponents(self): \n",
    "        visited = [] \n",
    "        cc = [] \n",
    "        for i in range(self.V): \n",
    "            visited.append(False) \n",
    "        for v in range(self.V): \n",
    "            if visited[v] == False: \n",
    "                temp = [] \n",
    "                cc.append(self.DFSUtil(temp, v, visited)) \n",
    "        return cc \n",
    "  \n"
   ]
  },
  {
   "cell_type": "code",
   "execution_count": null,
   "metadata": {
    "code_folding": [
     0
    ],
    "hidden": true
   },
   "outputs": [],
   "source": [
    "# Driver Code \n",
    "if __name__==\"__main__\": \n",
    "      \n",
    "    # n vertices numbered from 0 to 4 \n",
    "    g = Graph(n); #está creando nodos de 0 al n\n",
    "    for k in C:\n",
    "        for (i,j) in ARCOMP[k]:\n",
    "            g.addEdge(i, j) \n",
    "        cc = g.connectedComponents()\n",
    "    for k in C:\n",
    "        cc[k]=sorted(cc[k])"
   ]
  },
  {
   "cell_type": "code",
   "execution_count": null,
   "metadata": {
    "code_folding": [
     0,
     2
    ],
    "hidden": true
   },
   "outputs": [],
   "source": [
    "if (cc==sorted(W)):\n",
    "    print(\"Cada componente si es conexa\")\n",
    "else:\n",
    "    print(\"Existen mas de C componentes conexas\")"
   ]
  },
  {
   "cell_type": "markdown",
   "metadata": {
    "heading_collapsed": true,
    "hidden": true
   },
   "source": [
    "## Construcción de un grafo conexo aleatorio"
   ]
  },
  {
   "cell_type": "markdown",
   "metadata": {
    "hidden": true
   },
   "source": [
    "<div class=\"alert alert-block alert-info\">\n",
    "<b>Construcción de un grafo conexo aleatorio</b>\n",
    "    \n",
    "<i>Datos de entrada</i>\n",
    "1. $n$ es el número de nodos del grafo,\n",
    "2. $c$ es el número de componentes conexas,\n",
    "3. $C$ indexa las componentes conexas,\n",
    "4. $p$ controla la probabilidad del arco,\n",
    "6. $M$ es el parámetro de linealización del modelo.\n",
    "7. $d_0$ y $d_1$ son parámetros para determinar el rango donde está contenido el peso de las aristas.\n",
    "</div>"
   ]
  },
  {
   "cell_type": "code",
   "execution_count": null,
   "metadata": {
    "hidden": true
   },
   "outputs": [],
   "source": [
    "n = 100\n",
    "M = 2*n\n",
    "c = 6;     C = tuplelist(range(c))\n",
    "p = 1-0.3;   d_0, d_1 = 1, 10"
   ]
  },
  {
   "cell_type": "markdown",
   "metadata": {
    "hidden": true
   },
   "source": [
    "<div class=\"alert alert-block alert-info\">\n",
    "    \n",
    "<i>Constructores y conjuntos</i>\n",
    "1. $V$: es el conjunto de nodos, enumerados desde $1$ hasta $n+1$,\n",
    "2. $A$: es una lista con los arcos del grafo de la forma (i,j) con i<j,\n",
    "3. $d$: es un diccionario, donde la clave son los arcos en $A$ y el valor es la distancia,\n",
    "4. $NA$: es una lista con los arcos que no están en el grafo, con los cuales el grafo sería completo,\n",
    "5. $B$: es una lista con los arcos del grafo de la forma (i,j) con i>j, es decir en el otro sentido que en A,\n",
    "6. $m$: es la cantidad de aristas en el grafo,\n",
    "\n",
    "</div>"
   ]
  },
  {
   "cell_type": "code",
   "execution_count": null,
   "metadata": {
    "hidden": true
   },
   "outputs": [],
   "source": [
    "V    = range(1, n+1)\n",
    "Prob = np.random.random( (n,n) );             #np.random.seed(seed=50)\n",
    "Prov = np.argwhere(np.triu(Prob, 2) >= p) + 1\n",
    "A    = [(i,i+1) for i in range(1,n)];    A += [ (a[0],a[1]) for a in Prov ];    A = sorted(A)\n",
    "m    = len(A)\n",
    "Rand = np.random.randint(d_0, d_1+1, m)\n",
    "d    = {A[i] : Rand[i] for i in range(m)}\n",
    "NA   = []\n",
    "Nrov = np.argwhere( (np.triu(Prob, 2) < p) * (np.triu(np.ones((n,n)), 2) == 1) ) +1\n",
    "NA   = [ (a[0],a[1]) for a in Nrov ]\n",
    "B = [(j,i) for (i,j) in A]\n",
    "print('El número de nodos del grafo es:', format(n))\n",
    "print('El número de aristas del grafo es:', format(m))\n",
    "print('El número de componentes conexas que se quiere del grafo es:', format(c))"
   ]
  },
  {
   "cell_type": "code",
   "execution_count": null,
   "metadata": {
    "hidden": true
   },
   "outputs": [],
   "source": []
  },
  {
   "cell_type": "markdown",
   "metadata": {
    "heading_collapsed": true,
    "hidden": true
   },
   "source": [
    "#### Restricciones del modelo relajado"
   ]
  },
  {
   "cell_type": "code",
   "execution_count": null,
   "metadata": {
    "hidden": true
   },
   "outputs": [],
   "source": [
    "# Esta es otra forma de hacer las restricciones del modelo relajado pero toma full time\n",
    "start = time.time()\n",
    "cont9=0\n",
    "for k in range(c):\n",
    "    cont9+=1\n",
    "    re2_name = \"Res2_delRelajado\" + str(cont9)\n",
    "    mo.addConstrs((y[i,k]+y[j,k]-m[i,j,k]<=1 for (i,j) in A+NA), name=re2_name)\n",
    "    re3_name = \"Res3_delRelajado\" + str(cont9)\n",
    "    mo.addConstrs((y[i,k]-m[i,j,k]>=0 for (i,j) in A+NA), name=re3_name)\n",
    "    mo.addConstrs((y[j,k]-m[i,j,k]>=0 for (i,j) in A+NA), name=re3_name)\n",
    "    \n",
    "end = time.time()\n",
    "print ('El tiempo que toma crear estas restricciones son:', end-start)"
   ]
  },
  {
   "cell_type": "markdown",
   "metadata": {
    "hidden": true
   },
   "source": [
    "$$\n",
    "\\sum_{i\\in V} y_i^c(\\sum_{i\\in V} y_i^c)=\\sum_{j\\in V}\\sum_{i\\in V}y_i^c*y_j^c=\\sum_{i\\in V}(y_i^c)^2+\\sum_{i\\neq j}y_i^c*y_j^c \n",
    "$$"
   ]
  },
  {
   "cell_type": "markdown",
   "metadata": {
    "hidden": true
   },
   "source": [
    "$$\n",
    "m_{ij}^c=y_i^c*y_j^c \\qquad m_{ij}^c\\in \\{0, 1\\} \\quad\\forall \\{i,j\\}\\in E \\uplus E^c \n",
    "$$"
   ]
  },
  {
   "cell_type": "code",
   "execution_count": null,
   "metadata": {
    "hidden": true
   },
   "outputs": [],
   "source": []
  },
  {
   "cell_type": "code",
   "execution_count": null,
   "metadata": {
    "hidden": true
   },
   "outputs": [],
   "source": []
  }
 ],
 "metadata": {
  "kernelspec": {
   "display_name": "Python 3 (ipykernel)",
   "language": "python",
   "name": "python3"
  },
  "language_info": {
   "codemirror_mode": {
    "name": "ipython",
    "version": 3
   },
   "file_extension": ".py",
   "mimetype": "text/x-python",
   "name": "python",
   "nbconvert_exporter": "python",
   "pygments_lexer": "ipython3",
   "version": "3.8.12"
  }
 },
 "nbformat": 4,
 "nbformat_minor": 2
}
