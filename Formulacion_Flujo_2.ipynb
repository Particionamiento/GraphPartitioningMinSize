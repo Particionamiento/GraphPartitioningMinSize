{
 "cells": [
  {
   "cell_type": "markdown",
   "metadata": {},
   "source": [
    "# Problema de Particionamiento de un grafo en Componentes Conexas"
   ]
  },
  {
   "cell_type": "markdown",
   "metadata": {},
   "source": [
    "<H1 align=\"center\"> Formulación de Flujo 2 </H1>"
   ]
  },
  {
   "cell_type": "markdown",
   "metadata": {},
   "source": [
    "## Problema"
   ]
  },
  {
   "cell_type": "markdown",
   "metadata": {},
   "source": [
    "Dado un grafo general $G=(V, E)$ de $n$ nodos con peso determinado en sus arcos $d_{ij}$ para todo $\\{i,j\\}\\in E$, particionar el grafo en $k$ componentes conexas, donde $V=V_1, V_2,..., V_j$ con $V_i \\cap V_j=\\emptyset \\quad\\forall j \\in [k]$, con el objetivo de minimizar la distancia total. Todas estas componentes conexas deben tener incorporados a lo menos 2 nodos.\n"
   ]
  },
  {
   "cell_type": "markdown",
   "metadata": {},
   "source": [
    "### Parámetros"
   ]
  },
  {
   "cell_type": "markdown",
   "metadata": {},
   "source": [
    "<div class=\"alert alert-block alert-info\">\n",
    "\n",
    "0. $V:$ es un conjunto con los nodos en el grafo,\n",
    "1. $n:$ es la cantidad de nodos en el grafo,\n",
    "2. $k:$ es la cantidad de componentes conexas en que se quiere dividir el grafo,\n",
    "3. $γ:$ es el mínimo número de nodos en cada componente,\n",
    "4. $A:$ es una lista que guarda las aristas del grafo de la forma $\\{i,j\\}$ con $i < j$,  \n",
    "5. $AA:$ es una lista con las aristas artificiales que salen de los nodos artificiales hacia todos los nodos del grafo,\n",
    "6. $E:$ es una lista con las aristas del grafo aumentante, es decir $E = A \\cup AA$\n",
    "7. $B:$ es una lista que guarda las aristas del grafo de la forma $\\{j,i\\}$ con $i < j$,  \n",
    "8. $d_{ij}:$ es el peso de la arista $\\{i,j\\}$, $\\forall \\{i,j\\} \\in A$,  \n",
    "</div>"
   ]
  },
  {
   "cell_type": "markdown",
   "metadata": {},
   "source": [
    "### Variables"
   ]
  },
  {
   "cell_type": "markdown",
   "metadata": {},
   "source": [
    "$y_i^{c}=\\left \\{ \\begin{matrix} 1, &\\mbox{si }i\\in V_c\n",
    "\\\\ 0, &\\mbox{otro }\\end{matrix}\\right.$"
   ]
  },
  {
   "cell_type": "markdown",
   "metadata": {},
   "source": [
    "$x_{ij}=\\left \\{ \\begin{matrix} 1, &\\mbox{si los nodos } i, j \\in V_c \\mbox{ y además la arista } \\{i,j\\}\\in A\n",
    "\\\\ 0, &\\mbox{otro }\\end{matrix}\\right.$"
   ]
  },
  {
   "cell_type": "markdown",
   "metadata": {},
   "source": [
    "$x_{ci}=\\left \\{ \\begin{matrix} 1, &\\mbox{ se activa la arista artificial } \\{c,i\\}\\in AA\n",
    "\\\\ 0, &\\mbox{otro }\\end{matrix}\\right.$"
   ]
  },
  {
   "cell_type": "markdown",
   "metadata": {},
   "source": [
    "$f_{ij} \\in \\mathbb {R}^{+}$ es la cantidad de flujo en el arco $\\{i,j\\}\\in E \\cup B$,"
   ]
  },
  {
   "cell_type": "markdown",
   "metadata": {},
   "source": [
    "### Modelo"
   ]
  },
  {
   "cell_type": "markdown",
   "metadata": {},
   "source": [
    "\\begin{align}\n",
    "\\min &\\sum_{\\{i,j\\} \\in A} d_{ij}\\, x_{ij}\\\\\n",
    "\\text{s.a.} & \\\\\n",
    "&\\sum_{c\\in [k]} y_i^{c} = 1, \\qquad\\qquad \\forall i \\in V,\\\\\n",
    "&y_i^{c}+y_j^{c}-x_{ij} \\,\\,\\leq 1, \\quad \\,\\forall \\{i,j\\}\\in A, \\quad \\forall c \\in [k],\\\\\n",
    "&y_i^{c}+y_j^{l}+x_{ij} \\leq 2, \\quad \\forall \\{i,j\\}\\in A, \\quad \\forall c,l \\in [k], c \\neq l\\\\\n",
    "&\\sum_{i\\in V} x_{ci} = 1, \\qquad\\qquad \\forall \\{c,i\\}\\in AA ,\\\\\n",
    "&\\sum_{i\\in V} f_{ci} = \\sum_{i\\in V} y_i^{c}, \\qquad\\qquad \\forall \\{c,i\\}\\in AA, \\quad \\forall c \\in [k], \\\\\n",
    "&\\sum_{(i,j)\\in E} f_{ij} - \\sum_{(j,i)\\in A} f_{ji} = 1, \\qquad\\qquad \\forall j \\in V, \\\\\n",
    "&f_{ij} + f_{ji} \\leq (n-(k-1)γ)x_{ij}, \\quad \\forall \\{i,j\\}\\in A,\\\\\n",
    "&γx_{ci}\\leq f_{ci} \\leq (n-(k-1)γ)x_{ci}, \\quad \\forall \\{c,i\\}\\in AA,\\\\\n",
    "&y_i^{c}\\in \\{0, 1\\}, \\qquad \\forall i\\in V, \\quad \\forall c \\in [k],\\\\\n",
    "&x_{ij}\\in \\{0, 1\\}, \\qquad \\forall \\{i,j\\}\\in E,\\\\\n",
    "&f_{ij} \\in \\mathbb {R}^{+}, \\qquad\\quad \\forall \\{i,j\\}\\in E\\cup B.\\\\\n",
    "\\end{align}"
   ]
  },
  {
   "cell_type": "markdown",
   "metadata": {},
   "source": [
    "## Grafo"
   ]
  },
  {
   "cell_type": "code",
   "execution_count": 1,
   "metadata": {
    "code_folding": []
   },
   "outputs": [],
   "source": [
    "# PAQUETES\n",
    "# Gurobi Python Interface\n",
    "# https://www.gurobi.com/documentation/8.1/quickstart_windows/py_python_interface\n",
    "from   gurobipy   import *\n",
    "import pandas as pd    # https://pandas.pydata.org/\n",
    "import numpy  as np    # Numpy\n",
    "import random as r\n",
    "import time\n",
    "import networkx as nx\n",
    "import matplotlib.pyplot as plt\n",
    "import matplotlib.ticker as mticker\n",
    "import random"
   ]
  },
  {
   "cell_type": "code",
   "execution_count": 2,
   "metadata": {},
   "outputs": [],
   "source": [
    "# Aliases\n",
    "seeds = np.random.seed"
   ]
  },
  {
   "cell_type": "markdown",
   "metadata": {},
   "source": [
    "## Ingresando Manualmente el grafo"
   ]
  },
  {
   "cell_type": "code",
   "execution_count": 3,
   "metadata": {},
   "outputs": [
    {
     "name": "stdout",
     "output_type": "stream",
     "text": [
      "Name: \n",
      "Type: Graph\n",
      "Number of nodes: 6\n",
      "Number of edges: 9\n",
      "Average degree:   3.0000\n",
      "El costo del grafo es: 28\n"
     ]
    }
   ],
   "source": [
    "# Grafo de Ford Fulkerson:\n",
    "G = nx.Graph()\n",
    "A=[(0,1,5),(0,2,2),(1,2,2),(1,3,3),(2,3,3),(2,4,5),(3,4,1),(3,5,2),(4,5,5)]\n",
    "G.add_weighted_edges_from(A,'w')\n",
    "print(nx.info(G))\n",
    "#print(nx.get_edge_attributes(G, 'w'))\n",
    "costo = sum([ G[a[0]][a[1]]['w'] for a in G.edges])\n",
    "print(\"El costo del grafo es:\", costo)"
   ]
  },
  {
   "cell_type": "code",
   "execution_count": 4,
   "metadata": {},
   "outputs": [
    {
     "data": {
      "image/png": "[encoded data removed]",
      "text/plain": [
       "<Figure size 432x432 with 1 Axes>"
      ]
     },
     "metadata": {},
     "output_type": "display_data"
    }
   ],
   "source": [
    "plt.figure(figsize=(6,6))\n",
    "nx.draw(G, nx.spring_layout(G), with_labels=True)\n",
    "plt.draw()"
   ]
  },
  {
   "cell_type": "code",
   "execution_count": 5,
   "metadata": {},
   "outputs": [],
   "source": [
    "node_cut=nx.minimum_node_cut(G,0,4)"
   ]
  },
  {
   "cell_type": "code",
   "execution_count": 6,
   "metadata": {},
   "outputs": [
    {
     "name": "stdout",
     "output_type": "stream",
     "text": [
      "{2, 3}\n"
     ]
    }
   ],
   "source": [
    "print(node_cut)"
   ]
  },
  {
   "cell_type": "code",
   "execution_count": 7,
   "metadata": {},
   "outputs": [
    {
     "name": "stdout",
     "output_type": "stream",
     "text": [
      "True\n"
     ]
    }
   ],
   "source": [
    "print(nx.is_connected(G))"
   ]
  },
  {
   "cell_type": "code",
   "execution_count": 8,
   "metadata": {},
   "outputs": [],
   "source": [
    "#print(nx.get_edge_attributes(G, 'w'))"
   ]
  },
  {
   "cell_type": "code",
   "execution_count": 9,
   "metadata": {},
   "outputs": [],
   "source": [
    "d = nx.get_edge_attributes(G, 'w')\n",
    "B = [(j,i) for (i,j) in d.keys()]\n",
    "NA = list(nx.non_edges(G))\n",
    "A=list(G.edges())"
   ]
  },
  {
   "cell_type": "markdown",
   "metadata": {},
   "source": [
    "### Información del grafo"
   ]
  },
  {
   "cell_type": "code",
   "execution_count": 10,
   "metadata": {
    "code_folding": [
     0
    ]
   },
   "outputs": [],
   "source": [
    "# Compilar esta linea después de la linea anterior cuando ingresamos manualmente el grafo\n",
    "V = G.nodes\n",
    "n = len(V)\n",
    "M = 2*n;\n"
   ]
  },
  {
   "cell_type": "markdown",
   "metadata": {},
   "source": [
    "### Información de la instancia"
   ]
  },
  {
   "cell_type": "code",
   "execution_count": 14,
   "metadata": {},
   "outputs": [],
   "source": [
    "c = 2;     C = tuplelist(range(c));\n",
    "γ = 2      # numero de nodos minimo"
   ]
  },
  {
   "cell_type": "markdown",
   "metadata": {},
   "source": [
    "### Creamos el grafo aumentado"
   ]
  },
  {
   "cell_type": "code",
   "execution_count": 15,
   "metadata": {},
   "outputs": [
    {
     "data": {
      "text/plain": [
       "NodeView((0, 1, 2, 3, 4, 5))"
      ]
     },
     "execution_count": 15,
     "metadata": {},
     "output_type": "execute_result"
    }
   ],
   "source": [
    "V"
   ]
  },
  {
   "cell_type": "code",
   "execution_count": 16,
   "metadata": {},
   "outputs": [],
   "source": [
    "# Creamos los k nodos artificiales\n",
    "VV = tuplelist(range(n,n+c))\n",
    "# Crearemos los arcos artificiales que van desde los nodos artificiales hacia cada nodo del grafo original\n",
    "AA=[]\n",
    "for i in VV:\n",
    "    for j in V:\n",
    "        # el arco va desde el nodo artificial hacia los nodos originales del grafo\n",
    "        AA.append((i,j))"
   ]
  },
  {
   "cell_type": "code",
   "execution_count": 17,
   "metadata": {},
   "outputs": [],
   "source": [
    "# E contiene los arcos del grafo aumentante, es decir arcos del grafo original + arcos artificiales\n",
    "E = A+AA"
   ]
  },
  {
   "cell_type": "markdown",
   "metadata": {},
   "source": [
    "### Arcos entrantes y salientes del grafo\n",
    "#### Compilar la siguiente linea ya sea si el grafo ingresa de forma aleatoria o manualmente, en los arcos entrantes se consideran también los arcos artificiales"
   ]
  },
  {
   "cell_type": "code",
   "execution_count": 18,
   "metadata": {
    "code_folding": [
     0
    ]
   },
   "outputs": [],
   "source": [
    "# crear diccionarios de arcos salientes / entrantes\n",
    "salientes = {i : [(j,k) for (k,j) in A if j==i]+[(k,j) for (k,j) in A if k==i] for i in V}\n",
    "entrantes = {i : [(j,k) for (j,k) in A+AA if k==i]+[(j,k) for (k,j) in A+AA if k==i] for i in V}\n"
   ]
  },
  {
   "cell_type": "markdown",
   "metadata": {},
   "source": [
    "<div class=\"alert alert-block alert-info\">\n",
    "<b>Modelo</b>\n",
    "\n",
    "1. $x:$ es un diccionario para almacenar la variable binaria $x_{ij}$,\n",
    "2. $y:$ es un diccionario para almacenar la variable binaria $y_j^c$,\n",
    "3. $f:$ es un diccionario para almacenar la variable real positiva de flujo $f_{ij}$,\n",
    "</div>"
   ]
  },
  {
   "cell_type": "code",
   "execution_count": 19,
   "metadata": {},
   "outputs": [
    {
     "ename": "NameError",
     "evalue": "name 'mo' is not defined",
     "output_type": "error",
     "traceback": [
      "\u001b[1;31m---------------------------------------------------------------------------\u001b[0m",
      "\u001b[1;31mNameError\u001b[0m                                 Traceback (most recent call last)",
      "\u001b[1;32m<ipython-input-19-d01356959e21>\u001b[0m in \u001b[0;36m<module>\u001b[1;34m\u001b[0m\n\u001b[1;32m----> 1\u001b[1;33m \u001b[1;32mdel\u001b[0m \u001b[0mmo\u001b[0m\u001b[1;33m\u001b[0m\u001b[1;33m\u001b[0m\u001b[0m\n\u001b[0m",
      "\u001b[1;31mNameError\u001b[0m: name 'mo' is not defined"
     ]
    }
   ],
   "source": [
    "del mo"
   ]
  },
  {
   "cell_type": "code",
   "execution_count": 20,
   "metadata": {},
   "outputs": [],
   "source": [
    "if 'mo' in globals():        mo.dispose();    disposeDefaultEnv();    del mo"
   ]
  },
  {
   "cell_type": "code",
   "execution_count": 21,
   "metadata": {
    "code_folding": [
     0
    ]
   },
   "outputs": [
    {
     "name": "stdout",
     "output_type": "stream",
     "text": [
      "Academic license - for non-commercial use only - expires 2021-09-02\n",
      "Using license file C:\\Users\\academico\\gurobi.lic\n"
     ]
    }
   ],
   "source": [
    "# Modelo:\n",
    "mo = Model()\n",
    "x = {} # diccionario para la variable x\n",
    "y = {} # diccionario para la variable y\n",
    "f = {} # diccionario para la variable f\n",
    "\n",
    "mo.update()"
   ]
  },
  {
   "cell_type": "code",
   "execution_count": 22,
   "metadata": {},
   "outputs": [],
   "source": [
    "# esta variable es para el modelo relajado\n",
    "#m = {} # diccionario para la variable x"
   ]
  },
  {
   "cell_type": "markdown",
   "metadata": {},
   "source": [
    "### Creación de Variables"
   ]
  },
  {
   "cell_type": "code",
   "execution_count": 23,
   "metadata": {},
   "outputs": [
    {
     "name": "stdout",
     "output_type": "stream",
     "text": [
      "El tiempo que toma crear las variables es: 0.0\n"
     ]
    }
   ],
   "source": [
    "# Variables\n",
    "start = time.time()\n",
    "# x_i_j_k\n",
    "x = mo.addVars(E, vtype = GRB.BINARY, name=\"x\", lb = 0)\n",
    "\n",
    "# y_i_k\n",
    "y = mo.addVars(V, C, vtype = GRB.BINARY, name=\"y\", lb = 0)\n",
    "       \n",
    "# f_i_j_k\n",
    "f = mo.addVars(E+B, vtype = GRB.CONTINUOUS, name=\"f\", lb = 0)\n",
    "    \n",
    "end = time.time()\n",
    "print ('El tiempo que toma crear las variables es:', end-start)\n",
    "mo.update()"
   ]
  },
  {
   "cell_type": "markdown",
   "metadata": {},
   "source": [
    "### Función objetivo"
   ]
  },
  {
   "cell_type": "code",
   "execution_count": 24,
   "metadata": {
    "code_folding": [
     0
    ]
   },
   "outputs": [
    {
     "name": "stdout",
     "output_type": "stream",
     "text": [
      "El tiempo que toma crear la función objetivo es: 0.0065386295318603516\n"
     ]
    }
   ],
   "source": [
    "# Función objetivo\n",
    "start = time.time()\n",
    "obj=quicksum(x[i,j]*d[i,j] for (i,j) in A)\n",
    "mo.setObjective(obj, GRB.MINIMIZE)\n",
    "end = time.time()\n",
    "print ('El tiempo que toma crear la función objetivo es:', end-start)\n",
    "mo.update()"
   ]
  },
  {
   "cell_type": "markdown",
   "metadata": {},
   "source": [
    "### Restricciones"
   ]
  },
  {
   "cell_type": "markdown",
   "metadata": {},
   "source": [
    "<div class=\"alert alert-block alert-info\">\n",
    "<b>Restricción de pertenencia</b>\n",
    "    \n",
    "    \n",
    "Esta restricción garantiza que cada nodo pertenezca exactamente a una sola componente conexa.\n",
    "</div>"
   ]
  },
  {
   "cell_type": "code",
   "execution_count": 25,
   "metadata": {
    "code_folding": [
     0
    ]
   },
   "outputs": [
    {
     "name": "stdout",
     "output_type": "stream",
     "text": [
      "El tiempo que toma crear estas restricciones son: 0.0\n"
     ]
    }
   ],
   "source": [
    "# Restricción de pertenencia\n",
    "start = time.time() \n",
    "for i in V:\n",
    "    r1_name = \"Res_pertenencia1_\" + str(i)\n",
    "    mo.addConstr(quicksum(y[i,k] for k in C) == 1, name = r1_name)\n",
    "end = time.time()\n",
    "print ('El tiempo que toma crear estas restricciones son:', end-start)"
   ]
  },
  {
   "cell_type": "markdown",
   "metadata": {},
   "source": [
    "<div class=\"alert alert-block alert-info\">\n",
    "<b>Restricción de pertenencia de aristas</b> \n",
    "    \n",
    "Esta restricción garantiza que si los nodos $i, j \\in V_c \\mbox{ y además la arista } \\{i,j\\}\\in E$ entonces la \n",
    "arista $(i,j)$ también estará en la misma componente conexa que los nodos $i$ y $j$.\n",
    "\n",
    "</div>"
   ]
  },
  {
   "cell_type": "code",
   "execution_count": 26,
   "metadata": {
    "code_folding": [
     0
    ]
   },
   "outputs": [
    {
     "name": "stdout",
     "output_type": "stream",
     "text": [
      "El tiempo que toma crear estas restricciones son: 0.0\n"
     ]
    }
   ],
   "source": [
    "start = time.time()\n",
    "cont1=0\n",
    "for k in C:\n",
    "    for (i,j) in A:\n",
    "        cont1+=1\n",
    "        r2_name = \"Res_arista_per_\" + str(cont1)\n",
    "        mo.addConstr(y[i,k]+y[j,k]-x[i,j] <= 1, name = r2_name)\n",
    "\n",
    "end = time.time()\n",
    "print ('El tiempo que toma crear estas restricciones son:', end-start)"
   ]
  },
  {
   "cell_type": "markdown",
   "metadata": {},
   "source": [
    "<div class=\"alert alert-block alert-info\">\n",
    "<b>Restricción 31</b> \n",
    "    \n",
    "Esta restricción garantiza que si dos nodos $i, j$ no están en la misma componente, entonces de existir una arista $(i,j)$, la variavle $x_{i,j}$ toma el valor de $0$\n",
    "\n",
    "</div>"
   ]
  },
  {
   "cell_type": "code",
   "execution_count": 27,
   "metadata": {
    "code_folding": [
     0
    ]
   },
   "outputs": [
    {
     "name": "stdout",
     "output_type": "stream",
     "text": [
      "El tiempo que toma crear estas restricciones es: 0.0\n"
     ]
    }
   ],
   "source": [
    "# Restricción que fija la arista xij en 0 si dos nodos i,j perteneces a diferentes componentes\n",
    "start = time.time()\n",
    "cont2=0\n",
    "for k in C:\n",
    "    for l in C:\n",
    "        for (i,j) in A:\n",
    "            if k != l:\n",
    "                cont2+=1\n",
    "                r3_name = \"Res_arista_per2_\" + str(cont2)\n",
    "                mo.addConstr(y[i,k]+y[j,l]+x[i,j] <= 2, name = r3_name)\n",
    "\n",
    "end = time.time()\n",
    "print ('El tiempo que toma crear estas restricciones es:', end-start)\n",
    "mo.update()"
   ]
  },
  {
   "cell_type": "markdown",
   "metadata": {},
   "source": [
    "<div class=\"alert alert-block alert-info\">\n",
    "<b>Restricción 32</b> \n",
    "    \n",
    "Esta restricción garantiza que unicamente una de las aristas que salen de un nodo artificial $x_{ci}$ tome el valor de 1, y solo por ahí saldrán n' unidades de flujo, donde n' es la cantidad de nodos en la componenente conexa que representa dicho nodo artificial.\n",
    "\n",
    "</div>"
   ]
  },
  {
   "cell_type": "code",
   "execution_count": 28,
   "metadata": {},
   "outputs": [
    {
     "name": "stdout",
     "output_type": "stream",
     "text": [
      "El tiempo que toma crear estas restricciones son: 0.0\n"
     ]
    }
   ],
   "source": [
    "start = time.time() \n",
    "cont = 0\n",
    "for k in VV:\n",
    "    r4_name = \"Res_activar_arco_comp_\" + str(cont)\n",
    "    cont += 1\n",
    "    mo.addConstr(quicksum(x[k,i] for i in V) == 1, name = r4_name)\n",
    "end = time.time()\n",
    "print ('El tiempo que toma crear estas restricciones son:', end-start)"
   ]
  },
  {
   "cell_type": "markdown",
   "metadata": {},
   "source": [
    "<div class=\"alert alert-block alert-info\">\n",
    "<b>Restricción 33</b> \n",
    "    \n",
    "Esta restricción garantiza que el flujo que se enviará a través del arco activo $x_{ci}$ equivale a la cantidad de nodos en dicha componente conexa $c$\n",
    "\n",
    "</div>"
   ]
  },
  {
   "cell_type": "code",
   "execution_count": 29,
   "metadata": {},
   "outputs": [
    {
     "name": "stdout",
     "output_type": "stream",
     "text": [
      "El tiempo que toma crear estas restricciones es: 0.0\n"
     ]
    }
   ],
   "source": [
    "start = time.time()\n",
    "cont3=0\n",
    "for k in C:\n",
    "    cont3+=1\n",
    "    r5_name = \"Res_flujo_arcoAct_comp\" + str(k)\n",
    "    mo.addConstr(quicksum(f[k+n,i] for i in V) == quicksum(y[i,k] for i in V), name = r5_name)\n",
    "\n",
    "end = time.time()\n",
    "print ('El tiempo que toma crear estas restricciones es:', end-start)\n",
    "mo.update()"
   ]
  },
  {
   "cell_type": "markdown",
   "metadata": {},
   "source": [
    "<div class=\"alert alert-block alert-info\">\n",
    "<b>Restricción 34</b> \n",
    "    \n",
    "Suma de flujos en el nodo $j$\n",
    "\n",
    "</div>"
   ]
  },
  {
   "cell_type": "code",
   "execution_count": 30,
   "metadata": {},
   "outputs": [
    {
     "name": "stdout",
     "output_type": "stream",
     "text": [
      "El tiempo que toma crear estas restricciones es: 0.0\n"
     ]
    }
   ],
   "source": [
    "start = time.time()\n",
    "cont4=0\n",
    "for j in V:\n",
    "    cont4+=1\n",
    "    r6_name = \"Res_flujo_nodo\" + str(j)\n",
    "    mo.addConstr(quicksum(f[i,l] for (i,l) in entrantes[j]) - quicksum(f[l,i] for (l,i) in salientes[j])== 1, name = r6_name)\n",
    "\n",
    "end = time.time()\n",
    "print ('El tiempo que toma crear estas restricciones es:', end-start)\n",
    "mo.update()"
   ]
  },
  {
   "cell_type": "markdown",
   "metadata": {},
   "source": [
    "<div class=\"alert alert-block alert-info\">\n",
    "<b>Restricción 35</b> \n",
    "    \n",
    "Flujo máximo en los arcos de grafo original\n",
    "\n",
    "</div>"
   ]
  },
  {
   "cell_type": "code",
   "execution_count": 31,
   "metadata": {},
   "outputs": [
    {
     "name": "stdout",
     "output_type": "stream",
     "text": [
      "El tiempo que toma crear estas restricciones son: 0.0\n"
     ]
    }
   ],
   "source": [
    "start = time.time()\n",
    "cont5=0\n",
    "for (i,j) in A:\n",
    "    cont5+=1\n",
    "    r7_name = \"Res_flujo2_\" + str(cont5)\n",
    "    mo.addConstr(f[i,j]+f[j,i] <= (n-(c-1)*γ)*x[i,j], name = r7_name)\n",
    "\n",
    "end = time.time()\n",
    "print ('El tiempo que toma crear estas restricciones son:', end-start)"
   ]
  },
  {
   "cell_type": "markdown",
   "metadata": {},
   "source": [
    "<div class=\"alert alert-block alert-info\">\n",
    "<b>Restricción 36</b> \n",
    "    \n",
    "Flujo mínimo y máximo en los arcos artificiales respectivamente\n",
    "\n",
    "</div>"
   ]
  },
  {
   "cell_type": "code",
   "execution_count": 32,
   "metadata": {},
   "outputs": [
    {
     "name": "stdout",
     "output_type": "stream",
     "text": [
      "El tiempo que toma crear estas restricciones son: 0.0\n"
     ]
    }
   ],
   "source": [
    "# restricción correspondiente al flujo mínimo\n",
    "start = time.time()\n",
    "cont6=0\n",
    "for (k,i) in AA:\n",
    "    cont6+=1\n",
    "    r8_name = \"Res_flujo3_\" + str(cont6)\n",
    "    mo.addConstr(γ*x[k,i] <= f[k,i], name = r8_name)\n",
    "\n",
    "end = time.time()\n",
    "print ('El tiempo que toma crear estas restricciones son:', end-start)"
   ]
  },
  {
   "cell_type": "code",
   "execution_count": 33,
   "metadata": {},
   "outputs": [
    {
     "name": "stdout",
     "output_type": "stream",
     "text": [
      "El tiempo que toma crear estas restricciones son: 0.0\n"
     ]
    }
   ],
   "source": [
    "# restricción correspondiente al flujo máximo\n",
    "start = time.time()\n",
    "cont7=0\n",
    "for (k,i) in AA:\n",
    "    cont7+=1\n",
    "    r9_name = \"Res_flujo4_\" + str(cont7)\n",
    "    mo.addConstr(f[k,i] <= (n-(c-1)*γ)*x[k,i], name = r9_name)\n",
    "\n",
    "end = time.time()\n",
    "print ('El tiempo que toma crear estas restricciones son:', end-start)"
   ]
  },
  {
   "cell_type": "markdown",
   "metadata": {},
   "source": [
    "#### Creamos el archivo lp"
   ]
  },
  {
   "cell_type": "code",
   "execution_count": 34,
   "metadata": {},
   "outputs": [],
   "source": [
    "mo.update();\n",
    "#mo.write(\"Problema_PGCC_Flujo2.lp\")"
   ]
  },
  {
   "cell_type": "markdown",
   "metadata": {},
   "source": [
    "#### Tiempo límite para resolver el modelo de 3600 segundos"
   ]
  },
  {
   "cell_type": "code",
   "execution_count": 35,
   "metadata": {
    "scrolled": false
   },
   "outputs": [
    {
     "name": "stdout",
     "output_type": "stream",
     "text": [
      "Changed value of parameter Cuts to 0\n",
      "   Prev: -1  Min: -1  Max: 3  Default: -1\n",
      "Changed value of parameter TimeLimit to 3600.0\n",
      "   Prev: inf  Min: 0.0  Max: inf  Default: inf\n",
      "Gurobi Optimizer version 9.1.2 build v9.1.2rc0 (win64)\n",
      "Thread count: 6 physical cores, 12 logical processors, using up to 12 threads\n",
      "Optimize a model with 85 rows, 63 columns and 279 nonzeros\n",
      "Model fingerprint: 0x6e682f14\n",
      "Variable types: 30 continuous, 33 integer (33 binary)\n",
      "Coefficient statistics:\n",
      "  Matrix range     [1e+00, 4e+00]\n",
      "  Objective range  [1e+00, 5e+00]\n",
      "  Bounds range     [1e+00, 1e+00]\n",
      "  RHS range        [1e+00, 2e+00]\n",
      "Presolve removed 6 rows and 6 columns\n",
      "Presolve time: 0.00s\n",
      "Presolved: 79 rows, 57 columns, 267 nonzeros\n",
      "Variable types: 30 continuous, 27 integer (27 binary)\n",
      "Found heuristic solution: objective 21.0000000\n",
      "Found heuristic solution: objective 20.0000000\n",
      "\n",
      "Root relaxation: objective 0.000000e+00, 29 iterations, 0.00 seconds\n",
      "\n",
      "    Nodes    |    Current Node    |     Objective Bounds      |     Work\n",
      " Expl Unexpl |  Obj  Depth IntInf | Incumbent    BestBd   Gap | It/Node Time\n",
      "\n",
      "     0     0    0.00000    0   12   20.00000    0.00000   100%     -    0s\n",
      "     0     0    0.00000    0   12   20.00000    0.00000   100%     -    0s\n",
      "H    0     0                      16.0000000    0.00000   100%     -    0s\n",
      "H    0     2                      12.0000000    2.00000  83.3%     -    0s\n",
      "     0     2    2.00000    0   12   12.00000    2.00000  83.3%     -    0s\n",
      "\n",
      "Explored 388 nodes (1711 simplex iterations) in 0.08 seconds\n",
      "Thread count was 12 (of 12 available processors)\n",
      "\n",
      "Solution count 4: 12 16 20 21 \n",
      "\n",
      "Optimal solution found (tolerance 1.00e-04)\n",
      "Best objective 1.200000000000e+01, best bound 1.200000000000e+01, gap 0.0000%\n"
     ]
    }
   ],
   "source": [
    "mo.Params.Cuts = 0\n",
    "mo.Params.TimeLimit = 60*60\n",
    "mo.optimize()"
   ]
  },
  {
   "cell_type": "code",
   "execution_count": 36,
   "metadata": {},
   "outputs": [
    {
     "name": "stdout",
     "output_type": "stream",
     "text": [
      "12.0\n"
     ]
    }
   ],
   "source": [
    "obj_opt = mo.getObjective()\n",
    "print(obj_opt.getValue())\n"
   ]
  },
  {
   "cell_type": "markdown",
   "metadata": {},
   "source": [
    "Guardamos las variables del modelo en $s$"
   ]
  },
  {
   "cell_type": "code",
   "execution_count": 37,
   "metadata": {},
   "outputs": [],
   "source": [
    "s=mo.getVars()"
   ]
  },
  {
   "cell_type": "markdown",
   "metadata": {},
   "source": [
    "#### Impresión de las variables"
   ]
  },
  {
   "cell_type": "code",
   "execution_count": 38,
   "metadata": {
    "code_folding": [
     0
    ],
    "scrolled": true
   },
   "outputs": [
    {
     "name": "stdout",
     "output_type": "stream",
     "text": [
      "x[0,2] 1\n",
      "x[1,3] 1\n",
      "x[2,4] 1\n",
      "x[3,5] 1\n",
      "x[6,0] 1\n",
      "x[7,5] 1\n",
      "y[0,1] 1\n",
      "y[1,0] 1\n",
      "y[2,1] 1\n",
      "y[3,0] 1\n",
      "y[4,1] 1\n",
      "y[5,0] 1\n",
      "f[0,2] 2\n",
      "f[2,4] 1\n",
      "f[6,0] 3\n",
      "f[7,5] 3\n",
      "f[3,1] 1\n",
      "f[5,3] 2\n"
     ]
    }
   ],
   "source": [
    "for v in mo.getVars():\n",
    "    if v.x > 1e-5:\n",
    "        print ('%s %g' % (v.varName, v.x))"
   ]
  },
  {
   "cell_type": "markdown",
   "metadata": {},
   "source": [
    "## Funciones"
   ]
  },
  {
   "cell_type": "code",
   "execution_count": null,
   "metadata": {
    "code_folding": [
     0,
     4,
     8,
     21,
     25,
     37,
     41
    ]
   },
   "outputs": [],
   "source": [
    "def Arcos_Salientes(A, V, i):\n",
    "    salientes = {i : [(j,k) for (k,j) in A if j==i]+[(k,j) for (k,j) in A if k==i] for i in V}\n",
    "    return salientes[i];\n",
    "\n",
    "def Arcos_Entrantes(A, V, i):\n",
    "    entrantes = {i : [(j,k) for (j,k) in A if k==i]+[(j,k) for (k,j) in A if k==i] for i in V}\n",
    "    return entrantes[i]\n",
    "\n",
    "def Arcos_Corte_W(A, V, W):\n",
    "    y1=[];\n",
    "    y=[];\n",
    "    for i in W:\n",
    "        y1=Arcos_Entrantes(A,V,i)\n",
    "        for j in W:\n",
    "            for (a,b) in y1:\n",
    "                if (a,b)==(j,i):\n",
    "                    y1.pop(y1.index((j,i)));   \n",
    "        y=y+y1\n",
    "    y=sorted(y);\n",
    "    return y;\n",
    "    \n",
    "def Arcos_Internos_Corte(A, V, W):\n",
    "    y=[];\n",
    "    y2=[];\n",
    "    y3=[];\n",
    "    for i in W:\n",
    "        y=y+Arcos_Entrantes(A,V,i)\n",
    "    y2=Arcos_Corte_W(A, V, W)\n",
    "    for a in y2:\n",
    "        y.remove(a)\n",
    "    for (m,v) in y:\n",
    "        if m<v:\n",
    "            y3.append((m,v))\n",
    "    \n",
    "    return y3;\n",
    "\n",
    "#necesito los arcos internos del subgrafo con sus pesos respectivos\n",
    "def Costo_Subgrafo(d,y):\n",
    "    costo=sum(d[a] for a in y)\n",
    "    return costo;\n",
    "\n",
    "def Componentes(V,C,y):\n",
    "    W=[[] for a in C]\n",
    "    for k in C:\n",
    "        for i in V:\n",
    "            if y[i,k].x==1:\n",
    "                W[k].append(i)\n",
    "    return W"
   ]
  },
  {
   "cell_type": "markdown",
   "metadata": {},
   "source": [
    "## Verificamos el resultado"
   ]
  },
  {
   "cell_type": "markdown",
   "metadata": {},
   "source": [
    "<div class=\"alert alert-block alert-info\">\n",
    "<b>Modelo</b>\n",
    "\n",
    "1. $W:$ es una lista de listas, cada sublista contiene los nodos de la componente conexa,\n",
    "2. $ARCOMP:$ es una lista de listas, cada sublista contiene las aristas de la componente conexa, desde 0 a c-1,\n",
    "3. $CosComp:$ es una lista que contiene los pesos de cada arco en cada componente conexa, desde 0 a c-1,\n",
    "4. $C_{Total}:$ es la suma total de las distancias de las componentes conexas\n",
    "</div>"
   ]
  },
  {
   "cell_type": "code",
   "execution_count": null,
   "metadata": {},
   "outputs": [],
   "source": [
    "W=Componentes(V,C,y)\n",
    "ARCOMP=[Arcos_Internos_Corte(A, V, W[k]) for k in C]\n",
    "CosComp=[Costo_Subgrafo(d,ARCOMP[k]) for k in C]\n",
    "C_Total=sum(CosComp)\n",
    "print( \"La suma total de las distancias es:\", C_Total)"
   ]
  },
  {
   "cell_type": "markdown",
   "metadata": {},
   "source": [
    "### Aristas de cada componente y sus nodos"
   ]
  },
  {
   "cell_type": "code",
   "execution_count": null,
   "metadata": {
    "code_folding": []
   },
   "outputs": [],
   "source": [
    "for k in C:\n",
    "    print('Los nodos que se encuentran en la componente conexa {} son:'.format(k), W[k])\n",
    "    print('Las aristas que se encuentran en la componente conexa {} son:'.format(k), ARCOMP[k])"
   ]
  },
  {
   "cell_type": "markdown",
   "metadata": {},
   "source": [
    "### Verificamos si cada componente es conexa"
   ]
  },
  {
   "cell_type": "code",
   "execution_count": null,
   "metadata": {},
   "outputs": [],
   "source": [
    "# Extraemos las componentes en F\n",
    "import re\n",
    "#verificamos si la k-particion tiene k componentes conexas\n",
    "num_comp=0\n",
    "for i in C:\n",
    "    if nx.is_connected(G.subgraph(W[i]))==True:\n",
    "        print(\"Subgrafo %g: \" %num_comp ,W[i])\n",
    "        num_comp+=1\n",
    "if num_comp == c:\n",
    "    print(\"Existen %g compoenetes conexas\" %c)\n",
    "    print(\"El valor Objetivo es:\", mo.ObjVal)\n",
    "else:\n",
    "    print(\"Existen mas de %g componentes conexas\" %c)"
   ]
  },
  {
   "cell_type": "code",
   "execution_count": null,
   "metadata": {},
   "outputs": [],
   "source": []
  },
  {
   "cell_type": "code",
   "execution_count": null,
   "metadata": {},
   "outputs": [],
   "source": []
  },
  {
   "cell_type": "code",
   "execution_count": null,
   "metadata": {},
   "outputs": [],
   "source": []
  },
  {
   "cell_type": "code",
   "execution_count": null,
   "metadata": {
    "scrolled": true
   },
   "outputs": [],
   "source": [
    "G.randomized_partitioning()"
   ]
  },
  {
   "cell_type": "code",
   "execution_count": null,
   "metadata": {},
   "outputs": [],
   "source": [
    "def randomized_partitioning(G, seed=None, p=0.5, weight=None):\n",
    "    #A partitioning is calculated by observing each node\n",
    "    #and deciding to add it to the partition with probability `p`,\n",
    "    #returning a random cut and its corresponding value (the\n",
    "    #sum of weights of edges connecting different partitions).\n",
    "\n",
    "    #Parameters\n",
    "    #G : NetworkX graph\n",
    "\n",
    "    #seed : integer, random_state, or None (default)\n",
    "     #   Indicator of random number generation state.\n",
    "      #  See :ref:`Randomness<randomness>`.\n",
    "\n",
    "    #p : scalar\n",
    "     #   Probability for each node to be part of the first partition.\n",
    "      #  Should be in [0,1]\n",
    "\n",
    "    #weight : object\n",
    "       # Edge attribute key to use as weight. If not specified, edges\n",
    "        #have weight one.\n",
    "\n",
    "    #Returns\n",
    "    #-------\n",
    "    #cut_size : scalar\n",
    "     #   Value of the minimum cut.\n",
    "\n",
    "    #partition : pair of node sets\n",
    "     #   A partitioning of the nodes that defines a minimum cut.\n",
    "    random.seed(seed)\n",
    "    cut = {node for node in G.nodes() if random.random() < p}\n",
    "    cut_size = nx.algorithms.cut_size(G, cut, weight=weight)\n",
    "    partition = (cut, G.nodes - cut)\n",
    "    return cut_size, partition\n",
    "\n",
    "\n",
    "randomized_partitioning(G, seed=1000, p=0.4)"
   ]
  },
  {
   "cell_type": "code",
   "execution_count": null,
   "metadata": {},
   "outputs": [],
   "source": [
    "nx.is_connected(G.subgraph([2, 3, 7, 9]))"
   ]
  },
  {
   "cell_type": "code",
   "execution_count": null,
   "metadata": {},
   "outputs": [],
   "source": [
    "seed = None\n",
    "\n",
    "\n",
    "print(print() )"
   ]
  },
  {
   "cell_type": "markdown",
   "metadata": {},
   "source": [
    "# OTROS"
   ]
  },
  {
   "cell_type": "markdown",
   "metadata": {},
   "source": [
    "$$\n",
    "\\text{Restricción no Lineal, la cual convertiremos en lineal para insertarla al modelo}\n",
    "$$"
   ]
  },
  {
   "cell_type": "markdown",
   "metadata": {},
   "source": [
    "$$\n",
    "\\sum_{(i,j) \\in E} x_{i,j}^c + \\sum_{(i,j) \\in E} f_{i,j}^c = \\frac{1}{2} \\left( \\sum_{i\\in V} y_i^c \\right)  \\left( -1 \\,+ \\sum_{i\\in V} y_i^c  \\right), \\qquad \\forall c\\in [k]\n",
    "$$"
   ]
  },
  {
   "cell_type": "markdown",
   "metadata": {},
   "source": [
    "$$\n",
    "\\text{Restricción Lineal}\n",
    "$$"
   ]
  },
  {
   "cell_type": "markdown",
   "metadata": {},
   "source": [
    "$$\n",
    "\\sum_{(i,j)\\in E}x_{ij}^c + \\sum_{(i,j)\\in E}f_{ij}^c =  \\sum_{(i,j)\\in E\\,\\uplus E^c} m_{ij}^c , \\quad\\forall c\\in [k]. \n",
    "$$"
   ]
  },
  {
   "cell_type": "markdown",
   "metadata": {},
   "source": [
    "$$\n",
    "y_i^{c}+y_j^{c} \\leq m_{ij}^{c} + 1 , \\quad \\,\\forall \\{i,j\\}\\in E \\uplus E^c, \\quad \\forall c \\in [k],\n",
    "$$"
   ]
  },
  {
   "cell_type": "markdown",
   "metadata": {},
   "source": [
    "$$\n",
    "y_i^{c}+y_j^{c} \\geq 2*m_{ij}^{c} , \\quad \\,\\forall \\{i,j\\}\\in E \\uplus E^c, \\quad \\forall c \\in [k],\n",
    "$$"
   ]
  },
  {
   "cell_type": "markdown",
   "metadata": {},
   "source": [
    "<div class=\"alert alert-block alert-info\">\n",
    "<b>Restricción 2 para el problema relajado</b>\n",
    "    \n",
    "    \n",
    "Esta restricción signifia que, si hay $x_{i,j}^c$ aristas en una componente, deberían existir una cantidad exacta de $f_{i,j}^c$ en cada componente conexa\n",
    "</div>"
   ]
  },
  {
   "cell_type": "code",
   "execution_count": null,
   "metadata": {},
   "outputs": [],
   "source": [
    "#start = time.time()\n",
    "#cont9=0\n",
    "#for k in range(c):\n",
    " #   for (i,j) in A+NA:\n",
    "  #      cont9+=1\n",
    "   #     re2_name = \"Res2_delRelajado\" + str(cont9)\n",
    "    #    mo.addConstr(y[i,k]+y[j,k]-m[i,j,k] <= 1, name = re2_name)\n",
    "     #   re3_name = \"Res3_delRelajado\" + str(cont9)\n",
    "      #  mo.addConstr(y[i,k]+y[j,k]-2*m[i,j,k]>= 0 , name = re3_name)\n",
    "#end = time.time()\n",
    "#print ('El tiempo que toma crear estas restricciones son:', end-start)"
   ]
  },
  {
   "cell_type": "markdown",
   "metadata": {},
   "source": [
    "<div class=\"alert alert-block alert-info\">\n",
    "<b>Restricción para el problema relajado</b>\n",
    "    \n",
    "    \n",
    "Esta restricción signifia que, si hay $x_{i,j}^c$ aristas en una componente, deberían existir una cantidad exacta de $f_{i,j}^c$ en cada componente conexa\n",
    "</div>"
   ]
  },
  {
   "cell_type": "code",
   "execution_count": null,
   "metadata": {},
   "outputs": [],
   "source": [
    "#Restricción 2 del modelo relajado\n",
    "#start = time.time() \n",
    "#for k in C:\n",
    " #   rel_name = \"Res2_delRelajado_\" + str(k)\n",
    "  #  mo.addConstr(quicksum(x[i,j,k] for (i,j) in A) + quicksum(f[i,j,k] for (i,j) in NA) == \n",
    "   #              quicksum(m[i,j,k] for (i,j) in A+NA), name = rel_name)\n",
    "#end = time.time()\n",
    "#print ('El tiempo que toma crear estas restricciones son:', end-start)"
   ]
  },
  {
   "cell_type": "code",
   "execution_count": null,
   "metadata": {
    "code_folding": [
     0
    ]
   },
   "outputs": [],
   "source": [
    "# VERIFICAMOS SI EL GRAFO ES CONEXO:\n",
    "# Python program to print connected  \n",
    "# components in an undirected graph \n",
    "# https://www.geeksforgeeks.org/connected-components-in-an-undirected-graph/\n",
    "\n",
    "class Graph: \n",
    "      \n",
    "    # init function to declare class variables \n",
    "    def __init__(self,V): \n",
    "        self.V = V \n",
    "        self.adj = [[] for i in range(V)] \n",
    "  \n",
    "    def DFSUtil(self, temp, v, visited): \n",
    "  \n",
    "        # Mark the current vertex as visited \n",
    "        visited[v] = True\n",
    "  \n",
    "        # Store the vertex to list \n",
    "        temp.append(v) \n",
    "  \n",
    "        # Repeat for all vertices adjacent \n",
    "        # to this vertex v \n",
    "        for i in self.adj[v]: \n",
    "            if visited[i] == False: \n",
    "                  \n",
    "                # Update the list \n",
    "                temp = self.DFSUtil(temp, i, visited) \n",
    "        return temp \n",
    "  \n",
    "    # method to add an undirected edge \n",
    "    def addEdge(self, v, w): \n",
    "        self.adj[v].append(w) \n",
    "        self.adj[w].append(v) \n",
    "  \n",
    "    # Method to retrieve connected components \n",
    "    # in an undirected graph \n",
    "    def connectedComponents(self): \n",
    "        visited = [] \n",
    "        cc = [] \n",
    "        for i in range(self.V): \n",
    "            visited.append(False) \n",
    "        for v in range(self.V): \n",
    "            if visited[v] == False: \n",
    "                temp = [] \n",
    "                cc.append(self.DFSUtil(temp, v, visited)) \n",
    "        return cc \n",
    "  \n"
   ]
  },
  {
   "cell_type": "code",
   "execution_count": null,
   "metadata": {
    "code_folding": [
     0
    ]
   },
   "outputs": [],
   "source": [
    "# Driver Code \n",
    "if __name__==\"__main__\": \n",
    "      \n",
    "    # n vertices numbered from 0 to 4 \n",
    "    g = Graph(n); #está creando nodos de 0 al n\n",
    "    for k in C:\n",
    "        for (i,j) in ARCOMP[k]:\n",
    "            g.addEdge(i, j) \n",
    "        cc = g.connectedComponents()\n",
    "    for k in C:\n",
    "        cc[k]=sorted(cc[k])"
   ]
  },
  {
   "cell_type": "code",
   "execution_count": null,
   "metadata": {
    "code_folding": [
     0,
     2
    ]
   },
   "outputs": [],
   "source": [
    "if (cc==sorted(W)):\n",
    "    print(\"Cada componente si es conexa\")\n",
    "else:\n",
    "    print(\"Existen mas de C componentes conexas\")"
   ]
  },
  {
   "cell_type": "markdown",
   "metadata": {},
   "source": [
    "## Construcción de un grafo conexo aleatorio"
   ]
  },
  {
   "cell_type": "markdown",
   "metadata": {},
   "source": [
    "<div class=\"alert alert-block alert-info\">\n",
    "<b>Construcción de un grafo conexo aleatorio</b>\n",
    "    \n",
    "<i>Datos de entrada</i>\n",
    "1. $n$ es el número de nodos del grafo,\n",
    "2. $c$ es el número de componentes conexas,\n",
    "3. $C$ indexa las componentes conexas,\n",
    "4. $p$ controla la probabilidad del arco,\n",
    "6. $M$ es el parámetro de linealización del modelo.\n",
    "7. $d_0$ y $d_1$ son parámetros para determinar el rango donde está contenido el peso de las aristas.\n",
    "</div>"
   ]
  },
  {
   "cell_type": "code",
   "execution_count": null,
   "metadata": {},
   "outputs": [],
   "source": [
    "n = 100\n",
    "M = 2*n\n",
    "c = 6;     C = tuplelist(range(c))\n",
    "p = 1-0.3;   d_0, d_1 = 1, 10"
   ]
  },
  {
   "cell_type": "markdown",
   "metadata": {},
   "source": [
    "<div class=\"alert alert-block alert-info\">\n",
    "    \n",
    "<i>Constructores y conjuntos</i>\n",
    "1. $V$: es el conjunto de nodos, enumerados desde $1$ hasta $n+1$,\n",
    "2. $A$: es una lista con los arcos del grafo de la forma (i,j) con i<j,\n",
    "3. $d$: es un diccionario, donde la clave son los arcos en $A$ y el valor es la distancia,\n",
    "4. $NA$: es una lista con los arcos que no están en el grafo, con los cuales el grafo sería completo,\n",
    "5. $B$: es una lista con los arcos del grafo de la forma (i,j) con i>j, es decir en el otro sentido que en A,\n",
    "6. $m$: es la cantidad de aristas en el grafo,\n",
    "\n",
    "</div>"
   ]
  },
  {
   "cell_type": "code",
   "execution_count": null,
   "metadata": {},
   "outputs": [],
   "source": [
    "V    = range(1, n+1)\n",
    "Prob = np.random.random( (n,n) );             #np.random.seed(seed=50)\n",
    "Prov = np.argwhere(np.triu(Prob, 2) >= p) + 1\n",
    "A    = [(i,i+1) for i in range(1,n)];    A += [ (a[0],a[1]) for a in Prov ];    A = sorted(A)\n",
    "m    = len(A)\n",
    "Rand = np.random.randint(d_0, d_1+1, m)\n",
    "d    = {A[i] : Rand[i] for i in range(m)}\n",
    "NA   = []\n",
    "Nrov = np.argwhere( (np.triu(Prob, 2) < p) * (np.triu(np.ones((n,n)), 2) == 1) ) +1\n",
    "NA   = [ (a[0],a[1]) for a in Nrov ]\n",
    "B = [(j,i) for (i,j) in A]\n",
    "print('El número de nodos del grafo es:', format(n))\n",
    "print('El número de aristas del grafo es:', format(m))\n",
    "print('El número de componentes conexas que se quiere del grafo es:', format(c))"
   ]
  },
  {
   "cell_type": "code",
   "execution_count": null,
   "metadata": {},
   "outputs": [],
   "source": []
  },
  {
   "cell_type": "markdown",
   "metadata": {},
   "source": [
    "#### Restricciones del modelo relajado"
   ]
  },
  {
   "cell_type": "code",
   "execution_count": null,
   "metadata": {},
   "outputs": [],
   "source": [
    "# Esta es otra forma de hacer las restricciones del modelo relajado pero toma full time\n",
    "start = time.time()\n",
    "cont9=0\n",
    "for k in range(c):\n",
    "    cont9+=1\n",
    "    re2_name = \"Res2_delRelajado\" + str(cont9)\n",
    "    mo.addConstrs((y[i,k]+y[j,k]-m[i,j,k]<=1 for (i,j) in A+NA), name=re2_name)\n",
    "    re3_name = \"Res3_delRelajado\" + str(cont9)\n",
    "    mo.addConstrs((y[i,k]-m[i,j,k]>=0 for (i,j) in A+NA), name=re3_name)\n",
    "    mo.addConstrs((y[j,k]-m[i,j,k]>=0 for (i,j) in A+NA), name=re3_name)\n",
    "    \n",
    "end = time.time()\n",
    "print ('El tiempo que toma crear estas restricciones son:', end-start)"
   ]
  },
  {
   "cell_type": "markdown",
   "metadata": {},
   "source": [
    "$$\n",
    "\\sum_{i\\in V} y_i^c(\\sum_{i\\in V} y_i^c)=\\sum_{j\\in V}\\sum_{i\\in V}y_i^c*y_j^c=\\sum_{i\\in V}(y_i^c)^2+\\sum_{i\\neq j}y_i^c*y_j^c \n",
    "$$"
   ]
  },
  {
   "cell_type": "markdown",
   "metadata": {},
   "source": [
    "$$\n",
    "m_{ij}^c=y_i^c*y_j^c \\qquad m_{ij}^c\\in \\{0, 1\\} \\quad\\forall \\{i,j\\}\\in E \\uplus E^c \n",
    "$$"
   ]
  },
  {
   "cell_type": "code",
   "execution_count": null,
   "metadata": {},
   "outputs": [],
   "source": []
  },
  {
   "cell_type": "code",
   "execution_count": null,
   "metadata": {},
   "outputs": [],
   "source": []
  }
 ],
 "metadata": {
  "kernelspec": {
   "display_name": "Python 3",
   "language": "python",
   "name": "python3"
  },
  "language_info": {
   "codemirror_mode": {
    "name": "ipython",
    "version": 3
   },
   "file_extension": ".py",
   "mimetype": "text/x-python",
   "name": "python",
   "nbconvert_exporter": "python",
   "pygments_lexer": "ipython3",
   "version": "3.8.8"
  }
 },
 "nbformat": 4,
 "nbformat_minor": 2
}
