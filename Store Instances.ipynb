{
 "cells": [
  {
   "cell_type": "code",
   "execution_count": 1,
   "id": "ea4ea064",
   "metadata": {
    "code_folding": [
     0
    ]
   },
   "outputs": [],
   "source": [
    "# Packages\n",
    "import pandas as pd    # https://pandas.pydata.org/\n",
    "import numpy  as np    # Numpy\n",
    "import igraph as ig    # iGraph\n",
    "from InstancesGenerator import Graph_Instance\n",
    "from numpy.random import default_rng\n",
    "from scipy.stats import describe"
   ]
  },
  {
   "cell_type": "markdown",
   "id": "056e75b4",
   "metadata": {},
   "source": [
    "Instance data:"
   ]
  },
  {
   "cell_type": "code",
   "execution_count": 2,
   "id": "04a3d0ac",
   "metadata": {},
   "outputs": [],
   "source": [
    "ins = 'Tree(33)'\n",
    "k = 4                    # Number of connected components\n",
    "α = 8                    # Minimum value of elements"
   ]
  },
  {
   "cell_type": "markdown",
   "id": "70840856",
   "metadata": {},
   "source": [
    "# Create and store graph"
   ]
  },
  {
   "cell_type": "code",
   "execution_count": 3,
   "id": "76679bdf",
   "metadata": {},
   "outputs": [],
   "source": [
    "rng = default_rng(0)\n",
    "G = Graph_Instance(ins)\n",
    "G.to_undirected()\n",
    "G = G.simplify(combine_edges='max')\n",
    "if 'w' not in G.es.attribute_names():\n",
    "    G.es['w'] = rng.integers(1, 10, G.ecount(), endpoint=True)"
   ]
  },
  {
   "cell_type": "code",
   "execution_count": 4,
   "id": "3b968c04",
   "metadata": {},
   "outputs": [
    {
     "name": "stdout",
     "output_type": "stream",
     "text": [
      "(n,m) = (33, 32) \n",
      "Cost: 187\n"
     ]
    }
   ],
   "source": [
    "A = G.get_edgelist() # edges\n",
    "V = G.vs.indices     # nodes\n",
    "n = G.vcount()\n",
    "m = G.ecount()\n",
    "\n",
    "print('(n,m) =', (n,m),'\\nCost:',sum(G.es['w']))"
   ]
  },
  {
   "cell_type": "code",
   "execution_count": 5,
   "id": "f611fc70",
   "metadata": {},
   "outputs": [],
   "source": [
    "if len(G.vs.attribute_names()) == 0:\n",
    "    G.vs['_nx_name'] = range(n)"
   ]
  },
  {
   "cell_type": "code",
   "execution_count": 6,
   "id": "84e263ed",
   "metadata": {},
   "outputs": [
    {
     "data": {
      "text/plain": [
       "DescribeResult(nobs=33, minmax=(0, 32), mean=16.0, variance=93.5, skewness=0.0, kurtosis=-1.2022058823529413)"
      ]
     },
     "metadata": {},
     "output_type": "display_data"
    },
    {
     "data": {
      "text/plain": [
       "DescribeResult(nobs=32, minmax=(1, 10), mean=5.84375, variance=9.42641129032258, skewness=-0.37359039407490163, kurtosis=-1.1982390543789534)"
      ]
     },
     "metadata": {},
     "output_type": "display_data"
    }
   ],
   "source": [
    "display(describe(G.vs['_nx_name']))\n",
    "display(describe(G.es['w']))"
   ]
  },
  {
   "cell_type": "code",
   "execution_count": 7,
   "id": "437f61b4",
   "metadata": {},
   "outputs": [],
   "source": [
    "file = 'Instances/{0},({1},{2}).pkl'.format(ins,k,α)"
   ]
  },
  {
   "cell_type": "code",
   "execution_count": 8,
   "id": "d9dda230",
   "metadata": {},
   "outputs": [],
   "source": [
    "G.write_pickle(file)"
   ]
  },
  {
   "cell_type": "markdown",
   "id": "bd83cca2",
   "metadata": {},
   "source": [
    "# Load graph and verify attributes"
   ]
  },
  {
   "cell_type": "markdown",
   "id": "06134d4b",
   "metadata": {},
   "source": [
    "Restart kernel before running the following code."
   ]
  },
  {
   "cell_type": "code",
   "execution_count": 3,
   "id": "7f1f73fd",
   "metadata": {},
   "outputs": [],
   "source": [
    "file = 'Instances/{0},({1},{2}).pkl'.format(ins,k,α)"
   ]
  },
  {
   "cell_type": "code",
   "execution_count": 4,
   "id": "8f81c9ea",
   "metadata": {},
   "outputs": [],
   "source": [
    "G = ig.Graph.Read_Pickle(file)"
   ]
  },
  {
   "cell_type": "code",
   "execution_count": 5,
   "id": "c6d2cf67",
   "metadata": {},
   "outputs": [
    {
     "name": "stdout",
     "output_type": "stream",
     "text": [
      "(n,m) = (6, 12) \n",
      "Cost: 60\n"
     ]
    }
   ],
   "source": [
    "A = G.get_edgelist() # edges\n",
    "V = G.vs.indices     # nodes\n",
    "n = G.vcount()\n",
    "m = G.ecount()\n",
    "\n",
    "print('(n,m) =', (n,m),'\\nCost:',sum(G.es['w']))"
   ]
  },
  {
   "cell_type": "code",
   "execution_count": 6,
   "id": "b7ee4935",
   "metadata": {},
   "outputs": [
    {
     "data": {
      "text/plain": [
       "DescribeResult(nobs=6, minmax=(0, 5), mean=2.5, variance=3.5, skewness=0.0, kurtosis=-1.2685714285714282)"
      ]
     },
     "metadata": {},
     "output_type": "display_data"
    },
    {
     "data": {
      "text/plain": [
       "DescribeResult(nobs=12, minmax=(1, 10), mean=5.0, variance=11.636363636363637, skewness=0.10046735273134129, kurtosis=-1.5087890625)"
      ]
     },
     "metadata": {},
     "output_type": "display_data"
    }
   ],
   "source": [
    "display(describe(G.vs['_nx_name']))\n",
    "display(describe(G.es['w']))"
   ]
  },
  {
   "cell_type": "markdown",
   "id": "d2c65531",
   "metadata": {},
   "source": [
    "---"
   ]
  }
 ],
 "metadata": {
  "kernelspec": {
   "display_name": "Python 3 (ipykernel)",
   "language": "python",
   "name": "python3"
  },
  "language_info": {
   "codemirror_mode": {
    "name": "ipython",
    "version": 3
   },
   "file_extension": ".py",
   "mimetype": "text/x-python",
   "name": "python",
   "nbconvert_exporter": "python",
   "pygments_lexer": "ipython3",
   "version": "3.9.10"
  },
  "nbTranslate": {
   "displayLangs": [
    "*"
   ],
   "hotkey": "alt-t",
   "langInMainMenu": true,
   "sourceLang": "en",
   "targetLang": "fr",
   "useGoogleTranslate": true
  }
 },
 "nbformat": 4,
 "nbformat_minor": 5
}
