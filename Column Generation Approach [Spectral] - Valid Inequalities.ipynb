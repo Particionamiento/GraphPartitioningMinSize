{
 "cells": [
  {
   "cell_type": "markdown",
   "metadata": {},
   "source": [
    "# Spectral assisted column generation model for Graph Partitioning in Connected Components"
   ]
  },
  {
   "cell_type": "markdown",
   "metadata": {},
   "source": [
    "## Problem statement"
   ]
  },
  {
   "cell_type": "markdown",
   "metadata": {},
   "source": [
    "Let \n",
    "* $G = (V,E)$ be an undirected graph, with $V = \\{1,\\ldots, n\\}$ being its node set, and $E \\subset \\{ \\{i,j\\}:\\, i,j\\in V, i \\neq j \\}$ being its edge set. \n",
    "* $ d: E \\to \\mathbb{R}^{+}$ be a cost function, \n",
    "* $k\\geq 2$ an integer denoting the fixed number of connected components to partition $G$ into,\n",
    "* $\\alpha \\geq 2$ an integer numbers representing the minimum cardinality of each connected component.\n",
    "\n",
    "A $k$-partition of $V$ is a set $\\{V_1,V_2,\\ldots,V_k\\}$ where $V_i\\cap V_j=\\emptyset$ for all $i\\neq j$, $\\bigcup_{c=1}^k V_c=V$, and $V_c \\neq \\emptyset$ for all $ c \\in [k]$, where $[k]$ denotes the set $\\{1,\\ldots,k\\}$. \n",
    "\n",
    "\n",
    "The partitioning problem in connected components with minimum size constraints consists of finding a  $k$-partition $\\{V_1,V_2,\\ldots,V_k\\}$ such that each subset $V_c$ induces a connected subgraph, with $|V_c| \\geq \\alpha$, and the total cost of the edges with end nodes in the same subset of the partition is minimized.\n",
    "\n",
    "\n",
    "Observe that each connected component of $G$ will have at most $\\beta := n-(k-1)\\alpha$ nodes. Moreover,  $\\alpha$ has to be less than $ \\left\\lceil \\frac{n}{k} \\right\\rceil$, otherwise the problem is infeasible."
   ]
  },
  {
   "cell_type": "markdown",
   "metadata": {},
   "source": [
    "The graph partitioning problem in connected components with minimum size constraints is modeled as a set partitioning problem, where each node must be assigned to exactly one connected component. Given a finite family $\\mathcal{F}$ of all induced connected subgraphs of $G$ with number of nodes between $\\alpha$ and $\\beta$, the task consists of finding a subfamily $F\\subseteq \\mathcal{F}$, with cardinality $|F| = k$, of pairwise disjoint subgraphs such that $\\bigcup_{f\\in F} f = V$, and the total cost is minimized.\n",
    "\n",
    "* $a_{i,f} \\in \\{0,1\\}$ takes the value of one if the connected component $f\\in F$ contains the node $i \\in V$, and zero otherwise. \n",
    "* $c_f\\geq 0$ be the cost of $f\\in F$, which is equal to the total cost of the edges in the connected component.\n",
    "* $x_f$ is a decision variable taking the value of one if the connected component $f$ belongs to a solution, and zero otherwise. \n",
    "\n",
    "Thus, the graph partitioning problem in connected components with minimum size constraints can be formulated as follows "
   ]
  },
  {
   "cell_type": "markdown",
   "metadata": {},
   "source": [
    "\\begin{align}\n",
    "\\min &\\sum_{f\\in \\mathcal{F}} c_f\\, x_f\n",
    "\\\\\n",
    "\\text{s.t.}\\qquad & \n",
    "\\\\\n",
    "&\\sum_{f\\in \\mathcal{F}} a_{i,f} x_f  = 1, &&\\forall i \\in V,\n",
    "\\\\\n",
    "&\\sum_{f\\in \\mathcal{F}} x_f = k.\n",
    "\\end{align}"
   ]
  },
  {
   "cell_type": "markdown",
   "metadata": {},
   "source": [
    "As the set $\\mathcal{F}$ has an exponential number of elements, the model is initialized with a small subset of connected components $\\hat F \\subset \\mathcal{F}$, and additional components are included throughout an iterative scheme."
   ]
  },
  {
   "cell_type": "markdown",
   "metadata": {},
   "source": [
    "## Implementation"
   ]
  },
  {
   "cell_type": "code",
   "execution_count": 1,
   "metadata": {},
   "outputs": [],
   "source": [
    "from   gurobipy   import *\n",
    "import pandas as pd    # https://pandas.pydata.org/\n",
    "import numpy  as np    # Numpy\n",
    "import igraph as ig    # iGraph\n",
    "import time\n",
    "import networkx as nx\n",
    "import matplotlib.pyplot as plt\n",
    "import matplotlib.ticker as mticker"
   ]
  },
  {
   "cell_type": "code",
   "execution_count": 2,
   "metadata": {
    "code_folding": []
   },
   "outputs": [],
   "source": [
    "#from InstancesGenerator import Graph_Instance      # Not needed\n",
    "from warnings     import warn\n",
    "from os           import listdir\n",
    "from re           import findall\n",
    "\n",
    "from collections  import deque, Counter\n",
    "from itertools    import chain \n",
    "from numpy.random import default_rng\n",
    "from matplotlib   import cm"
   ]
  },
  {
   "cell_type": "code",
   "execution_count": 3,
   "metadata": {},
   "outputs": [],
   "source": [
    "from scipy.sparse        import csr_matrix, spdiags\n",
    "from scipy.sparse.linalg import eigs\n",
    "from k_means_constrained import KMeansConstrained"
   ]
  },
  {
   "cell_type": "code",
   "execution_count": 4,
   "metadata": {},
   "outputs": [],
   "source": [
    "# Aliases\n",
    "from numpy import argsort, delete, unique, floor, ceil, argsort, around"
   ]
  },
  {
   "cell_type": "markdown",
   "metadata": {},
   "source": [
    "### Graph selection"
   ]
  },
  {
   "cell_type": "markdown",
   "metadata": {},
   "source": [
    "An instance is selected. For more information about the available instances, see [```Instance generator NB.ipynb```](Instance%20generator%20NB.ipynb) and the associated function [```InstancesGenerator.py```](InstancesGenerator.py)."
   ]
  },
  {
   "cell_type": "code",
   "execution_count": 5,
   "metadata": {},
   "outputs": [],
   "source": [
    "ins = 'I(60)-4,(9,2)'"
   ]
  },
  {
   "cell_type": "code",
   "execution_count": 6,
   "metadata": {
    "scrolled": true
   },
   "outputs": [
    {
     "data": {
      "text/plain": [
       "'I(60)-4,(9,2)'"
      ]
     },
     "metadata": {},
     "output_type": "display_data"
    }
   ],
   "source": [
    "Instance_path = 'Instances/'\n",
    "instance = [f[:-4] for f in listdir(Instance_path) if f.startswith(ins)][0]\n",
    "k, α = [int(i) for i in findall(r'\\((.*?)\\)',instance)[-1].split(',')]\n",
    "display(instance)"
   ]
  },
  {
   "cell_type": "code",
   "execution_count": 7,
   "metadata": {},
   "outputs": [],
   "source": [
    "#file   = 'Instances/{0},({1},{2}).pkl'.format(ins,k,α)\n",
    "file = 'Instances/{0}.pkl'.format(instance)"
   ]
  },
  {
   "cell_type": "code",
   "execution_count": 8,
   "metadata": {},
   "outputs": [],
   "source": [
    "'''rng = default_rng(0)\n",
    "ins = 'I(70)-5'\n",
    "G = Graph_Instance(ins)\n",
    "G.to_undirected()\n",
    "G = G.simplify(combine_edges='min')'''\n",
    "\n",
    "G = ig.Graph.Read_Pickle(file)"
   ]
  },
  {
   "cell_type": "code",
   "execution_count": 9,
   "metadata": {},
   "outputs": [
    {
     "name": "stdout",
     "output_type": "stream",
     "text": [
      "(n,m) = (60, 102) \n",
      "Cost: 574\n"
     ]
    }
   ],
   "source": [
    "A = G.get_edgelist() # edges\n",
    "V = G.vs.indices     # nodes\n",
    "n = G.vcount()\n",
    "m = G.ecount()\n",
    "\n",
    "print('(n,m) =', (n,m),'\\nCost:',sum(G.es['w']))"
   ]
  },
  {
   "cell_type": "code",
   "execution_count": 10,
   "metadata": {
    "code_folding": []
   },
   "outputs": [
    {
     "data": {
      "image/png": "[encoded data removed]",
      "text/plain": [
       "<Figure size 1080x216 with 1 Axes>"
      ]
     },
     "metadata": {},
     "output_type": "display_data"
    }
   ],
   "source": [
    "# Display graph\n",
    "plt.figure(figsize=(15,3))\n",
    "nx.draw(G.to_networkx(), nx.spring_layout(G.to_networkx(), seed=2), with_labels=True, style=':',\n",
    "        width=0.2, alpha=0.9, edge_color=\"tab:red\",font_size=10, font_color=\"white\",node_color=\"black\")\n",
    "plt.title('Connected graph' if G.is_connected() else 'Warning: unconnected graph')\n",
    "plt.draw()"
   ]
  },
  {
   "cell_type": "code",
   "execution_count": 11,
   "metadata": {},
   "outputs": [],
   "source": [
    "d = {a:G.es[G.get_eid(a[0],a[1])]['w'] for a in G.get_edgelist()}    # cost function"
   ]
  },
  {
   "cell_type": "code",
   "execution_count": 12,
   "metadata": {
    "code_folding": []
   },
   "outputs": [
    {
     "name": "stdout",
     "output_type": "stream",
     "text": [
      "3 leafs detected.\n"
     ]
    }
   ],
   "source": [
    "# Leaf finder\n",
    "Leafs = [(i,G.neighbors(i)[0]) for i in V if G.degree(i) == 1]\n",
    "Leafs = [e if e in A else e[::-1] for e in Leafs]\n",
    "print(len([i for i in V if G.degree(i) == 1]),'leafs detected.')"
   ]
  },
  {
   "cell_type": "markdown",
   "metadata": {},
   "source": [
    "### Problem setup"
   ]
  },
  {
   "cell_type": "code",
   "execution_count": 13,
   "metadata": {
    "code_folding": []
   },
   "outputs": [
    {
     "name": "stdout",
     "output_type": "stream",
     "text": [
      "Created instance with (k,α) = (9,2).\n"
     ]
    }
   ],
   "source": [
    "'''\n",
    "k = 9;     K = tuplelist(range(k))    # Number of connected components\n",
    "α = 2                                 # Minimum number of nodes per component\n",
    "'''\n",
    "#α = 4\n",
    "\n",
    "K = tuplelist(range(k))               # Index of connected components\n",
    "β = n - (k-1)*α                       # Maximum number of nodes per component\n",
    "print('Created instance with (k,α) = ({0},{1}).'.format(\n",
    "    k,α)) if α <= floor(n/k) else warn('\\n\\n*** α is too big! ***\\n\\n')"
   ]
  },
  {
   "cell_type": "code",
   "execution_count": 14,
   "metadata": {},
   "outputs": [],
   "source": [
    "# To improve numerics, we will divide the objective by\n",
    "#D = 1.0#/(2*k) #\n",
    "D = 0.5 * sum(G.es['w']) / k"
   ]
  },
  {
   "cell_type": "markdown",
   "metadata": {},
   "source": [
    "### Build an initial partition"
   ]
  },
  {
   "cell_type": "markdown",
   "metadata": {},
   "source": [
    "This is needed in order to initialise the CG algorithm with a feasible relaxation."
   ]
  },
  {
   "cell_type": "code",
   "execution_count": 15,
   "metadata": {
    "code_folding": [
     0
    ],
    "scrolled": true
   },
   "outputs": [],
   "source": [
    "def C_Cut(G, C):\n",
    "    '''\n",
    "        Return cut edges of a given node set C\n",
    "        Input:\n",
    "            G: Undirected graph\n",
    "            C: subset of nodes in G\n",
    "    '''\n",
    "    Set_Incidence = [set(G.incident(i)) for i in C]        # List of incident edges for each node in C\n",
    "    # Compute symmetric difference of all sets in Set_Incidence:\n",
    "    freq = Counter(chain.from_iterable(Set_Incidence) )    # Obtain frequencies\n",
    "    res  = {idx for idx in freq if freq[idx] == 1}         # Retrieve elements with frequency 1\n",
    "    \n",
    "    # If we need the edges themselves:\n",
    "    # Cut = [G.es[e].tuple for e in res]\n",
    "    return res"
   ]
  },
  {
   "cell_type": "code",
   "execution_count": 16,
   "metadata": {
    "code_folding": [
     0
    ]
   },
   "outputs": [],
   "source": [
    "def Initial_Partition(G, k, α):\n",
    "    '''\n",
    "        Return a initial partition F of V that induces connected components in G\n",
    "        Input:\n",
    "            G: Undirected graph\n",
    "            k: Number of aimed connected components\n",
    "            α: Minimum size of partitions\n",
    "    '''\n",
    "    \n",
    "    F = {};    Q = G.vs.indices.copy()\n",
    "    Ĝ = G.copy()\n",
    "    # Create a dictionary to identify each node with its index in G\n",
    "    Ids = {Ĝ.vs['_nx_name'][i]: Ĝ.vs.indices[i] for i in range(len(Ĝ.vs.indices)) }\n",
    "    \n",
    "    # Build k-1 connected components\n",
    "    for c in range(k-1):\n",
    "        C = {Q.pop(0)}\n",
    "        # Add nodes to C\n",
    "        while (len(C) < α):\n",
    "            # Identify node in subgraph\n",
    "            Id_C = { Ids[c] for c in C }\n",
    "            # Retrieve weights from cut\n",
    "            weights = {e: Ĝ.es[e]['w'] for e in C_Cut(Ĝ, Id_C)}\n",
    "            # Smallest weight in cut\n",
    "            Idₑ, cₑ = min(weights.items(), key = lambda x: x[1])\n",
    "            # Identify edge in the original graph\n",
    "            e = ( Ĝ.vs[Ĝ.es[Idₑ].source]['_nx_name'], Ĝ.vs[Ĝ.es[Idₑ].target]['_nx_name'])\n",
    "            # Select node that will be added to C\n",
    "            i = e[1] if e[0] in C else e[0]\n",
    "            # Remove it from Q and add node\n",
    "            Q.remove(i)\n",
    "            C |= {i} \n",
    "        \n",
    "        # Add nodes to component\n",
    "        F[c] = sorted(C)\n",
    "        # Reduce graph\n",
    "        Ĝ   = Ĝ.induced_subgraph({ Ids[c] for c in Q })\n",
    "        Ids = {Ĝ.vs['_nx_name'][i]: Ĝ.vs.indices[i] for i in range(len(Ĝ.vs.indices)) }\n",
    "    \n",
    "    # Last component is made up of the unused nodes.\n",
    "    if G.induced_subgraph(Q).is_connected():\n",
    "        F[k-1] = sorted(set(Q))\n",
    "        print('Feasible partition found.')\n",
    "        return F\n",
    "    else:\n",
    "        warn('No feasible partition found. Use another method to generate an initial partition to proceed.')\n",
    "        return None"
   ]
  },
  {
   "cell_type": "code",
   "execution_count": 17,
   "metadata": {},
   "outputs": [
    {
     "name": "stdout",
     "output_type": "stream",
     "text": [
      "None\n"
     ]
    },
    {
     "name": "stderr",
     "output_type": "stream",
     "text": [
      "/var/folders/1g/8szp6jr52h1byl43_1lx7zlm0000gn/T/ipykernel_23380/2468667531.py:46: UserWarning: No feasible partition found. Use another method to generate an initial partition to proceed.\n",
      "  warn('No feasible partition found. Use another method to generate an initial partition to proceed.')\n"
     ]
    }
   ],
   "source": [
    "F = Initial_Partition(G, k, α)\n",
    "print(F)"
   ]
  },
  {
   "cell_type": "code",
   "execution_count": 18,
   "metadata": {},
   "outputs": [],
   "source": [
    "# If an initial partition is not found, then create a spectral partitioning\n",
    "smart_init = False\n",
    "if F is None:\n",
    "    smart_init = True\n",
    "\n",
    "# Build cost matrix using adjacency data\n",
    "S  = csr_matrix(( list(d.values()), ([i for (i,j) in d.keys()], \n",
    "                                     [j for (i,j) in d.keys()])), shape=(n, n), dtype='float' )\n",
    "S += S.T\n",
    "S /= D\n",
    "\n",
    "\n",
    "# *** Create base spectral embedding ***\n",
    "dₛ = S.sum(axis=1).A1                                 # Weighted degree\n",
    "P = spdiags(1/dₛ, 0, n, n, format='csr').dot(S)       # Transition matrix\n",
    "λₖ, eₖ = eigs(P, k, which='LR') # ojo\n",
    "# Order obtained eigenvalues and retrieve encoding\n",
    "ordered = argsort(λₖ.real)\n",
    "eₖ = eₖ[:,ordered].real[:,:-1]\n",
    "λₖ = λₖ[ordered].real[:-1]\n",
    "\n",
    "\n",
    "# Create spectral partition\n",
    "if smart_init:\n",
    "    km = KMeansConstrained(n_clusters = k, size_min = α, size_max = β,\n",
    "                   random_state=0, n_init=20, tol = 1e-10, verbose=0, n_jobs=-1).fit_predict(eₖ)\n",
    "    #print(km)\n",
    "    F = {c: sorted([i for i in V if km[i]==c]) for c in K}\n",
    "\n",
    "# S allows for fast computation of costs associated to components\n",
    "c = {i: 0.5 * S[np.ix_(F[i],F[i])].A.sum() for i in F.keys()}"
   ]
  },
  {
   "cell_type": "markdown",
   "metadata": {},
   "source": [
    "Build cost matrix using adjacency data"
   ]
  },
  {
   "cell_type": "code",
   "execution_count": 19,
   "metadata": {},
   "outputs": [],
   "source": [
    "S  = csr_matrix(( list(d.values()), ([i for (i,j) in d.keys()], [j for (i,j) in d.keys()])), shape=(n, n), dtype='float' )\n",
    "S += S.T\n",
    "S /= D"
   ]
  },
  {
   "cell_type": "markdown",
   "metadata": {},
   "source": [
    "Using `S` we can obtain a cheap way to compute the cost of each connected component:"
   ]
  },
  {
   "cell_type": "code",
   "execution_count": 20,
   "metadata": {},
   "outputs": [
    {
     "name": "stdout",
     "output_type": "stream",
     "text": [
      "{0: 2.038327526132404, 1: 2.445993031358885, 2: 1.4738675958188152, 3: 0.28222996515679444, 4: 0.4390243902439024, 5: 1.254355400696864, 6: 1.2229965156794425, 7: 1.4738675958188154, 8: 1.8501742160278747}\n"
     ]
    }
   ],
   "source": [
    "c = {i: 0.5 * S[np.ix_(F[i],F[i])].A.sum() for i in F.keys()}\n",
    "print(c)"
   ]
  },
  {
   "cell_type": "markdown",
   "metadata": {},
   "source": [
    "### Build model"
   ]
  },
  {
   "cell_type": "code",
   "execution_count": 21,
   "metadata": {},
   "outputs": [],
   "source": [
    "if 'mo' in globals():        mo.dispose();    disposeDefaultEnv();    del mo"
   ]
  },
  {
   "cell_type": "code",
   "execution_count": 22,
   "metadata": {},
   "outputs": [
    {
     "name": "stdout",
     "output_type": "stream",
     "text": [
      "Set parameter Username\n",
      "Academic license - for non-commercial use only - expires 2023-11-09\n"
     ]
    }
   ],
   "source": [
    "mo = Model()\n",
    "x  = tupledict()    # Dictionaries will contain variables"
   ]
  },
  {
   "cell_type": "code",
   "execution_count": 23,
   "metadata": {},
   "outputs": [],
   "source": [
    "# *** Variables ***\n",
    "x = mo.addVars(F.keys(), vtype = 'B', name = 'x', obj = c)        # Indicators of each component"
   ]
  },
  {
   "cell_type": "code",
   "execution_count": 24,
   "metadata": {},
   "outputs": [],
   "source": [
    "# *** Constraints ***\n",
    "# Each node is part of just one cluster (As there is only one partition, we only iterate over its elements)\n",
    "for i,f in F.items():\n",
    "    mo.addConstrs( (x[i] == 1 for j in f), name = 'Rb') #for i in f:mo.addConstr(x[i]==1, name='R[{0}]'.format(i))\n",
    "# k connected components have to be selected\n",
    "mo.addConstr( x.sum() == k, name = 'Rc')\n",
    "mo.update()"
   ]
  },
  {
   "cell_type": "code",
   "execution_count": 25,
   "metadata": {},
   "outputs": [
    {
     "name": "stdout",
     "output_type": "stream",
     "text": [
      "Gurobi Optimizer version 10.0.0 build v10.0.0rc2 (mac64[arm])\n",
      "\n",
      "CPU model: Apple M1\n",
      "Thread count: 8 physical cores, 8 logical processors, using up to 8 threads\n",
      "\n",
      "Optimize a model with 61 rows, 9 columns and 69 nonzeros\n",
      "Model fingerprint: 0x90c79075\n",
      "Variable types: 0 continuous, 9 integer (9 binary)\n",
      "Coefficient statistics:\n",
      "  Matrix range     [1e+00, 1e+00]\n",
      "  Objective range  [3e-01, 2e+00]\n",
      "  Bounds range     [1e+00, 1e+00]\n",
      "  RHS range        [1e+00, 9e+00]\n",
      "Found heuristic solution: objective 12.4808362\n",
      "Presolve removed 61 rows and 9 columns\n",
      "Presolve time: 0.00s\n",
      "Presolve: All rows and columns removed\n",
      "\n",
      "Explored 0 nodes (0 simplex iterations) in 0.01 seconds (0.00 work units)\n",
      "Thread count was 1 (of 8 available processors)\n",
      "\n",
      "Solution count 1: 12.4808 \n",
      "\n",
      "Optimal solution found (tolerance 1.00e-04)\n",
      "Best objective 1.248083623693e+01, best bound 1.248083623693e+01, gap 0.0000%\n"
     ]
    }
   ],
   "source": [
    "#mo.write('Problem[{0},{1},{2}].lp'.format(ins,k,α))\n",
    "mo.optimize()"
   ]
  },
  {
   "cell_type": "code",
   "execution_count": 26,
   "metadata": {},
   "outputs": [
    {
     "name": "stdout",
     "output_type": "stream",
     "text": [
      "Current objective is: 398.\n"
     ]
    }
   ],
   "source": [
    "print('Current objective is: ', int(D * mo.ObjVal), '.', sep='')"
   ]
  },
  {
   "cell_type": "markdown",
   "metadata": {},
   "source": [
    "### Column generation"
   ]
  },
  {
   "cell_type": "markdown",
   "metadata": {},
   "source": [
    "#### Spectral embedding"
   ]
  },
  {
   "cell_type": "markdown",
   "metadata": {},
   "source": [
    "First, we precompute the spectral embedding of $V$.\n",
    "Our aim is to get a partition using the method ```SpectralClustering``` described in [Spectral Clustering: a Tutorial for the 2010’s by Marina Meila](https://sites.stat.washington.edu/people/mmp/Papers/ch2.2-arxiv.pdf)."
   ]
  },
  {
   "cell_type": "code",
   "execution_count": 27,
   "metadata": {},
   "outputs": [],
   "source": [
    "dₛ = S.sum(axis=1).A1                                 # Weighted degree\n",
    "P = spdiags(1/dₛ, 0, n, n, format='csr').dot(S)       # Transition matrix"
   ]
  },
  {
   "cell_type": "code",
   "execution_count": 28,
   "metadata": {},
   "outputs": [],
   "source": [
    "λₖ, eₖ = eigs(P, k, which='LR') # ojo"
   ]
  },
  {
   "cell_type": "code",
   "execution_count": 29,
   "metadata": {},
   "outputs": [],
   "source": [
    "# Order obtained eigenvalues and retrieve encoding\n",
    "ordered = argsort(λₖ.real)\n",
    "eₖ = eₖ[:,ordered].real[:,:-1]\n",
    "λₖ = λₖ[ordered].real[:-1]"
   ]
  },
  {
   "cell_type": "markdown",
   "metadata": {},
   "source": [
    "We will use the constrained $k$-means clustering [algorithm](https://www.microsoft.com/en-us/research/wp-content/uploads/2016/02/tr-2000-65.pdf) using the implementation of [https://github.com/joshlk/k-means-constrained](https://github.com/joshlk/k-means-constrained)."
   ]
  },
  {
   "cell_type": "markdown",
   "metadata": {},
   "source": [
    "#### Additional parameters and functions"
   ]
  },
  {
   "cell_type": "code",
   "execution_count": 30,
   "metadata": {},
   "outputs": [],
   "source": [
    "RelObj = []\n",
    "CG_Iterations = 100          # Number of column generation iterations\n",
    "δ = 30                      # Max number of columns to be added each iteration\n",
    "κ = len(F)                  # Number of connected components"
   ]
  },
  {
   "cell_type": "code",
   "execution_count": 31,
   "metadata": {
    "code_folding": [
     0
    ]
   },
   "outputs": [],
   "source": [
    "def C_neighbours(G,C):\n",
    "    '''\n",
    "        Return neighbours of a given set C\n",
    "        Input:\n",
    "            G: Undirected graph\n",
    "            C: Set containing nodes in G \n",
    "    '''\n",
    "    return set().union(*G.neighborhood(C, mindist = 1)) - C"
   ]
  },
  {
   "cell_type": "code",
   "execution_count": 32,
   "metadata": {
    "code_folding": [
     1
    ]
   },
   "outputs": [],
   "source": [
    "# Check viability of neighborhood selection\n",
    "def Heuristic_Pricing(G, F, α, β, π, γ, Infeasible):\n",
    "    '''\n",
    "        Return set of connected components from G\n",
    "        Input:\n",
    "            G:          Undirected graph\n",
    "            F:          Set of feasible connected components\n",
    "            (α,β):      Lower and upper bounds on size of components\n",
    "            (π,γ):      Shadow prices associated with nodes and adding a column\n",
    "            Infeasible: Set with forbidden components\n",
    "    '''\n",
    "    \n",
    "    P  = []                         # To store generated connected components, reduced cost, and real cost\n",
    "    NC = []                         # To store generated connected components\n",
    "    for v in G.vs.indices:\n",
    "        C = {v}\n",
    "        while (len(C) <= β - 1):\n",
    "            N = C_neighbours(G,C)   # Obtain the neighborhood of C\n",
    "            N = {i for i in N if abs(π[i]) > 0.0 } # Only add nodes that contribute something\n",
    "            \n",
    "            if N == set():                break\n",
    "            \n",
    "            # We evaluate the reduced costs for expanding C with elements of the neighborhood\n",
    "            r_ŝ = np.inf            # Smallest reduced cost\n",
    "            ŝ   = -1                # Label of node associated with r_ŝ\n",
    "            c_f = 0                 # Cost of C ∪ {ŝ}\n",
    "            \n",
    "            # Evaluate reduced cost for each member of the neighborhood\n",
    "            for s in N:\n",
    "                # Expand C\n",
    "                Cₛ = list(C | {s})\n",
    "                # Check if resulting component is not forbidden\n",
    "                if sorted(Cₛ) in Infeasible:\n",
    "                    continue                \n",
    "                # Compute cumulative costs of C ∪ {s}\n",
    "                cf = sum(G.subgraph(Cₛ).es['w'])/D if (len(C) <= 55) else (0.5 * S[np.ix_(Cₛ, Cₛ)].A.sum())\n",
    "                \n",
    "                # Compute reduced cost of C ∪ {i}\n",
    "                reduced = cf - sum(π[e] for e in Cₛ) - γ\n",
    "                if reduced < r_ŝ:\n",
    "                    ŝ   = s\n",
    "                    r_ŝ = reduced\n",
    "                    c_f = cf\n",
    "            \n",
    "            # Check if all possible expansions weren't feasible\n",
    "            if ŝ < 0:\n",
    "                break\n",
    "            # Add node with smallest reduced cost\n",
    "            C |= {ŝ}\n",
    "            Cₛ = sorted(C)\n",
    "            \n",
    "            # Preserve column only if it hasn't been added already\n",
    "            if Cₛ not in F.values():\n",
    "                if (len(Cₛ) >= α and Cₛ not in NC and r_ŝ < 0):\n",
    "                    NC.append(Cₛ)\n",
    "                    P.append([Cₛ, r_ŝ, c_f])\n",
    "    return P"
   ]
  },
  {
   "cell_type": "markdown",
   "metadata": {},
   "source": [
    "Observe that finding a complementary partition can be an involved process. In many cases, it allows us to determine whether a given connected component can actually be part of a feasible solution. Let us assume that a fixed connected component disconnects $G$ into $p < k-1$ connected components. This means that we can test whether a component can be divided up to $(k-1) - p$ subpartitions. Let us call $\\hat{k}_i$ the maximum number of possible subpartitions that can be taken from component $i$ and $\\hat{w}_i$ the weight of the partition. We need to find a compunation of subpartitions between components such that they sum $k-1$. This can be solved again using a very simple and small IP like the following:\n",
    "\\begin{align}\n",
    "\\max \n",
    "\\bigg\\{ \n",
    "    \\sum_{i=1}^p \\hat{w}_i\\, y_i :\\, \\sum_{i=1}^p y_i  = k-1, \\quad 1 \\leq y_i \\leq \\hat{k}_i, \\quad i \\in [1:p], \\quad y \\in \\mathbb{N}^p\n",
    "\\bigg\\}.\n",
    "\\end{align}\n",
    "the result, $y$, will tell us how we have to partition each component in order to obtain a $k-1$ complementary partition. Observe that here we are maximizing as the components with the highest weight should be divided into smaller pieces."
   ]
  },
  {
   "cell_type": "code",
   "execution_count": 33,
   "metadata": {
    "code_folding": [
     0,
     18,
     63,
     66
    ]
   },
   "outputs": [],
   "source": [
    "def Complementary_Partions(G, Fixed, S, eₖ, k, α, β, recycle = True):\n",
    "    '''\n",
    "        Return set of connected components from G\n",
    "        Input:\n",
    "            G:     Undirected graph\n",
    "            Fixed: Initial connected component\n",
    "            S:     Weight matrix from adjacency data of G\n",
    "            eₖ:    Spectral embedding for the nodes of G\n",
    "            k:     Number of connected components in the partition\n",
    "            (α,β): Lower and upper bounds on size of components\n",
    "        The recycle keyword forces connected subgraphs to use recycled transition matrix\n",
    "    '''\n",
    "    # Complementary nodes\n",
    "    UnFixed = delete(G.vs.indices, Fixed)\n",
    "    # Algorithm may fail for recyling, in that case we can compute eigeninformation from scratch\n",
    "    retry = 1\n",
    "    \n",
    "    # Check if induced subgraph is connected:\n",
    "    if G.induced_subgraph(UnFixed).is_connected():\n",
    "        if recycle:\n",
    "            # Recyle eigen-information\n",
    "            eF = delete(eₖ,Fixed,axis=0)\n",
    "            km = KMeansConstrained(n_clusters = k-1, size_min = α, size_max = (G.vcount()-len(Fixed)) - (k-2)*α,\n",
    "                           random_state=0, n_init=20, tol = 1e-10, verbose=0, n_jobs=-1).fit_predict(eF)\n",
    "            Vₖ = [ [UnFixed[i] for i in range(len(km)) if km[i]==c] for c in range(k-1)]\n",
    "            cₖ = [0.5 * S[np.ix_(Vₖ[c], Vₖ[c])].A.sum() for c in range(k-1)]\n",
    "\n",
    "            retry = all([G.induced_subgraph(Vₖ[c]).is_connected() for c in range(k-1) ]) * 1\n",
    "        else:\n",
    "            retry = 0\n",
    "        \n",
    "    # For disconnected graphs, it might be needed to compute new eigenvectors\n",
    "    if (not G.induced_subgraph(UnFixed).is_connected()) or (retry == 0):\n",
    "        # Identify connected component\n",
    "        Members = G.induced_subgraph(UnFixed).clusters().membership\n",
    "        # Check if number of components is at most k-1:\n",
    "        p = unique(Members).size\n",
    "        # If there are more than p components, the fixed component cannot be in a feasible solution [FCNF]\n",
    "        if p > k-1:\n",
    "            return {}, {}, False\n",
    "        # Build each component, evaluate its cost and size\n",
    "        Components = [ [UnFixed[i] for i in range(UnFixed.size) if Members[i]==c] for c in range(p)]\n",
    "        Comp_Costs = [ S[np.ix_(Components[c], Components[c])].A.sum() for c in range(p)]\n",
    "        Comp_Sizes = [ len(Components[c]) for c in range(p)]\n",
    "        # If one component is smaller than α: [FCNF]\n",
    "        if all([ α <= n̂ for n̂ in Comp_Sizes]) == False:\n",
    "            return {}, {}, False\n",
    "        # If there are k-1 components and all are smaller than β: Partition already found\n",
    "        if p == k-1:\n",
    "            if all([ β >= n̂ for n̂ in Comp_Sizes]) == True:\n",
    "                return Components, Comp_Costs, True\n",
    "            # If at least one component is too big: [FCNF] # Nunca se va a cumplir, ala Ramiro\n",
    "            else:\n",
    "                return {}, {}, False\n",
    "        # Evaluate whether the components are partitionable\n",
    "        Feasible_parts = [ [k̂ for k̂ in range(1,k-p+1) if α <= floor(Comp_Sizes[i]/k̂) ] for i in range(p) ]\n",
    "        Feasible_parts = [max(k̂) for k̂ in Feasible_parts] # Max number of possible partitions in each component\n",
    "        # If the sum of all these possible partitions is less than k-1: [FCNF]\n",
    "        if sum(Feasible_parts) < k-1:\n",
    "            return {}, {}, False\n",
    "        \n",
    "        '''If we have got here, it means we can actually find a complementary partition to Fixed'''\n",
    "        # Determine the number of partitions for each component\n",
    "        if p == 1:\n",
    "            # No need to use linear programming tool\n",
    "            Parts = [Feasible_parts[0]]\n",
    "        else:\n",
    "            m̂ = Model();            m̂.ModelSense = -1;            m̂.Params.OutputFlag = False;\n",
    "            y = tupledict()\n",
    "            y = m̂.addVars(range(p), vtype = 'I', name = 'y')\n",
    "            # Objective, lower, and upper bounds\n",
    "            deque( ( ( y[i].setAttr('obj', Comp_Costs[i]), \n",
    "                       y[i].setAttr('ub', Feasible_parts[i]), y[i].setAttr('lb', 1.0) )\n",
    "                     for i in range(p)), maxlen=0);\n",
    "            m̂.addConstr(y.sum() == k-1)\n",
    "            m̂.optimize()\n",
    "            Parts = [ int(around(y[i].x,0)) for i in range(p)]\n",
    "            \n",
    "        # Partition each connected component on the given number of partitions\n",
    "        Vₖ, cₖ = [], []\n",
    "        for i in range(p):\n",
    "            # Assemble projected transition matrix\n",
    "            Sᵢ = S[np.ix_(Components[i], Components[i])]\n",
    "            # Verify if partition is not trivial\n",
    "            if Parts[i] > 1:\n",
    "                dᵢ = Sᵢ.sum(axis=1).A1\n",
    "                Pᵢ = spdiags(1/dᵢ, 0, len(Components[i]), len(Components[i]), format='csr').dot(Sᵢ)\n",
    "                # Compute eigen-info again\n",
    "                kᵢ = Parts[i] if (Parts[i] > 1) else (Parts[i] + 1)\n",
    "                λᵢ, eᵢ = eigs(Pᵢ, kᵢ, which='LR')\n",
    "                # Encode nodes in component            \n",
    "                ordered = argsort(λᵢ.real)\n",
    "                eᵢ = eᵢ[:,ordered].real[:,:-1]\n",
    "                λᵢ = λᵢ[ordered].real[:-1]\n",
    "                # Run constrained kᵢ-means\n",
    "                km = KMeansConstrained(n_clusters = kᵢ, size_min = α, size_max = Comp_Sizes[i] - (kᵢ-1)*α,\n",
    "                           random_state=0, n_init=20, tol = 1e-10, verbose=0, n_jobs=-1).fit_predict(eᵢ)\n",
    "                #print(km)\n",
    "                Out = [ [Components[i][j] for j in range(len(km)) if km[j]==c] for c in unique(km)]\n",
    "                #print([G.induced_subgraph(Out[c]).is_connected() for c in range(kᵢ)])\n",
    "            \n",
    "            # The trivial case can avoid the spectral step\n",
    "            else:\n",
    "                Out = [Components[i]]\n",
    "                \n",
    "            Vₖ += Out\n",
    "            cₖ += [S[np.ix_(c, c)].A.sum() for c in Out]\n",
    "        \n",
    "    return Vₖ, cₖ, True"
   ]
  },
  {
   "cell_type": "code",
   "execution_count": 34,
   "metadata": {
    "code_folding": [
     0
    ]
   },
   "outputs": [],
   "source": [
    "def Update_Model(mo, κ, k, s, c, Parts_Id):\n",
    "    '''\n",
    "        Update gurobi model with additional connected components in G\n",
    "        Input:\n",
    "            mo:       Gurobi model\n",
    "            κ:        Current number of connected components (and variables)\n",
    "            k:        Size of partition\n",
    "            s:        Number of components to add\n",
    "            c:        Costs associated with each component\n",
    "            Parts_Id: Nodes from G associated with the connected component they belong to\n",
    "    '''\n",
    "    # Add new variables with their cost\n",
    "    x.update(mo.addVars( range(κ,κ+s), vtype = 'B', name='x', obj = c))\n",
    "    mo.update()\n",
    "    # Update constraints\n",
    "    sense, rhs = '=', 1.0\n",
    "    # Add each component with respect to its constituent nodes\n",
    "    for i,j in Parts_Id.items():\n",
    "        nom  = 'Rb[{0}]'.format(i)                # Name the constraint\n",
    "        co   = mo.getConstrByName(nom)            # Retrieve constraint\n",
    "        lhs  = mo.getRow(co)                      # Get info\n",
    "        mo.remove(co)                             # Remove constraint\n",
    "        lhs += x[j]                               # Add new information\n",
    "        mo.addLConstr(lhs, sense, rhs, nom)        # Add new constraint\n",
    "    \n",
    "    # Number of components is fixed to k\n",
    "    co   = mo.getConstrByName('Rc')\n",
    "    lhs  = mo.getRow(co)\n",
    "    mo.remove(co)                                  # Remove constraint\n",
    "    lhs += quicksum(x[i] for i in range(κ,κ+s))    # Add new information\n",
    "    mo.addLConstr(lhs, sense, k, 'Rc')              # Add new constraint\n",
    "    mo.update()\n",
    "        \n",
    "    return None"
   ]
  },
  {
   "cell_type": "markdown",
   "metadata": {},
   "source": [
    "#### Run algorithm"
   ]
  },
  {
   "cell_type": "code",
   "execution_count": 35,
   "metadata": {},
   "outputs": [],
   "source": [
    "# Relax model and optimize\n",
    "r = mo.relax();    r.Params.OutputFlag = False;   r.update();    r.optimize()\n",
    "# Retrieve shadow prices\n",
    "π  = {i: r.getConstrByName('Rb[{0}]'.format(i)).Pi for i in V}\n",
    "γ  = r.getConstrByName('Rc').Pi\n",
    "# Collect current objective\n",
    "RelObj.append(r.ObjVal)\n",
    "# Infeasible columns cannot be tested again\n",
    "Infeasible = []"
   ]
  },
  {
   "cell_type": "code",
   "execution_count": 36,
   "metadata": {},
   "outputs": [],
   "source": [
    "Good_Start = []\n",
    "Good_Cost  = S.sum()"
   ]
  },
  {
   "cell_type": "code",
   "execution_count": 39,
   "metadata": {
    "code_folding": [
     4,
     14
    ],
    "scrolled": true
   },
   "outputs": [
    {
     "name": "stdout",
     "output_type": "stream",
     "text": [
      "Time taken for iterations 0: 0.05683302879333496\n",
      "Time taken for iterations 1: 0.03607678413391113\n",
      "Time taken for iterations 2: 0.0539708137512207\n",
      "Time taken for iterations 3: 0.3784167766571045\n",
      "Time taken for iterations 4: 0.12990593910217285\n",
      "Time taken for iterations 5: 0.1310288906097412\n",
      "Time taken for iterations 6: 0.13495993614196777\n",
      "Time taken for iterations 7: 0.14359402656555176\n",
      "Time taken for iterations 8: 0.14975476264953613\n",
      "Time taken for iterations 9: 0.13791584968566895\n",
      "Time taken for 100 iterations: 1.3543057441711426\n"
     ]
    }
   ],
   "source": [
    "start = time.time()\n",
    "\n",
    "# Run algorithm\n",
    "Effective_Iterations = CG_Iterations\n",
    "for ı in range(CG_Iterations):\n",
    "    new = time.time()\n",
    "    # Obtain list of components and sort it w.r.t. reduced cost\n",
    "    P̂ = Heuristic_Pricing(G, F, α, β, π, γ, Infeasible)\n",
    "    P̂ = sorted(P̂, key = lambda x: x[1])[:δ]\n",
    "    if len(P̂) == 0:\n",
    "        Effective_Iterations = ı\n",
    "        break\n",
    "\n",
    "    # Generate spectral complementary partition\n",
    "    for ȷ in range( min(δ, len(P̂)) ):\n",
    "        # Fix a connected component\n",
    "        Fixed = P̂[ȷ][0]\n",
    "        # Run algorithm 3\n",
    "        Vₖ, cₖ, Fixed_Feasibility = Complementary_Partions(G, Fixed, S, eₖ, k, α, β, recycle = True)\n",
    "        # If the fixed componnent is not feasible, we add it to the forbidden list\n",
    "        if not Fixed_Feasibility:\n",
    "            Infeasible.append(Fixed)\n",
    "            continue\n",
    "        else:\n",
    "            # Check if connected component improves cost:\n",
    "            if ( sum(cₖ) + P̂[ȷ][2] < Good_Cost ):\n",
    "                Good_Cost = sum(cₖ) + P̂[ȷ][2]\n",
    "                Good_Start = {a:b for a,b in enumerate(Vₖ + [Fixed])}\n",
    "                \n",
    "            # Remove components that have already been created\n",
    "            Newies = {a:b for a,b in enumerate(Vₖ) if b not in F.values()}\n",
    "            cₖ = [cₖ[i] for i in Newies.keys()]\n",
    "            Vₖ = list(Newies.values())\n",
    "            # Add fixed component to partition\n",
    "            Vₖ.append(Fixed)\n",
    "            cₖ.append( P̂[ȷ][2] )\n",
    "            # Add components to F and store their costs\n",
    "            F.update({ a+κ: b for a,b in enumerate(Vₖ) })\n",
    "            c.update({ a+κ: b for a,b in enumerate(cₖ) })\n",
    "\n",
    "            # Identify each connected component with a number\n",
    "            Parts_Id = dict()\n",
    "            for part in range( len(Vₖ) ):\n",
    "                Parts_Id.update({node: part+κ for node in Vₖ[part]})\n",
    "            # Update model with partition    \n",
    "            Update_Model(mo, κ, k, len(Vₖ), c, Parts_Id)\n",
    "            # Update counter of available columns (at most k)\n",
    "            κ += len(Vₖ)\n",
    "\n",
    "    # Relax model and optimize\n",
    "    r = mo.relax();    r.Params.OutputFlag = False;   r.update();    r.optimize()\n",
    "    # Retrieve shadow prices\n",
    "    π  = {i: r.getConstrByName('Rb[{0}]'.format(i)).Pi for i in V}\n",
    "    γ  = r.getConstrByName('Rc').Pi\n",
    "    # Collect current objective\n",
    "    RelObj.append(r.ObjVal)\n",
    "    \n",
    "    now = time.time()\n",
    "    \n",
    "    print('Time taken for iterations {0}: {1}'.format(ı, now-new))\n",
    "\n",
    "end = time.time()\n",
    "print('Time taken for {0} iterations: {1}'.format(Effective_Iterations, end-start))"
   ]
  },
  {
   "cell_type": "code",
   "execution_count": 38,
   "metadata": {
    "scrolled": false
   },
   "outputs": [
    {
     "data": {
      "text/plain": [
       "({0: [6, 22, 53],\n",
       "  1: [1, 11, 16, 21, 23, 29, 55, 58],\n",
       "  2: [7, 12, 19, 32, 34, 36],\n",
       "  3: [8, 14, 20, 24, 31, 33, 35, 42, 44, 45, 47],\n",
       "  4: [30, 40, 50],\n",
       "  5: [4, 5, 13, 18, 43, 46, 48, 49, 52],\n",
       "  6: [0, 10, 25, 28, 37, 51, 54, 56, 57, 59],\n",
       "  7: [3, 15, 26, 27, 38, 39, 41],\n",
       "  8: [2, 9, 17]},\n",
       " 11.132404181184668)"
      ]
     },
     "execution_count": 38,
     "metadata": {},
     "output_type": "execute_result"
    }
   ],
   "source": [
    "Good_Start, Good_Cost"
   ]
  },
  {
   "cell_type": "code",
   "execution_count": 84,
   "metadata": {},
   "outputs": [],
   "source": [
    "Starter_indeces = [list(F.values()).index(f) for f in Good_Start.values()]"
   ]
  },
  {
   "cell_type": "code",
   "execution_count": 85,
   "metadata": {},
   "outputs": [],
   "source": [
    "deque( (xᵢ.setAttr('start', 0.0) for xᵢ in x.values()), maxlen=0);"
   ]
  },
  {
   "cell_type": "code",
   "execution_count": 86,
   "metadata": {},
   "outputs": [],
   "source": [
    "deque( (x[f].setAttr('start', 1.0) for f in Starter_indeces), maxlen=0);"
   ]
  },
  {
   "cell_type": "code",
   "execution_count": 87,
   "metadata": {
    "code_folding": [
     0
    ]
   },
   "outputs": [
    {
     "data": {
      "image/png": "[encoded data removed]",
      "text/plain": [
       "<Figure size 1224x288 with 1 Axes>"
      ]
     },
     "metadata": {
      "needs_background": "light"
     },
     "output_type": "display_data"
    }
   ],
   "source": [
    "# Plot evolution of objective function\n",
    "plt.figure(figsize=(17,4))\n",
    "plt.ticklabel_format(style='plain', axis='x', useOffset=False)\n",
    "plt.plot(RelObj,'x:')\n",
    "plt.title('Evolution of relaxed objective')\n",
    "plt.xlabel('Column generation iteration')\n",
    "plt.ylabel('Relaxed objective')\n",
    "plt.gca().xaxis.set_major_locator(mticker.MultipleLocator(1));    plt.show()"
   ]
  },
  {
   "cell_type": "markdown",
   "metadata": {},
   "source": [
    "### Valid inequalities"
   ]
  },
  {
   "cell_type": "markdown",
   "metadata": {},
   "source": [
    "<div class=\"alert alert-block alert-info\">\n",
    "    For every $\\lceil \\frac{n}{k}\\rceil \\leq \\ell \\leq \\beta$:\n",
    "\\begin{align}\n",
    "    \\sum_{i=\\ell}^{\\beta}\\sum_{f\\in H(i)} x_f\\leq \\Big\\lfloor\\frac{n-k\\alpha}{l-\\alpha}\\Big\\rfloor \n",
    "\\end{align}\n",
    "</div>"
   ]
  },
  {
   "cell_type": "code",
   "execution_count": 88,
   "metadata": {
    "code_folding": [
     0
    ],
    "scrolled": false
   },
   "outputs": [
    {
     "name": "stdout",
     "output_type": "stream",
     "text": [
      "Added 28 additional VIs.\n"
     ]
    }
   ],
   "source": [
    "# CGC [Th 12]\n",
    "\n",
    "# Lower and upper bounds\n",
    "Lₗ  = int(ceil(n/k)) if ceil(n/k) > α else int(ceil(n/k) + 1)\n",
    "\n",
    "for ℓ in range(Lₗ, β+1):\n",
    "    # Select connected components of size at most ℓ\n",
    "    H_ℓ = [a for a,b in F.items() if len(b) >= ℓ ]\n",
    "    # If the length of H_ℓ is less than 2, we are not adding any meaningful information to the model\n",
    "    if len(H_ℓ) <= 1:\n",
    "        break\n",
    "    max_feas = floor( (n-k*α)/(ℓ-α) )\n",
    "    # Similarly if the length of H_ℓ is less or equal than max_feas:\n",
    "    if len(H_ℓ) <= max_feas:\n",
    "        break\n",
    "    else:\n",
    "        mo.addConstr( quicksum(x[f] for f in H_ℓ) <= floor((n-k*α)/(ℓ-α)), name = 'VI-CGC-[{0}]'.format(ℓ - Lₗ))\n",
    "        #print( len(H_ℓ), max_feas)\n",
    "if 'l' in globals():\n",
    "    print('Added {0} additional VIs.'.format(ℓ - Lₗ))"
   ]
  },
  {
   "cell_type": "markdown",
   "metadata": {
    "code_folding": [
     0
    ]
   },
   "source": [
    "### Find integer solutions"
   ]
  },
  {
   "cell_type": "code",
   "execution_count": 89,
   "metadata": {
    "scrolled": true
   },
   "outputs": [
    {
     "name": "stdout",
     "output_type": "stream",
     "text": [
      "Discarded solution information\n",
      "Set parameter PreCrush to value 1\n",
      "Set parameter Cuts to value 0\n",
      "Set parameter Presolve to value 0\n",
      "Set parameter TimeLimit to value 360\n",
      "Gurobi Optimizer version 10.0.0 build v10.0.0rc2 (mac64[arm])\n",
      "\n",
      "CPU model: Apple M1\n",
      "Thread count: 8 physical cores, 8 logical processors, using up to 8 threads\n",
      "\n",
      "\n",
      "Warning: excessive time spent in model updates.\n",
      "Consider calling update less frequently.\n",
      "\n",
      "Optimize a model with 89 rows, 3870 columns and 61076 nonzeros\n",
      "Model fingerprint: 0x886f3e59\n",
      "Variable types: 0 continuous, 3870 integer (3870 binary)\n",
      "Coefficient statistics:\n",
      "  Matrix range     [1e+00, 1e+00]\n",
      "  Objective range  [2e-02, 1e+01]\n",
      "  Bounds range     [1e+00, 1e+00]\n",
      "  RHS range        [1e+00, 9e+00]\n",
      "\n",
      "Loaded user MIP start with objective 7.71127\n",
      "\n",
      "Variable types: 0 continuous, 3870 integer (3870 binary)\n",
      "\n",
      "Root relaxation: objective 3.480106e+00, 158 iterations, 0.01 seconds (0.02 work units)\n",
      "\n",
      "    Nodes    |    Current Node    |     Objective Bounds      |     Work\n",
      " Expl Unexpl |  Obj  Depth IntInf | Incumbent    BestBd   Gap | It/Node Time\n",
      "\n",
      "     0     0    3.48011    0   47    7.71127    3.48011  54.9%     -    0s\n",
      "     0     0    3.48011    0   47    7.71127    3.48011  54.9%     -    0s\n",
      "     0     2    3.48011    0   47    7.71127    3.48011  54.9%     -    0s\n",
      "H  102   101                       7.2253521    3.82245  47.1%  61.4    0s\n",
      "H  382   238                       5.1971831    3.83446  26.2%  47.5    1s\n",
      "* 3024   253              13       5.0492958    4.53036  10.3%  32.4    2s\n",
      "\n",
      "Explored 3571 nodes (107760 simplex iterations) in 2.13 seconds (3.95 work units)\n",
      "Thread count was 8 (of 8 available processors)\n",
      "\n",
      "Solution count 4: 5.0493 5.19718 7.22535 7.71127 \n",
      "\n",
      "Optimal solution found (tolerance 1.00e-04)\n",
      "Best objective 5.049295774648e+00, best bound 5.049295774648e+00, gap 0.0000%\n"
     ]
    }
   ],
   "source": [
    "mo.reset()\n",
    "mo.Params.PreCrush = 1      # This one does not seem to be significantly different, though\n",
    "mo.Params.Cuts = 0\n",
    "mo.Params.Presolve = 0\n",
    "mo.Params.TimeLimit = 360.0 #60*60.0\n",
    "mo.optimize()"
   ]
  },
  {
   "cell_type": "code",
   "execution_count": 90,
   "metadata": {
    "scrolled": true
   },
   "outputs": [
    {
     "name": "stdout",
     "output_type": "stream",
     "text": [
      "Discarded solution information\n",
      "Set parameter PreCrush to value 0\n",
      "Set parameter Cuts to value 3\n",
      "Set parameter Presolve to value 2\n",
      "Gurobi Optimizer version 10.0.0 build v10.0.0rc2 (mac64[arm])\n",
      "\n",
      "CPU model: Apple M1\n",
      "Thread count: 8 physical cores, 8 logical processors, using up to 8 threads\n",
      "\n",
      "Optimize a model with 89 rows, 3870 columns and 61076 nonzeros\n",
      "Model fingerprint: 0x886f3e59\n",
      "Variable types: 0 continuous, 3870 integer (3870 binary)\n",
      "Coefficient statistics:\n",
      "  Matrix range     [1e+00, 1e+00]\n",
      "  Objective range  [2e-02, 1e+01]\n",
      "  Bounds range     [1e+00, 1e+00]\n",
      "  RHS range        [1e+00, 9e+00]\n",
      "\n",
      "Loaded user MIP start with objective 7.71127\n",
      "\n",
      "Presolve removed 14 rows and 10 columns\n",
      "Presolve time: 2.02s\n",
      "Presolved: 75 rows, 3860 columns, 57397 nonzeros\n",
      "Variable types: 0 continuous, 3860 integer (3860 binary)\n",
      "Root relaxation presolved: 75 rows, 3860 columns, 57397 nonzeros\n",
      "\n",
      "\n",
      "Root relaxation: objective 3.480106e+00, 130 iterations, 0.02 seconds (0.04 work units)\n",
      "\n",
      "    Nodes    |    Current Node    |     Objective Bounds      |     Work\n",
      " Expl Unexpl |  Obj  Depth IntInf | Incumbent    BestBd   Gap | It/Node Time\n",
      "\n",
      "     0     0    3.48011    0   47    7.71127    3.48011  54.9%     -    2s\n",
      "     0     0    3.61659    0   68    7.71127    3.61659  53.1%     -    2s\n",
      "     0     0    3.71746    0   67    7.71127    3.71746  51.8%     -    2s\n",
      "     0     0    3.81780    0   66    7.71127    3.81780  50.5%     -    3s\n",
      "     0     0    3.85011    0   78    7.71127    3.85011  50.1%     -    3s\n",
      "H    0     0                       5.9788732    3.95137  33.9%     -    4s\n",
      "     0     0    3.95137    0   85    5.97887    3.95137  33.9%     -    5s\n",
      "     0     0    3.99256    0   85    5.97887    3.99256  33.2%     -    5s\n",
      "     0     0    3.99256    0   47    5.97887    3.99256  33.2%     -    7s\n",
      "     0     0    3.99256    0   65    5.97887    3.99256  33.2%     -    7s\n",
      "     0     0    3.99256    0   81    5.97887    3.99256  33.2%     -    7s\n",
      "     0     0    3.99256    0   83    5.97887    3.99256  33.2%     -    7s\n",
      "     0     0    3.99256    0   84    5.97887    3.99256  33.2%     -    7s\n",
      "     0     0    3.99256    0   84    5.97887    3.99256  33.2%     -    7s\n",
      "     0     0    3.99256    0   96    5.97887    3.99256  33.2%     -    8s\n",
      "     0     0    3.99256    0   96    5.97887    3.99256  33.2%     -    8s\n",
      "     0     2    3.99256    0   96    5.97887    3.99256  33.2%     -    8s\n",
      "H   33    37                       5.6197183    4.04157  28.1%   138    9s\n",
      "   145    72    5.45016   15   53    5.61972    4.19886  25.3%  85.6   10s\n",
      "* 1801   101              13       5.0492958    4.95175  1.93%  51.8   13s\n",
      "\n",
      "Cutting planes:\n",
      "  Gomory: 1\n",
      "  Lift-and-project: 5\n",
      "  Clique: 158\n",
      "  Flow cover: 2\n",
      "  Zero half: 7\n",
      "\n",
      "Explored 1952 nodes (97143 simplex iterations) in 13.19 seconds (18.26 work units)\n",
      "Thread count was 8 (of 8 available processors)\n",
      "\n",
      "Solution count 4: 5.0493 5.61972 5.97887 7.71127 \n",
      "\n",
      "Optimal solution found (tolerance 1.00e-04)\n",
      "Best objective 5.049295774648e+00, best bound 5.049295774648e+00, gap 0.0000%\n"
     ]
    }
   ],
   "source": [
    "mo.reset()\n",
    "mo.Params.PreCrush = 0      # This one does not seem to be significantly different, though\n",
    "mo.Params.Cuts = 3\n",
    "mo.Params.Presolve = 2\n",
    "mo.Params.TimeLimit = 360.0 #60*60.0\n",
    "mo.optimize()"
   ]
  },
  {
   "cell_type": "code",
   "execution_count": 91,
   "metadata": {},
   "outputs": [
    {
     "name": "stdout",
     "output_type": "stream",
     "text": [
      "Set parameter TimeLimit to value 1800\n",
      "Gurobi Optimizer version 10.0.0 build v10.0.0rc2 (mac64[arm])\n",
      "\n",
      "CPU model: Apple M1\n",
      "Thread count: 8 physical cores, 8 logical processors, using up to 8 threads\n",
      "\n",
      "Optimize a model with 89 rows, 3870 columns and 61076 nonzeros\n",
      "Model fingerprint: 0x886f3e59\n",
      "Variable types: 0 continuous, 3870 integer (3870 binary)\n",
      "Coefficient statistics:\n",
      "  Matrix range     [1e+00, 1e+00]\n",
      "  Objective range  [2e-02, 1e+01]\n",
      "  Bounds range     [1e+00, 1e+00]\n",
      "  RHS range        [1e+00, 9e+00]\n",
      "Presolved: 75 rows, 3860 columns, 57397 nonzeros\n",
      "\n",
      "Continuing optimization...\n",
      "\n",
      "\n",
      "Cutting planes:\n",
      "  Gomory: 1\n",
      "  Lift-and-project: 5\n",
      "  Clique: 158\n",
      "  Flow cover: 2\n",
      "  Zero half: 7\n",
      "\n",
      "Explored 1952 nodes (97143 simplex iterations) in 0.00 seconds (0.00 work units)\n",
      "Thread count was 8 (of 8 available processors)\n",
      "\n",
      "Solution count 4: 5.0493 5.61972 5.97887 7.71127 \n",
      "\n",
      "Optimal solution found (tolerance 1.00e-04)\n",
      "Best objective 5.049295774648e+00, best bound 5.049295774648e+00, gap 0.0000%\n"
     ]
    }
   ],
   "source": [
    "mo.Params.TimeLimit = 360*5.0 #60*60.0\n",
    "mo.optimize()"
   ]
  },
  {
   "cell_type": "code",
   "execution_count": 92,
   "metadata": {
    "scrolled": true
   },
   "outputs": [
    {
     "name": "stdout",
     "output_type": "stream",
     "text": [
      "Nº of columns:     3870\n",
      "Time spent in CG:  155.34811973571777\n",
      "CG iterations:     100\n",
      "Relaxed objective: 3.48 (164.725)\n",
      "Integer objective: 5.049 (239.0)\n"
     ]
    }
   ],
   "source": [
    "print('Nº of columns:     {0}\\nTime spent in CG:  {1}'.format(len(F), end-start ))\n",
    "print('CG iterations:     {0}'.format(Effective_Iterations))\n",
    "print('Relaxed objective: {0} ({1})\\nInteger objective: {2} ({3})'.format(\n",
    "    around(RelObj[-1],3), around(D*RelObj[-1],3), around(mo.ObjVal,3), around(D*mo.ObjVal,3) ))"
   ]
  },
  {
   "cell_type": "code",
   "execution_count": 93,
   "metadata": {},
   "outputs": [
    {
     "name": "stdout",
     "output_type": "stream",
     "text": [
      "[46, 792, 1398, 2365, 2665, 3305, 3526, 3716, 3869]\n"
     ]
    }
   ],
   "source": [
    "# Retrieve solution\n",
    "X = [i for i in x.keys() if x[i].x > 1e-8]\n",
    "print(X)"
   ]
  },
  {
   "cell_type": "code",
   "execution_count": 94,
   "metadata": {},
   "outputs": [
    {
     "data": {
      "text/plain": [
       "{0: [1, 3, 10],\n",
       " 1: [21, 34, 38, 54],\n",
       " 2: [36, 53],\n",
       " 3: [14, 19, 22, 30, 31, 40, 42, 43, 44, 48],\n",
       " 4: [0, 11, 12, 13, 20, 32, 50, 51],\n",
       " 5: [4, 5, 6, 7, 18, 25, 26, 28, 39, 47, 59],\n",
       " 6: [2, 37, 58],\n",
       " 7: [16, 17, 29, 33, 55, 57],\n",
       " 8: [8, 9, 15, 23, 24, 27, 35, 41, 45, 46, 49, 52, 56]}"
      ]
     },
     "metadata": {},
     "output_type": "display_data"
    }
   ],
   "source": [
    "# Display solution\n",
    "Vₖ = {i: F[j] for i,j in enumerate(X)}\n",
    "display(Vₖ)"
   ]
  },
  {
   "cell_type": "code",
   "execution_count": 95,
   "metadata": {},
   "outputs": [
    {
     "data": {
      "text/plain": [
       "True"
      ]
     },
     "execution_count": 95,
     "metadata": {},
     "output_type": "execute_result"
    }
   ],
   "source": [
    "# Verify partition\n",
    "V == list(set().union(*Vₖ.values()))"
   ]
  },
  {
   "cell_type": "code",
   "execution_count": 96,
   "metadata": {},
   "outputs": [
    {
     "data": {
      "text/plain": [
       "[True, True, True, True, True, True, True, True, True]"
      ]
     },
     "execution_count": 96,
     "metadata": {},
     "output_type": "execute_result"
    }
   ],
   "source": [
    "[G.induced_subgraph(Vₖ[c]).is_connected() for c in K]"
   ]
  },
  {
   "cell_type": "code",
   "execution_count": 97,
   "metadata": {
    "code_folding": [
     0
    ]
   },
   "outputs": [
    {
     "data": {
      "image/png": "[encoded data removed]",
      "text/plain": [
       "<Figure size 720x720 with 1 Axes>"
      ]
     },
     "metadata": {},
     "output_type": "display_data"
    }
   ],
   "source": [
    "# Display graph with partitions\n",
    "pos = nx.spring_layout(G.to_networkx(), seed=1)  # positions for all nodes\n",
    "Col = cm.Set3(np.linspace(0.2, 1, k))\n",
    "\n",
    "plt.figure(figsize=(10,10))\n",
    "# Nodes\n",
    "options = {\"edgecolors\": \"tab:gray\"}#, \"node_size\": 800, \"alpha\": 0.9}\n",
    "for c in K:\n",
    "    nx.draw_networkx_nodes(G.to_networkx(), pos, nodelist=Vₖ[c], node_color=[Col[c] for i in Vₖ[c]], **options)\n",
    "    \n",
    "# Edges\n",
    "for c in K:\n",
    "    pos_c = {i: pos[ Vₖ[c][i] ] for i in range(len(Vₖ[c]))}\n",
    "    nx.draw_networkx_edges(G.induced_subgraph(Vₖ[c]).to_networkx(), pos_c, width=0.5, alpha=0.5)\n",
    "\n",
    "    Eₖ = [e.tuple for e in G.induced_subgraph(Vₖ[c]).es ]#if e.tuple[0] not in Vₖ[c] and e.tuple[1] not in Vₖ[c]]\n",
    "    nx.draw_networkx_edges(\n",
    "        G.induced_subgraph(Vₖ[c]).to_networkx(), pos_c, edgelist=Eₖ, style=':',\n",
    "        width=1.5, alpha=0.75,\n",
    "        edge_color=[Col[c] for e in Eₖ],\n",
    "    )\n",
    "    \n",
    "    \n",
    "nx.draw_networkx_labels(G, pos, {i:i for i in G.vs.indices}, font_size=10, font_color=\"gray\");\n",
    "plt.tight_layout()\n",
    "plt.axis(\"off\")\n",
    "#plt.savefig('I(70)-5,(9,2)-M2-VI.pdf', bbox_inches='tight',transparent=True)\n",
    "plt.draw()"
   ]
  },
  {
   "cell_type": "markdown",
   "metadata": {},
   "source": [
    "### Export solution"
   ]
  },
  {
   "cell_type": "code",
   "execution_count": 45,
   "metadata": {},
   "outputs": [
    {
     "data": {
      "text/html": [
       "<div>\n",
       "<style scoped>\n",
       "    .dataframe tbody tr th:only-of-type {\n",
       "        vertical-align: middle;\n",
       "    }\n",
       "\n",
       "    .dataframe tbody tr th {\n",
       "        vertical-align: top;\n",
       "    }\n",
       "\n",
       "    .dataframe thead th {\n",
       "        text-align: right;\n",
       "    }\n",
       "</style>\n",
       "<table border=\"1\" class=\"dataframe\">\n",
       "  <thead>\n",
       "    <tr style=\"text-align: right;\">\n",
       "      <th></th>\n",
       "      <th>Instance</th>\n",
       "      <th>z_R</th>\n",
       "      <th>Obj</th>\n",
       "      <th>gap</th>\n",
       "      <th>nodes</th>\n",
       "      <th>time</th>\n",
       "    </tr>\n",
       "  </thead>\n",
       "  <tbody>\n",
       "    <tr>\n",
       "      <th>0</th>\n",
       "      <td>(70, 1500, 9, 2)</td>\n",
       "      <td>636.0</td>\n",
       "      <td>968.0</td>\n",
       "      <td>0.342975</td>\n",
       "      <td>336792</td>\n",
       "      <td>360.005201</td>\n",
       "    </tr>\n",
       "  </tbody>\n",
       "</table>\n",
       "</div>"
      ],
      "text/plain": [
       "           Instance    z_R    Obj       gap   nodes        time\n",
       "0  (70, 1500, 9, 2)  636.0  968.0  0.342975  336792  360.005201"
      ]
     },
     "metadata": {},
     "output_type": "display_data"
    }
   ],
   "source": [
    "Data = pd.DataFrame.from_dict(\n",
    "    {'Instance':[(n,m,k,α)],\n",
    "     'z_R':[mo.ObjBound * D],'Obj': mo.objval * D,'gap': mo.MIPgap,'nodes':int(mo.nodecount), 'time':mo.RunTime})\n",
    "display(Data)"
   ]
  },
  {
   "cell_type": "code",
   "execution_count": 48,
   "metadata": {},
   "outputs": [],
   "source": [
    "name_out = 'Results/Out[{0},{1},{2}]-CG-VI({3}).xlsx'.format(ins,k,α,Effective_Iterations)\n",
    "with pd.ExcelWriter(name_out) as writer:  \n",
    "    Data.to_excel(writer, sheet_name='Sheet_1')\n",
    "    pd.DataFrame.from_dict(Vₖ, orient='index').fillna('').to_excel(writer, sheet_name='Sheet_2')"
   ]
  },
  {
   "cell_type": "markdown",
   "metadata": {},
   "source": [
    "---"
   ]
  },
  {
   "cell_type": "markdown",
   "metadata": {
    "heading_collapsed": true
   },
   "source": [
    "### Other"
   ]
  },
  {
   "cell_type": "code",
   "execution_count": null,
   "metadata": {
    "code_folding": [
     0
    ],
    "hidden": true
   },
   "outputs": [],
   "source": [
    "def node_Incidence(G,i):\n",
    "    '''\n",
    "        Return incident edges (predecesors) of a given node i\n",
    "        Input:\n",
    "            G: Undirected graph\n",
    "            i: node id\n",
    "    '''\n",
    "    return [(j,i) for j in G.neighbors(i)]"
   ]
  },
  {
   "cell_type": "code",
   "execution_count": null,
   "metadata": {
    "hidden": true
   },
   "outputs": [],
   "source": [
    "C = {0,1,2}\n",
    "NC = set().union(*G.neighborhood(C, mindist = 1)) - C"
   ]
  },
  {
   "cell_type": "code",
   "execution_count": null,
   "metadata": {
    "hidden": true
   },
   "outputs": [],
   "source": [
    "C = [43, 48, 50, 57, 61, 62, 65, 69]"
   ]
  },
  {
   "cell_type": "code",
   "execution_count": null,
   "metadata": {
    "hidden": true
   },
   "outputs": [],
   "source": [
    "%timeit -n 100 -r 10 C_Cut(G, C)"
   ]
  },
  {
   "cell_type": "code",
   "execution_count": null,
   "metadata": {
    "hidden": true
   },
   "outputs": [],
   "source": [
    "%timeit -n 1 -r 1 Initial_Partition(G, k, 8)"
   ]
  },
  {
   "cell_type": "markdown",
   "metadata": {
    "hidden": true
   },
   "source": [
    "An alternative way to compute a component's cost:\n",
    "```Python\n",
    "c = {i: sum(G.induced_subgraph(F[i]).es['w']) for i in F.keys()}\n",
    "```\n",
    "If the original cost is needed (without scaling), multiply each argument by `D`."
   ]
  },
  {
   "cell_type": "markdown",
   "metadata": {
    "hidden": true
   },
   "source": [
    "**If we wanted to build an initial partition using the spectral method**"
   ]
  },
  {
   "cell_type": "code",
   "execution_count": null,
   "metadata": {
    "hidden": true
   },
   "outputs": [],
   "source": [
    "km = KMeansConstrained(n_clusters = k, size_min = α, size_max = β,\n",
    "                       random_state=0, n_init=20, tol = 1e-10, verbose=0, n_jobs=-1).fit_predict(eₖ)\n",
    "print(km)"
   ]
  },
  {
   "cell_type": "code",
   "execution_count": null,
   "metadata": {
    "hidden": true
   },
   "outputs": [],
   "source": [
    "Vₖ = {c: [i for i in V if km[i]==c] for c in K}\n",
    "print(Vₖ)"
   ]
  },
  {
   "cell_type": "code",
   "execution_count": null,
   "metadata": {
    "hidden": true
   },
   "outputs": [],
   "source": [
    "[G.induced_subgraph(Vₖ[c]).is_connected() for c in K]"
   ]
  },
  {
   "cell_type": "code",
   "execution_count": null,
   "metadata": {
    "code_folding": [
     0
    ],
    "hidden": true,
    "scrolled": false
   },
   "outputs": [],
   "source": [
    "# Display graph with partitions\n",
    "pos = nx.spring_layout(G.to_networkx(), seed=1)  # positions for all nodes\n",
    "Col = cm.Set3(np.linspace(0.2, 1, k))\n",
    "\n",
    "plt.figure(figsize=(20,10))\n",
    "# Nodes\n",
    "options = {\"edgecolors\": \"tab:gray\"}#, \"node_size\": 800, \"alpha\": 0.9}\n",
    "for c in K:\n",
    "    nx.draw_networkx_nodes(G.to_networkx(), pos, nodelist=Vₖ[c], node_color=[Col[c] for i in Vₖ[c]], **options)\n",
    "    \n",
    "# Edges\n",
    "for c in K:\n",
    "    pos_c = {i: pos[ Vₖ[c][i] ] for i in range(len(Vₖ[c]))}\n",
    "    nx.draw_networkx_edges(G.induced_subgraph(Vₖ[c]).to_networkx(), pos_c, width=0.5, alpha=0.5)\n",
    "\n",
    "    Eₖ = [e.tuple for e in G.induced_subgraph(Vₖ[c]).es ]#if e.tuple[0] not in Vₖ[c] and e.tuple[1] not in Vₖ[c]]\n",
    "    nx.draw_networkx_edges(\n",
    "        G.induced_subgraph(Vₖ[c]).to_networkx(), pos_c, edgelist=Eₖ,\n",
    "        width=2, alpha=0.75,\n",
    "        edge_color=[Col[c] for e in Eₖ],\n",
    "    )\n",
    "    \n",
    "    \n",
    "nx.draw_networkx_labels(G, pos, {i:i for i in G.vs.indices}, font_size=10, font_color=\"gray\");\n",
    "plt.tight_layout()\n",
    "plt.axis(\"off\")\n",
    "plt.draw()"
   ]
  },
  {
   "cell_type": "code",
   "execution_count": null,
   "metadata": {
    "hidden": true
   },
   "outputs": [],
   "source": [
    "D*sum([ 0.5 * S[Vₖ[c],:][:,Vₖ[c]].A.sum() for c in K])"
   ]
  },
  {
   "cell_type": "markdown",
   "metadata": {
    "hidden": true
   },
   "source": [
    "---"
   ]
  },
  {
   "cell_type": "markdown",
   "metadata": {
    "hidden": true
   },
   "source": [
    "---"
   ]
  }
 ],
 "metadata": {
  "kernelspec": {
   "display_name": "Python 3 (ipykernel)",
   "language": "python",
   "name": "python3"
  },
  "language_info": {
   "codemirror_mode": {
    "name": "ipython",
    "version": 3
   },
   "file_extension": ".py",
   "mimetype": "text/x-python",
   "name": "python",
   "nbconvert_exporter": "python",
   "pygments_lexer": "ipython3",
   "version": "3.9.13"
  },
  "nbTranslate": {
   "displayLangs": [
    "*"
   ],
   "hotkey": "alt-t",
   "langInMainMenu": true,
   "sourceLang": "en",
   "targetLang": "fr",
   "useGoogleTranslate": true
  }
 },
 "nbformat": 4,
 "nbformat_minor": 2
}
