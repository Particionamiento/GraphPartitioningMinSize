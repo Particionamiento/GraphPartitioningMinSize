{
 "cells": [
  {
   "cell_type": "code",
   "execution_count": 1,
   "id": "d66f3aef",
   "metadata": {
    "deletable": false,
    "editable": false,
    "run_control": {
     "frozen": true
    }
   },
   "outputs": [
    {
     "data": {
      "text/html": [
       "<style>.container { width:90% !important; }</style>"
      ],
      "text/plain": [
       "<IPython.core.display.HTML object>"
      ]
     },
     "metadata": {},
     "output_type": "display_data"
    },
    {
     "data": {
      "text/html": [
       "<style>.output_result { width:90% !important; }</style>"
      ],
      "text/plain": [
       "<IPython.core.display.HTML object>"
      ]
     },
     "metadata": {},
     "output_type": "display_data"
    }
   ],
   "source": [
    "# Window\n",
    "from IPython.display import display, HTML\n",
    "display(HTML(\"<style>.container { width:90% !important; }</style>\"))\n",
    "display(HTML(\"<style>.output_result { width:90% !important; }</style>\"))"
   ]
  },
  {
   "cell_type": "code",
   "execution_count": 2,
   "id": "db818c02",
   "metadata": {},
   "outputs": [],
   "source": [
    "# Packages\n",
    "import pandas as pd    # https://pandas.pydata.org/\n",
    "import numpy  as np    # Numpy\n",
    "import igraph as ig    # iGraph"
   ]
  },
  {
   "cell_type": "code",
   "execution_count": 3,
   "id": "91646785",
   "metadata": {},
   "outputs": [],
   "source": [
    "from numpy.random import default_rng\n",
    "from scipy.stats  import describe\n",
    "from networkx     import dense_gnm_random_graph"
   ]
  },
  {
   "cell_type": "code",
   "execution_count": 4,
   "id": "f16938c8",
   "metadata": {},
   "outputs": [],
   "source": [
    "rng = default_rng(0)"
   ]
  },
  {
   "cell_type": "code",
   "execution_count": 5,
   "id": "cce5fa66",
   "metadata": {},
   "outputs": [],
   "source": [
    "N = list(range(40,101,10))                       # Number of nodes n      \n",
    "M = [624,  919, 1062, 1328, 1422, 1602, 1732]    # Number of edges m\n",
    "K = [2, 3, 3, 4, 4, 5, 6]                        # Number of partitions k\n",
    "A = [5, 7, 8, 10, 15, 12, 10]                    # Lower set bound α"
   ]
  },
  {
   "cell_type": "code",
   "execution_count": 6,
   "id": "6ba4b937",
   "metadata": {},
   "outputs": [
    {
     "name": "stdout",
     "output_type": "stream",
     "text": [
      "40 624\n",
      "[40, 624, 0.8, True, False]\n"
     ]
    },
    {
     "data": {
      "text/plain": [
       "DescribeResult(nobs=624, minmax=(1, 12), mean=5.948717948717949, variance=4.572004774251966, skewness=0.28169901056885727, kurtosis=-0.20987967964338505)"
      ]
     },
     "metadata": {},
     "output_type": "display_data"
    },
    {
     "name": "stdout",
     "output_type": "stream",
     "text": [
      "50 919\n",
      "[50, 919, 0.75, True, False]\n"
     ]
    },
    {
     "data": {
      "text/plain": [
       "DescribeResult(nobs=919, minmax=(1, 14), mean=6.070729053318825, variance=4.86318367269529, skewness=0.47067778004570976, kurtosis=0.04380044759990254)"
      ]
     },
     "metadata": {},
     "output_type": "display_data"
    },
    {
     "name": "stdout",
     "output_type": "stream",
     "text": [
      "60 1062\n",
      "[60, 1062, 0.6, True, False]\n"
     ]
    },
    {
     "data": {
      "text/plain": [
       "DescribeResult(nobs=1062, minmax=(1, 14), mean=6.081920903954802, variance=4.900916947555072, skewness=0.3256092507975061, kurtosis=-0.028221901014009898)"
      ]
     },
     "metadata": {},
     "output_type": "display_data"
    },
    {
     "name": "stdout",
     "output_type": "stream",
     "text": [
      "70 1328\n",
      "[70, 1328, 0.55, True, False]\n"
     ]
    },
    {
     "data": {
      "text/plain": [
       "DescribeResult(nobs=1328, minmax=(1, 15), mean=6.025602409638554, variance=5.1749280467764045, skewness=0.42332374165441844, kurtosis=0.06357578620831772)"
      ]
     },
     "metadata": {},
     "output_type": "display_data"
    },
    {
     "name": "stdout",
     "output_type": "stream",
     "text": [
      "80 1422\n",
      "[80, 1422, 0.45, True, False]\n"
     ]
    },
    {
     "data": {
      "text/plain": [
       "DescribeResult(nobs=1422, minmax=(1, 15), mean=5.937412095639944, variance=4.903187668199827, skewness=0.430378548890745, kurtosis=0.1617868549446677)"
      ]
     },
     "metadata": {},
     "output_type": "display_data"
    },
    {
     "name": "stdout",
     "output_type": "stream",
     "text": [
      "90 1602\n",
      "[90, 1602, 0.4, True, False]\n"
     ]
    },
    {
     "data": {
      "text/plain": [
       "DescribeResult(nobs=1602, minmax=(1, 16), mean=6.058052434456929, variance=5.1927552302282995, skewness=0.5205615362205237, kurtosis=0.3381020232527714)"
      ]
     },
     "metadata": {},
     "output_type": "display_data"
    },
    {
     "name": "stdout",
     "output_type": "stream",
     "text": [
      "100 1732\n",
      "[100, 1732, 0.35, True, False]\n"
     ]
    },
    {
     "data": {
      "text/plain": [
       "DescribeResult(nobs=1732, minmax=(1, 15), mean=5.953810623556582, variance=5.1694424320534536, skewness=0.438466204674515, kurtosis=0.0506157682903523)"
      ]
     },
     "metadata": {},
     "output_type": "display_data"
    }
   ],
   "source": [
    "for (n,m,k,α) in zip(N,M,K,A):\n",
    "    # Sample graph\n",
    "    print(n,m)\n",
    "    G = ig.Graph.from_networkx(dense_gnm_random_graph(n,m,0))\n",
    "    \n",
    "    # Add attributes\n",
    "    G.es['w'] = rng.poisson(lam=5.0, size=G.ecount()) + 1  # To avoid zero weight\n",
    "    G.vs['_nx_name'] = range(n)\n",
    "\n",
    "    print([G.vcount(), G.ecount(), np.around( 2*G.ecount()/(G.vcount() * (G.vcount()-1)), 2),  G.is_connected(), G.is_directed() ])\n",
    "    display(describe(G.es['w']))\n",
    "    \n",
    "    # Create name\n",
    "    file = 'Instances/{0}({1},{2},{3},{4}).pkl'.format('Spec',n,m,k,α)\n",
    "    \n",
    "    # Store graph\n",
    "    G.write_pickle(file)"
   ]
  },
  {
   "cell_type": "markdown",
   "id": "1c87bb70",
   "metadata": {},
   "source": [
    "---"
   ]
  }
 ],
 "metadata": {
  "kernelspec": {
   "display_name": "Python 3 (ipykernel)",
   "language": "python",
   "name": "python3"
  },
  "language_info": {
   "codemirror_mode": {
    "name": "ipython",
    "version": 3
   },
   "file_extension": ".py",
   "mimetype": "text/x-python",
   "name": "python",
   "nbconvert_exporter": "python",
   "pygments_lexer": "ipython3",
   "version": "3.9.13"
  },
  "nbTranslate": {
   "displayLangs": [
    "*"
   ],
   "hotkey": "alt-t",
   "langInMainMenu": true,
   "sourceLang": "en",
   "targetLang": "fr",
   "useGoogleTranslate": true
  }
 },
 "nbformat": 4,
 "nbformat_minor": 5
}
