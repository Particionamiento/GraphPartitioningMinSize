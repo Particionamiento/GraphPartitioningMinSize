{
 "cells": [
  {
   "cell_type": "code",
   "execution_count": 1,
   "metadata": {
    "deletable": false,
    "editable": false,
    "run_control": {
     "frozen": true
    }
   },
   "outputs": [
    {
     "data": {
      "text/html": [
       "<style>.container { width:90% !important; }</style>"
      ],
      "text/plain": [
       "<IPython.core.display.HTML object>"
      ]
     },
     "metadata": {},
     "output_type": "display_data"
    },
    {
     "data": {
      "text/html": [
       "<style>.output_result { width:90% !important; }</style>"
      ],
      "text/plain": [
       "<IPython.core.display.HTML object>"
      ]
     },
     "metadata": {},
     "output_type": "display_data"
    }
   ],
   "source": [
    "# Window\n",
    "from IPython.display import display, HTML\n",
    "display(HTML(\"<style>.container { width:90% !important; }</style>\"))\n",
    "display(HTML(\"<style>.output_result { width:90% !important; }</style>\"))"
   ]
  },
  {
   "cell_type": "markdown",
   "metadata": {},
   "source": [
    "# Spectral assisted column generation model for Graph Partitioning in Connected Components"
   ]
  },
  {
   "cell_type": "markdown",
   "metadata": {},
   "source": [
    "## Problem statement"
   ]
  },
  {
   "cell_type": "markdown",
   "metadata": {},
   "source": [
    "Let \n",
    "* $G = (V,E)$ be an undirected graph, with $V = \\{1,\\ldots, n\\}$ being its node set, and $E \\subset \\{ \\{i,j\\}:\\, i,j\\in V, i \\neq j \\}$ being its edge set. \n",
    "* $ d: E \\to \\mathbb{R}^{+}$ be a cost function, \n",
    "* $k\\geq 2$ an integer denoting the fixed number of connected components to partition $G$ into,\n",
    "* $\\alpha \\geq 2$ an integer numbers representing the minimum cardinality of each connected component.\n",
    "\n",
    "A $k$-partition of $V$ is a set $\\{V_1,V_2,\\ldots,V_k\\}$ where $V_i\\cap V_j=\\emptyset$ for all $i\\neq j$, $\\bigcup_{c=1}^k V_c=V$, and $V_c \\neq \\emptyset$ for all $ c \\in [k]$, where $[k]$ denotes the set $\\{1,\\ldots,k\\}$. \n",
    "\n",
    "\n",
    "The partitioning problem in connected components with minimum size constraints consists of finding a  $k$-partition $\\{V_1,V_2,\\ldots,V_k\\}$ such that each subset $V_c$ induces a connected subgraph, with $|V_c| \\geq \\alpha$, and the total cost of the edges with end nodes in the same subset of the partition is minimized.\n",
    "\n",
    "\n",
    "Observe that each connected component of $G$ will have at most $\\beta := n-(k-1)\\alpha$ nodes. Moreover,  $\\alpha$ has to be less than $ \\left\\lceil \\frac{n}{k} \\right\\rceil$, otherwise the problem is infeasible."
   ]
  },
  {
   "cell_type": "markdown",
   "metadata": {},
   "source": [
    "The graph partitioning problem in connected components with minimum size constraints is modeled as a set partitioning problem, where each node must be assigned to exactly one connected component. Given a finite family $\\mathcal{F}$ of all induced connected subgraphs of $G$ with number of nodes between $\\alpha$ and $\\beta$, the task consists of finding a subfamily $F\\subseteq \\mathcal{F}$, with cardinality $|F| = k$, of pairwise disjoint subgraphs such that $\\bigcup_{f\\in F} f = V$, and the total cost is minimized.\n",
    "\n",
    "* $a_{i,f} \\in \\{0,1\\}$ takes the value of one if the connected component $f\\in F$ contains the node $i \\in V$, and zero otherwise. \n",
    "* $c_f\\geq 0$ be the cost of $f\\in F$, which is equal to the total cost of the edges in the connected component.\n",
    "* $x_f$ is a decision variable taking the value of one if the connected component $f$ belongs to a solution, and zero otherwise. \n",
    "\n",
    "Thus, the graph partitioning problem in connected components with minimum size constraints can be formulated as follows "
   ]
  },
  {
   "cell_type": "markdown",
   "metadata": {},
   "source": [
    "\\begin{align}\n",
    "\\min &\\sum_{f\\in \\mathcal{F}} c_f\\, x_f\n",
    "\\\\\n",
    "\\text{s.t.}\\qquad & \n",
    "\\\\\n",
    "&\\sum_{f\\in \\mathcal{F}} a_{i,f} x_f  = 1, &&\\forall i \\in V,\n",
    "\\\\\n",
    "&\\sum_{f\\in \\mathcal{F}} x_f = k.\n",
    "\\end{align}"
   ]
  },
  {
   "cell_type": "markdown",
   "metadata": {},
   "source": [
    "As the set $\\mathcal{F}$ has an exponential number of elements, the model is initialized with a small subset of connected components $\\hat F \\subset \\mathcal{F}$, and additional components are included throughout an iterative scheme."
   ]
  },
  {
   "cell_type": "markdown",
   "metadata": {},
   "source": [
    "## Comparison"
   ]
  },
  {
   "cell_type": "markdown",
   "metadata": {
    "heading_collapsed": true
   },
   "source": [
    "### Packages"
   ]
  },
  {
   "cell_type": "code",
   "execution_count": 1,
   "metadata": {
    "hidden": true
   },
   "outputs": [],
   "source": [
    "from   gurobipy   import *\n",
    "import pandas as pd    # https://pandas.pydata.org/\n",
    "import numpy  as np    # Numpy\n",
    "import igraph as ig    # iGraph\n",
    "import time\n",
    "import networkx as nx\n",
    "import matplotlib.pyplot as plt\n",
    "import matplotlib.ticker as mticker"
   ]
  },
  {
   "cell_type": "code",
   "execution_count": 2,
   "metadata": {
    "code_folding": [],
    "hidden": true
   },
   "outputs": [],
   "source": [
    "#from InstancesGenerator import Graph_Instance      # Not needed\n",
    "from warnings     import warn\n",
    "from os           import listdir\n",
    "from re           import findall\n",
    "\n",
    "from collections  import deque, Counter\n",
    "from itertools    import chain \n",
    "from numpy.random import default_rng\n",
    "from matplotlib   import cm"
   ]
  },
  {
   "cell_type": "code",
   "execution_count": 3,
   "metadata": {
    "hidden": true
   },
   "outputs": [],
   "source": [
    "from scipy.sparse        import csr_matrix, spdiags\n",
    "from scipy.sparse.linalg import eigs, eigsh\n",
    "from k_means_constrained import KMeansConstrained"
   ]
  },
  {
   "cell_type": "code",
   "execution_count": 4,
   "metadata": {
    "hidden": true
   },
   "outputs": [],
   "source": [
    "# Aliases\n",
    "from numpy import argsort, delete, unique, floor, ceil, argsort, around\n",
    "# Formatting\n",
    "np.set_printoptions(edgeitems=100, linewidth=160, formatter=dict(float=lambda x: \"%.3g\" % x))"
   ]
  },
  {
   "cell_type": "markdown",
   "metadata": {},
   "source": [
    "### Load data"
   ]
  },
  {
   "cell_type": "markdown",
   "metadata": {},
   "source": [
    "An instance is selected. For more information about the available instances, see [```Instance generator NB.ipynb```](Instance%20generator%20NB.ipynb) and the associated function [```InstancesGenerator.py```](InstancesGenerator.py)."
   ]
  },
  {
   "cell_type": "code",
   "execution_count": 5,
   "metadata": {},
   "outputs": [
    {
     "data": {
      "text/plain": [
       "'Results/Spec_Col_Gen_δ=40.xlsx'"
      ]
     },
     "execution_count": 5,
     "metadata": {},
     "output_type": "execute_result"
    }
   ],
   "source": [
    "name_in = 'Results/{0}.xlsx'.format('Spec_Col_Gen_δ=40')"
   ]
  },
  {
   "cell_type": "code",
   "execution_count": 11,
   "metadata": {},
   "outputs": [],
   "source": [
    "# Two datasets are loaded, index 0 corresponds to tests with default algorithm, and index 1 corresponds to tests with CCSKL\n",
    "Relaxation_Values = pd.read_excel(name_in, [0,1], index_col=0)"
   ]
  },
  {
   "cell_type": "code",
   "execution_count": 12,
   "metadata": {},
   "outputs": [
    {
     "data": {
      "text/html": [
       "<div>\n",
       "<style scoped>\n",
       "    .dataframe tbody tr th:only-of-type {\n",
       "        vertical-align: middle;\n",
       "    }\n",
       "\n",
       "    .dataframe tbody tr th {\n",
       "        vertical-align: top;\n",
       "    }\n",
       "\n",
       "    .dataframe thead th {\n",
       "        text-align: right;\n",
       "    }\n",
       "</style>\n",
       "<table border=\"1\" class=\"dataframe\">\n",
       "  <thead>\n",
       "    <tr style=\"text-align: right;\">\n",
       "      <th></th>\n",
       "      <th>0</th>\n",
       "      <th>1</th>\n",
       "      <th>2</th>\n",
       "      <th>3</th>\n",
       "      <th>4</th>\n",
       "      <th>5</th>\n",
       "      <th>6</th>\n",
       "      <th>7</th>\n",
       "    </tr>\n",
       "  </thead>\n",
       "  <tbody>\n",
       "    <tr>\n",
       "      <th>0</th>\n",
       "      <td>3.054957</td>\n",
       "      <td>3.355440</td>\n",
       "      <td>3.334882</td>\n",
       "      <td>3.242189</td>\n",
       "      <td>2.335663</td>\n",
       "      <td>2.855229</td>\n",
       "      <td>3.606284</td>\n",
       "      <td>11.049296</td>\n",
       "    </tr>\n",
       "    <tr>\n",
       "      <th>1</th>\n",
       "      <td>2.868534</td>\n",
       "      <td>2.620900</td>\n",
       "      <td>2.553646</td>\n",
       "      <td>2.464384</td>\n",
       "      <td>2.281653</td>\n",
       "      <td>2.700670</td>\n",
       "      <td>2.839707</td>\n",
       "      <td>9.649648</td>\n",
       "    </tr>\n",
       "    <tr>\n",
       "      <th>2</th>\n",
       "      <td>1.952586</td>\n",
       "      <td>2.077792</td>\n",
       "      <td>1.996284</td>\n",
       "      <td>2.251437</td>\n",
       "      <td>2.190691</td>\n",
       "      <td>2.359093</td>\n",
       "      <td>2.345172</td>\n",
       "      <td>9.649648</td>\n",
       "    </tr>\n",
       "    <tr>\n",
       "      <th>3</th>\n",
       "      <td>1.952586</td>\n",
       "      <td>2.077792</td>\n",
       "      <td>1.996284</td>\n",
       "      <td>2.235066</td>\n",
       "      <td>2.190691</td>\n",
       "      <td>2.304997</td>\n",
       "      <td>2.318076</td>\n",
       "      <td>9.649648</td>\n",
       "    </tr>\n",
       "    <tr>\n",
       "      <th>4</th>\n",
       "      <td>1.836207</td>\n",
       "      <td>1.964868</td>\n",
       "      <td>1.982815</td>\n",
       "      <td>2.151462</td>\n",
       "      <td>2.038138</td>\n",
       "      <td>2.257599</td>\n",
       "      <td>2.277331</td>\n",
       "      <td>9.649648</td>\n",
       "    </tr>\n",
       "  </tbody>\n",
       "</table>\n",
       "</div>"
      ],
      "text/plain": [
       "          0         1         2         3         4         5         6  \\\n",
       "0  3.054957  3.355440  3.334882  3.242189  2.335663  2.855229  3.606284   \n",
       "1  2.868534  2.620900  2.553646  2.464384  2.281653  2.700670  2.839707   \n",
       "2  1.952586  2.077792  1.996284  2.251437  2.190691  2.359093  2.345172   \n",
       "3  1.952586  2.077792  1.996284  2.235066  2.190691  2.304997  2.318076   \n",
       "4  1.836207  1.964868  1.982815  2.151462  2.038138  2.257599  2.277331   \n",
       "\n",
       "           7  \n",
       "0  11.049296  \n",
       "1   9.649648  \n",
       "2   9.649648  \n",
       "3   9.649648  \n",
       "4   9.649648  "
      ]
     },
     "execution_count": 12,
     "metadata": {},
     "output_type": "execute_result"
    }
   ],
   "source": [
    "Relaxation_Values[0].head()"
   ]
  },
  {
   "cell_type": "code",
   "execution_count": 25,
   "metadata": {},
   "outputs": [],
   "source": [
    "Rel_Obj_A = Relaxation_Values[0].values\n",
    "Rel_Obj_B = Relaxation_Values[1].values"
   ]
  },
  {
   "cell_type": "code",
   "execution_count": 118,
   "metadata": {},
   "outputs": [],
   "source": [
    "from matplotlib import rc\n",
    "#rc('font',**{'family':'sans-serif','sans-serif':['Helvetica']})\n",
    "rc('font',**{'family':'serif','serif':['CMR10']})\n",
    "rc('text', usetex=False)"
   ]
  },
  {
   "cell_type": "code",
   "execution_count": 130,
   "metadata": {
    "code_folding": [
     0
    ]
   },
   "outputs": [
    {
     "name": "stderr",
     "output_type": "stream",
     "text": [
      "/var/folders/1g/8szp6jr52h1byl43_1lx7zlm0000gn/T/ipykernel_78614/444684956.py:2: UserWarning: cmr10 font should ideally be used with mathtext, set axes.formatter.use_mathtext to True\n",
      "  fig, ax = plt.subplots(1,1, figsize=(10,5))\n"
     ]
    },
    {
     "data": {
      "image/png": "[encoded data removed]",
      "text/plain": [
       "<Figure size 720x360 with 1 Axes>"
      ]
     },
     "metadata": {
      "needs_background": "light"
     },
     "output_type": "display_data"
    }
   ],
   "source": [
    "# Plot evolution of objective function\n",
    "fig, ax = plt.subplots(1,1, figsize=(10,5))\n",
    "\n",
    "plt.ticklabel_format(style='plain', axis='x', useOffset=False)\n",
    "\n",
    "plt.plot(Rel_Obj_A[:,[1]],'-', alpha = 0.75, color='red')\n",
    "plt.plot(Rel_Obj_A[:,[5]],'-', alpha = 0.75, color='#94d2bd')\n",
    "plt.plot(Rel_Obj_A[:,[6]],'-', alpha = 0.75, color='#FEBA4F')\n",
    "\n",
    "plt.plot(Rel_Obj_B[:,[1]],'--', alpha = 0.5, linewidth=4, color='red')\n",
    "plt.plot(Rel_Obj_B[:,[5]],'--', alpha = 0.5, linewidth=4, color='#005f73')\n",
    "plt.plot(Rel_Obj_B[:,[6]],'--', alpha = 0.5, linewidth=4, color='#FEBA4F')\n",
    "\n",
    "ax.set_ylim(0.5,3.8)\n",
    "\n",
    "# Add more ticks in y-axis\n",
    "ax_base = [0, 0, 0]\n",
    "ax_val  = [1, 2, 3]\n",
    "ax_loc  = ax_val * 10.0**np.asarray(ax_base)\n",
    "ax_lbl  = [plt.Text(a[0], 0, '$\\\\mathdefault{10^{' + '{0}'.format(a[1]) + '}}$' )  if a[2] == 1 else \n",
    "           plt.Text(a[0], 0, '$\\\\mathdefault{' + '{}'.format(a[2]) +' \\\\times 10^{'+'{0}'.format(a[1]) +'}}$' )  \n",
    "           for a in zip(ax_loc, ax_base, ax_val) ]\n",
    "ax.set_yticks(ax_loc, ax_lbl, fontname='CMR10')\n",
    "\n",
    "#plt.title('Evolution of relaxed objective')\n",
    "plt.xlabel('Column generation iteration', fontname='CMR10');\n",
    "plt.ylabel('Values of objective relaxation', fontname='CMR10');\n",
    "plt.gca().xaxis.set_major_locator(mticker.MultipleLocator(1)); \n",
    "plt.xticks(np.unique(np.r_[np.arange(0,len(RelObj), 5)[:-1], [len(RelObj)]]), fontname='CMR10');\n",
    "\n",
    "\n",
    "\n",
    "\n",
    "plt.yscale('log')\n",
    "\n",
    "plt.grid('on', which = 'major', linewidth = 0.2)\n",
    "\n",
    "fig.savefig('Col_Gen_Curves.pdf', bbox_inches='tight', pad_inches=0)\n",
    "\n",
    "plt.show()\n",
    "# A pesar de obtener soluciones similares en la relajación, se observa que las soluciones enteras pueden diferir. En particular esto ocurre para el\n",
    "# caso que termina en la iteración 60"
   ]
  },
  {
   "cell_type": "markdown",
   "metadata": {},
   "source": [
    "---"
   ]
  }
 ],
 "metadata": {
  "kernelspec": {
   "display_name": "Python 3 (ipykernel)",
   "language": "python",
   "name": "python3"
  },
  "language_info": {
   "codemirror_mode": {
    "name": "ipython",
    "version": 3
   },
   "file_extension": ".py",
   "mimetype": "text/x-python",
   "name": "python",
   "nbconvert_exporter": "python",
   "pygments_lexer": "ipython3",
   "version": "3.9.13"
  },
  "nbTranslate": {
   "displayLangs": [
    "*"
   ],
   "hotkey": "alt-t",
   "langInMainMenu": true,
   "sourceLang": "en",
   "targetLang": "fr",
   "useGoogleTranslate": true
  }
 },
 "nbformat": 4,
 "nbformat_minor": 2
}
